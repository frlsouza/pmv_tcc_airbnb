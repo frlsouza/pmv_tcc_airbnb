{
 "cells": [
  {
   "source": [
    "## Importando bibliotecas"
   ],
   "cell_type": "markdown",
   "metadata": {}
  },
  {
   "cell_type": "code",
   "execution_count": 3,
   "metadata": {},
   "outputs": [],
   "source": [
    "import pandas as pd\n",
    "import numpy as np"
   ]
  },
  {
   "source": [
    "## Instanciando dataframes salvos anteriormente"
   ],
   "cell_type": "markdown",
   "metadata": {}
  },
  {
   "cell_type": "code",
   "execution_count": 4,
   "metadata": {},
   "outputs": [],
   "source": [
    "df_resultados = pd.read_csv('resultados.csv', index_col='id', engine='python', sep =',', encoding=\"utf-8\")"
   ]
  },
  {
   "cell_type": "code",
   "execution_count": 5,
   "metadata": {},
   "outputs": [],
   "source": [
    "df_listings = pd.read_csv('listings.csv', index_col='id', engine='python', sep =',', encoding=\"utf-8\")"
   ]
  },
  {
   "source": [
    "## Exibindo o ranking dos anúncios, ordenados pelo custo-benefício"
   ],
   "cell_type": "markdown",
   "metadata": {}
  },
  {
   "cell_type": "code",
   "execution_count": 6,
   "metadata": {},
   "outputs": [
    {
     "output_type": "execute_result",
     "data": {
      "text/plain": [
       "           ranking\n",
       "id                \n",
       "22124093  1.000000\n",
       "26701899  0.996752\n",
       "2132605   0.996645\n",
       "17718549  0.996624\n",
       "4510498   0.996537\n",
       "...            ...\n",
       "8825431   0.279402\n",
       "22610275  0.223217\n",
       "23819207  0.191760\n",
       "13166901  0.035630\n",
       "34507967  0.000000\n",
       "\n",
       "[700 rows x 1 columns]"
      ],
      "text/html": "<div>\n<style scoped>\n    .dataframe tbody tr th:only-of-type {\n        vertical-align: middle;\n    }\n\n    .dataframe tbody tr th {\n        vertical-align: top;\n    }\n\n    .dataframe thead th {\n        text-align: right;\n    }\n</style>\n<table border=\"1\" class=\"dataframe\">\n  <thead>\n    <tr style=\"text-align: right;\">\n      <th></th>\n      <th>ranking</th>\n    </tr>\n    <tr>\n      <th>id</th>\n      <th></th>\n    </tr>\n  </thead>\n  <tbody>\n    <tr>\n      <th>22124093</th>\n      <td>1.000000</td>\n    </tr>\n    <tr>\n      <th>26701899</th>\n      <td>0.996752</td>\n    </tr>\n    <tr>\n      <th>2132605</th>\n      <td>0.996645</td>\n    </tr>\n    <tr>\n      <th>17718549</th>\n      <td>0.996624</td>\n    </tr>\n    <tr>\n      <th>4510498</th>\n      <td>0.996537</td>\n    </tr>\n    <tr>\n      <th>...</th>\n      <td>...</td>\n    </tr>\n    <tr>\n      <th>8825431</th>\n      <td>0.279402</td>\n    </tr>\n    <tr>\n      <th>22610275</th>\n      <td>0.223217</td>\n    </tr>\n    <tr>\n      <th>23819207</th>\n      <td>0.191760</td>\n    </tr>\n    <tr>\n      <th>13166901</th>\n      <td>0.035630</td>\n    </tr>\n    <tr>\n      <th>34507967</th>\n      <td>0.000000</td>\n    </tr>\n  </tbody>\n</table>\n<p>700 rows × 1 columns</p>\n</div>"
     },
     "metadata": {},
     "execution_count": 6
    }
   ],
   "source": [
    "df_resultados[['ranking']][0:700]"
   ]
  },
  {
   "source": [
    "## Apresentando informações de um anúncio do ranking"
   ],
   "cell_type": "markdown",
   "metadata": {}
  },
  {
   "cell_type": "code",
   "execution_count": 7,
   "metadata": {},
   "outputs": [
    {
     "output_type": "stream",
     "name": "stdout",
     "text": [
      "id: 37883634\n\nlisting_url: https://www.airbnb.com/rooms/37883634\n\nscrape_id: 20191122092441\n\nlast_scraped: 2019-11-22\n\nname: Amazing Room! In the Heart of Copacabana!\n\nsummary: Apto. recém reformado no coração de Copacabana. Localizado a 15m do metro, 3 quadras da praia e todo acesso ao comércio. 2 quartos, ampla sala de estar/jantar, cozinha americana equipada e dois banheiros.\n\nspace: Prédio clássico com portaria 24h.  Possui 2 amplos quartos, um com cama de casal Box e outro com bicama Box para dois solteiros. Ampla sala de estar/jantar com sofá, TV de LED 47'' e wifi.  Cozinha equipada com balcão, armários, louças e talheres, geladeira, fogão e microondas.  Dois banheiros com aquecimento a gás, dispondo o principal de chuveiro, privada e ducha higiênica. Charming flat in the heart of Copacabana . Located 15m from Copacabana subway station, 3 small blocks from the beach (3 to 5 minutes walk), complete Access to local shops. It has 2 comfortable rooms , one double bed and two single bed. Big living/dining room with LED TV 47’’ and wifi. The kitchen is equipped with table, dishware, cutlery, fridge, cooker and microwave. One bathroom and one toilet, with gas water heating system. Classical building with 24h concierge. Oferecemos lençóis, travesseiros e toalhas. We provide bedding/linen/sheets/bath towels and pillows.\n\ndescription: Apto. recém reformado no coração de Copacabana. Localizado a 15m do metro, 3 quadras da praia e todo acesso ao comércio. 2 quartos, ampla sala de estar/jantar, cozinha americana equipada e dois banheiros. Prédio clássico com portaria 24h.  Possui 2 amplos quartos, um com cama de casal Box e outro com bicama Box para dois solteiros. Ampla sala de estar/jantar com sofá, TV de LED 47'' e wifi.  Cozinha equipada com balcão, armários, louças e talheres, geladeira, fogão e microondas.  Dois banheiros com aquecimento a gás, dispondo o principal de chuveiro, privada e ducha higiênica. Charming flat in the heart of Copacabana . Located 15m from Copacabana subway station, 3 small blocks from the beach (3 to 5 minutes walk), complete Access to local shops. It has 2 comfortable rooms , one double bed and two single bed. Big living/dining room with LED TV 47’’ and wifi. The kitchen is equipped with table, dishware, cutlery, fridge, cooker and microwave. One bathroom and one toilet, with gas water h\n\nexperiences_offered: none\n\nneighborhood_overview: Situado entre os postos 3 e 4.  Próximo a restaurantes, padarias, farmácias, supermercados e comércio em geral. The flat is located between the beach marks (postos) 3 and 4 and it’s close to restaurants, pubs, bakeries, pharmacies, markets and commerce in general. It stands 3 small blocks away from the beach (3 to 5 minutes walk) and one from the subway station (1 minute walk).\n\nnotes: nan\n\ntransit: One block from the subway Siqueira Campos station (1 minute walk).\n\naccess: nan\n\ninteraction: nan\n\nhouse_rules: nan\n\nthumbnail_url: nan\n\nmedium_url: nan\n\npicture_url: https://a0.muscache.com/im/pictures/40774756/4ab6d006_original.jpg?aki_policy=large\n\nxl_picture_url: nan\n\nhost_id: 3322499\n\nhost_url: https://www.airbnb.com/users/show/3322499\n\nhost_name: Tatiana\n\nhost_since: 2012-08-20\n\nhost_location: São Paulo, State of São Paulo, Brazil\n\nhost_about: Publicitária, casada, simpática e educada :D\n\nhost_response_time: within an hour\n\nhost_response_rate: 100%\n\nhost_acceptance_rate: nan\n\nhost_is_superhost: f\n\nhost_thumbnail_url: https://a0.muscache.com/im/users/3322499/profile_pic/1345507544/original.jpg?aki_policy=profile_small\n\nhost_picture_url: https://a0.muscache.com/im/users/3322499/profile_pic/1345507544/original.jpg?aki_policy=profile_x_medium\n\nhost_neighbourhood: nan\n\nhost_listings_count: 0.0\n\nhost_total_listings_count: 0.0\n\nhost_verifications: ['email', 'phone', 'facebook', 'reviews']\n\nhost_has_profile_pic: t\n\nhost_identity_verified: f\n\nstreet: Copacabana, State of Rio de Janeiro, Brazil\n\nneighbourhood: Copacabana\n\nneighbourhood_cleansed: Copacabana\n\nneighbourhood_group_cleansed: nan\n\ncity: Copacabana\n\nstate: State of Rio de Janeiro\n\nzipcode: 22031-112\n\nmarket: Rio de Janeiro\n\nsmart_location: Copacabana, Brazil\n\ncountry_code: BR\n\ncountry: Brazil\n\nlatitude: -22.96293\n\nlongitude: -43.190870000000004\n\nis_location_exact: f\n\nproperty_type: Apartment\n\nroom_type: Private room\n\naccommodates: 2\n\nbathrooms: 1.5\n\nbedrooms: 1.0\n\nbeds: 2.0\n\nbed_type: Real Bed\n\namenities: {TV,\"Cable TV\",Wifi,Kitchen,Doorman,Elevator,\"Buzzer/wireless intercom\",Washer,Essentials,\"Lock on bedroom door\",Hangers,\"Hair dryer\",\"Laptop friendly workspace\",\"Hot water\",\"Bed linens\"}\n\nsquare_feet: nan\n\nprice: $88.00\n\nweekly_price: nan\n\nmonthly_price: nan\n\nsecurity_deposit: $500.00\n\ncleaning_fee: $50.00\n\nguests_included: 1\n\nextra_people: $35.00\n\nminimum_nights: 1\n\nmaximum_nights: 1125\n\nminimum_minimum_nights: 1\n\nmaximum_minimum_nights: 1\n\nminimum_maximum_nights: 1125\n\nmaximum_maximum_nights: 1125\n\nminimum_nights_avg_ntm: 1.0\n\nmaximum_nights_avg_ntm: 1125.0\n\ncalendar_updated: 2 months ago\n\nhas_availability: t\n\navailability_30: 21\n\navailability_60: 21\n\navailability_90: 21\n\navailability_365: 286\n\ncalendar_last_scraped: 2019-11-22\n\nnumber_of_reviews: 2\n\nnumber_of_reviews_ltm: 2\n\nfirst_review: 2019-10-04\n\nlast_review: 2019-10-08\n\nreview_scores_rating: 100.0\n\nreview_scores_accuracy: 10.0\n\nreview_scores_cleanliness: 10.0\n\nreview_scores_checkin: 10.0\n\nreview_scores_communication: 10.0\n\nreview_scores_location: 9.0\n\nreview_scores_value: 10.0\n\nrequires_license: f\n\nlicense: nan\n\njurisdiction_names: nan\n\ninstant_bookable: f\n\nis_business_travel_ready: f\n\ncancellation_policy: strict_14_with_grace_period\n\nrequire_guest_profile_picture: f\n\nrequire_guest_phone_verification: f\n\ncalculated_host_listings_count: 2\n\ncalculated_host_listings_count_entire_homes: 0\n\ncalculated_host_listings_count_private_rooms: 2\n\ncalculated_host_listings_count_shared_rooms: 0\n\nreviews_per_month: 1.2\n\n"
     ]
    }
   ],
   "source": [
    "id_do_anuncio = 37883634\n",
    "anuncio = df_listings[df_listings.index == id_do_anuncio]\n",
    "print(df_listings.index.name + ': ' + str(id_do_anuncio) + '\\n')\n",
    "for coluna in anuncio:\n",
    "    print(coluna + ': ' + str(df_listings.loc[id_do_anuncio, coluna]) + '\\n')"
   ]
  },
  {
   "source": [
    "## Futuras evoluções possíveis"
   ],
   "cell_type": "markdown",
   "metadata": {}
  },
  {
   "source": [
    "##### Avanço na otimização dos hiper-parâmetros dos modelos Sci-kit Learn.\n",
    "##### Disponibilização dos resultados numa API-REST em Flask.\n",
    "##### Geração de dashboards com análises aprofundadas e multi-dimensionais.\n",
    "##### E mais..."
   ],
   "cell_type": "markdown",
   "metadata": {}
  }
 ],
 "metadata": {
  "kernelspec": {
   "display_name": "Python 3",
   "language": "python",
   "name": "python3"
  },
  "language_info": {
   "codemirror_mode": {
    "name": "ipython",
    "version": 3
   },
   "file_extension": ".py",
   "mimetype": "text/x-python",
   "name": "python",
   "nbconvert_exporter": "python",
   "pygments_lexer": "ipython3",
   "version": "3.8.3-final"
  }
 },
 "nbformat": 4,
 "nbformat_minor": 4
}