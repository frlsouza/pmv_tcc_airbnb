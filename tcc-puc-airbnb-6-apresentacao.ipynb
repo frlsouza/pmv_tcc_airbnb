{
 "cells": [
  {
   "cell_type": "markdown",
   "metadata": {},
   "source": [
    "## Importando bibliotecas"
   ]
  },
  {
   "cell_type": "code",
   "execution_count": 2,
   "metadata": {},
   "outputs": [],
   "source": [
    "import pandas as pd\n",
    "import numpy as np"
   ]
  },
  {
   "cell_type": "markdown",
   "metadata": {},
   "source": [
    "## Instanciando dataframes salvos anteriormente"
   ]
  },
  {
   "cell_type": "code",
   "execution_count": 3,
   "metadata": {},
   "outputs": [],
   "source": [
    "df_resultados = pd.read_csv('resultados.csv', index_col='id', engine='python', sep =',', encoding=\"utf-8\")"
   ]
  },
  {
   "cell_type": "code",
   "execution_count": 4,
   "metadata": {},
   "outputs": [],
   "source": [
    "df_listings = pd.read_csv('listings.csv', index_col='id', engine='python', sep =',', encoding=\"utf-8\")"
   ]
  },
  {
   "cell_type": "markdown",
   "metadata": {},
   "source": [
    "## Exibindo o ranking dos anúncios, ordenados pelo custo-benefício"
   ]
  },
  {
   "cell_type": "code",
   "execution_count": 5,
   "metadata": {},
   "outputs": [
    {
     "output_type": "execute_result",
     "data": {
      "text/plain": [
       "           ranking\n",
       "id                \n",
       "25953323  0.999825\n",
       "7626969   0.999752\n",
       "5325370   0.999465\n",
       "32671767  0.999378\n",
       "34564320  0.999208\n",
       "...            ...\n",
       "3197436   0.445172\n",
       "31960056  0.441379\n",
       "12863588  0.294097\n",
       "30744239  0.069514\n",
       "32655506  0.000000\n",
       "\n",
       "[700 rows x 1 columns]"
      ],
      "text/html": "<div>\n<style scoped>\n    .dataframe tbody tr th:only-of-type {\n        vertical-align: middle;\n    }\n\n    .dataframe tbody tr th {\n        vertical-align: top;\n    }\n\n    .dataframe thead th {\n        text-align: right;\n    }\n</style>\n<table border=\"1\" class=\"dataframe\">\n  <thead>\n    <tr style=\"text-align: right;\">\n      <th></th>\n      <th>ranking</th>\n    </tr>\n    <tr>\n      <th>id</th>\n      <th></th>\n    </tr>\n  </thead>\n  <tbody>\n    <tr>\n      <th>25953323</th>\n      <td>0.999825</td>\n    </tr>\n    <tr>\n      <th>7626969</th>\n      <td>0.999752</td>\n    </tr>\n    <tr>\n      <th>5325370</th>\n      <td>0.999465</td>\n    </tr>\n    <tr>\n      <th>32671767</th>\n      <td>0.999378</td>\n    </tr>\n    <tr>\n      <th>34564320</th>\n      <td>0.999208</td>\n    </tr>\n    <tr>\n      <th>...</th>\n      <td>...</td>\n    </tr>\n    <tr>\n      <th>3197436</th>\n      <td>0.445172</td>\n    </tr>\n    <tr>\n      <th>31960056</th>\n      <td>0.441379</td>\n    </tr>\n    <tr>\n      <th>12863588</th>\n      <td>0.294097</td>\n    </tr>\n    <tr>\n      <th>30744239</th>\n      <td>0.069514</td>\n    </tr>\n    <tr>\n      <th>32655506</th>\n      <td>0.000000</td>\n    </tr>\n  </tbody>\n</table>\n<p>700 rows × 1 columns</p>\n</div>"
     },
     "metadata": {},
     "execution_count": 5
    }
   ],
   "source": [
    "df_resultados[['ranking']][0:700]"
   ]
  },
  {
   "cell_type": "markdown",
   "metadata": {},
   "source": [
    "## Apresentando informações de um anúncio do ranking"
   ]
  },
  {
   "cell_type": "code",
   "execution_count": 6,
   "metadata": {},
   "outputs": [
    {
     "output_type": "stream",
     "name": "stdout",
     "text": [
      "id: 25953323\n\nlisting_url: https://www.airbnb.com/rooms/25953323\n\nscrape_id: 20191122092441\n\nlast_scraped: 2019-11-22\n\nname: Beautiful Beach Apt. with View in Barra da Tijuca\n\nsummary: Accommodation for 4 people in Excellent Location...Beach front community/condominium. Beautiful and modern and fully equipped apartment with 1 Bedroom, 1 Full Bathroom, 1 Half Bathroom, kitchen, living room with amazing water views, 2 new AC units, Building has swimming pool,  parking, 24 hrs security, Apple TV.\n\nspace: Amazing Water View of Canal de Marapendi.  Only steps away from the Beach, \"Padaria\" our famous Bakeries, Restaurants, Beauty Salons, Shops, and much more (All inside the Community of Alfa Barra). Very close to the local spots for surfing.\n\ndescription: Accommodation for 4 people in Excellent Location...Beach front community/condominium. Beautiful and modern and fully equipped apartment with 1 Bedroom, 1 Full Bathroom, 1 Half Bathroom, kitchen, living room with amazing water views, 2 new AC units, Building has swimming pool,  parking, 24 hrs security, Apple TV. Amazing Water View of Canal de Marapendi.  Only steps away from the Beach, \"Padaria\" our famous Bakeries, Restaurants, Beauty Salons, Shops, and much more (All inside the Community of Alfa Barra). Very close to the local spots for surfing. I give my guests privacy, but remain available at their convenience. Barra da Tijuca is a new area in Rio de Janeiro, with lots of Shopping Center,  Big beautiful Beach, Perfect for Surfing. Barra is full of Life! Plenty of restaurants, bars, lounges, clubs. Near 5 Star Hotels. Close to Alvorada Station (which is the final station from our modern transportation directly from the airport, \"BRT\").\n\nexperiences_offered: none\n\nneighborhood_overview: Barra da Tijuca is a new area in Rio de Janeiro, with lots of Shopping Center,  Big beautiful Beach, Perfect for Surfing. Barra is full of Life! Plenty of restaurants, bars, lounges, clubs. Near 5 Star Hotels.\n\nnotes: nan\n\ntransit: Close to Alvorada Station (which is the final station from our modern transportation directly from the airport, \"BRT\").\n\naccess: nan\n\ninteraction: I give my guests privacy, but remain available at their convenience.\n\nhouse_rules: nan\n\nthumbnail_url: nan\n\nmedium_url: nan\n\npicture_url: https://a0.muscache.com/im/pictures/16daa938-6e96-4eb0-9e3d-2134c045f85d.jpg?aki_policy=large\n\nxl_picture_url: nan\n\nhost_id: 92188618\n\nhost_url: https://www.airbnb.com/users/show/92188618\n\nhost_name: Lana\n\nhost_since: 2016-08-27\n\nhost_location: San Juan, San Juan, Puerto Rico\n\nhost_about: Business woman, very dedicated mother, love to help, generous and very friendly. Welcome to my place! \n\nhost_response_time: within an hour\n\nhost_response_rate: 100%\n\nhost_acceptance_rate: nan\n\nhost_is_superhost: f\n\nhost_thumbnail_url: https://a0.muscache.com/im/pictures/user/68dd7ff3-c7ca-4b23-9410-f3046bce8da2.jpg?aki_policy=profile_small\n\nhost_picture_url: https://a0.muscache.com/im/pictures/user/68dd7ff3-c7ca-4b23-9410-f3046bce8da2.jpg?aki_policy=profile_x_medium\n\nhost_neighbourhood: Barra da Tijuca\n\nhost_listings_count: 9.0\n\nhost_total_listings_count: 9.0\n\nhost_verifications: ['email', 'phone', 'facebook', 'reviews', 'jumio', 'offline_government_id', 'government_id']\n\nhost_has_profile_pic: t\n\nhost_identity_verified: t\n\nstreet: Barra da Tijuca, Rio de Janeiro, Brazil\n\nneighbourhood: Barra da Tijuca\n\nneighbourhood_cleansed: Barra da Tijuca\n\nneighbourhood_group_cleansed: nan\n\ncity: Barra da Tijuca\n\nstate: Rio de Janeiro\n\nzipcode: 22775-003\n\nmarket: Rio De Janeiro\n\nsmart_location: Barra da Tijuca, Brazil\n\ncountry_code: BR\n\ncountry: Brazil\n\nlatitude: -23.009529999999998\n\nlongitude: -43.3656\n\nis_location_exact: t\n\nproperty_type: Apartment\n\nroom_type: Entire home/apt\n\naccommodates: 3\n\nbathrooms: 1.5\n\nbedrooms: 1.0\n\nbeds: 2.0\n\nbed_type: Real Bed\n\namenities: {TV,Wifi,\"Air conditioning\",Pool,Kitchen,\"Free parking on premises\",Elevator,\"Free street parking\",Heating,\"Smoke detector\",\"Carbon monoxide detector\",\"Fire extinguisher\",Essentials,Shampoo,Hangers,\"Hair dryer\",Iron,\"Laptop friendly workspace\",\"Private entrance\",\"Hot water\",\"Bed linens\",\"Extra pillows and blankets\",\"Coffee maker\",Refrigerator,\"Dishes and silverware\",\"Cooking basics\",Stove,\"Host greets you\",Waterfront,Beachfront}\n\nsquare_feet: nan\n\nprice: $197.00\n\nweekly_price: nan\n\nmonthly_price: nan\n\nsecurity_deposit: $1,050.00\n\ncleaning_fee: $210.00\n\nguests_included: 3\n\nextra_people: $42.00\n\nminimum_nights: 2\n\nmaximum_nights: 60\n\nminimum_minimum_nights: 2\n\nmaximum_minimum_nights: 2\n\nminimum_maximum_nights: 60\n\nmaximum_maximum_nights: 60\n\nminimum_nights_avg_ntm: 2.0\n\nmaximum_nights_avg_ntm: 60.0\n\ncalendar_updated: 5 days ago\n\nhas_availability: t\n\navailability_30: 30\n\navailability_60: 47\n\navailability_90: 58\n\navailability_365: 58\n\ncalendar_last_scraped: 2019-11-22\n\nnumber_of_reviews: 10\n\nnumber_of_reviews_ltm: 10\n\nfirst_review: 2019-01-31\n\nlast_review: 2019-11-11\n\nreview_scores_rating: 88.0\n\nreview_scores_accuracy: 10.0\n\nreview_scores_cleanliness: 9.0\n\nreview_scores_checkin: 10.0\n\nreview_scores_communication: 10.0\n\nreview_scores_location: 9.0\n\nreview_scores_value: 9.0\n\nrequires_license: f\n\nlicense: nan\n\njurisdiction_names: nan\n\ninstant_bookable: t\n\nis_business_travel_ready: f\n\ncancellation_policy: moderate\n\nrequire_guest_profile_picture: f\n\nrequire_guest_phone_verification: f\n\ncalculated_host_listings_count: 1\n\ncalculated_host_listings_count_entire_homes: 1\n\ncalculated_host_listings_count_private_rooms: 0\n\ncalculated_host_listings_count_shared_rooms: 0\n\nreviews_per_month: 1.01\n\n"
     ]
    }
   ],
   "source": [
    "id_do_anuncio = 25953323\n",
    "anuncio = df_listings[df_listings.index == id_do_anuncio]\n",
    "print(df_listings.index.name + ': ' + str(id_do_anuncio) + '\\n')\n",
    "for coluna in anuncio:\n",
    "    print(coluna + ': ' + str(df_listings.loc[id_do_anuncio, coluna]) + '\\n')"
   ]
  },
  {
   "cell_type": "markdown",
   "metadata": {},
   "source": [
    "## Futuras evoluções possíveis\n",
    "##### Avanço na otimização dos hiper-parâmetros dos modelos Scikit-Learn.\n",
    "##### Disponibilização dos resultados numa API-REST em Flask.\n",
    "##### Geração de dashboards com análises aprofundadas e multi-dimensionais.\n",
    "##### E mais..."
   ]
  },
  {
   "cell_type": "code",
   "execution_count": null,
   "metadata": {},
   "outputs": [],
   "source": []
  }
 ],
 "metadata": {
  "kernelspec": {
   "display_name": "Python 3",
   "language": "python",
   "name": "python3"
  },
  "language_info": {
   "codemirror_mode": {
    "name": "ipython",
    "version": 3
   },
   "file_extension": ".py",
   "mimetype": "text/x-python",
   "name": "python",
   "nbconvert_exporter": "python",
   "pygments_lexer": "ipython3",
   "version": "3.8.3-final"
  }
 },
 "nbformat": 4,
 "nbformat_minor": 4
}