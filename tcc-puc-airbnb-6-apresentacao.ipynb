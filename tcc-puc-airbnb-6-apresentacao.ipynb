{
 "cells": [
  {
   "cell_type": "markdown",
   "metadata": {},
   "source": [
    "## Importando bibliotecas"
   ]
  },
  {
   "cell_type": "code",
   "execution_count": 1,
   "metadata": {},
   "outputs": [],
   "source": [
    "import pandas as pd\n",
    "import numpy as np"
   ]
  },
  {
   "cell_type": "markdown",
   "metadata": {},
   "source": [
    "## Instanciando dataframes salvos anteriormente"
   ]
  },
  {
   "cell_type": "code",
   "execution_count": 2,
   "metadata": {},
   "outputs": [],
   "source": [
    "df_resultados = pd.read_csv('resultados.csv', index_col='id', engine='python', sep =',', encoding=\"utf-8\")"
   ]
  },
  {
   "cell_type": "code",
   "execution_count": 3,
   "metadata": {},
   "outputs": [],
   "source": [
    "df_listings = pd.read_csv('listings.csv', index_col='id', engine='python', sep =',', encoding=\"utf-8\")"
   ]
  },
  {
   "cell_type": "markdown",
   "metadata": {},
   "source": [
    "## Exibindo o ranking dos anúncios, ordenados pelo custo-benefício"
   ]
  },
  {
   "cell_type": "code",
   "execution_count": 4,
   "metadata": {},
   "outputs": [
    {
     "output_type": "execute_result",
     "data": {
      "text/plain": [
       "           ranking\n",
       "id                \n",
       "10151402  0.999323\n",
       "3532589   0.999323\n",
       "2361521   0.999044\n",
       "22602640  0.998592\n",
       "9903460   0.998116\n",
       "...            ...\n",
       "34507967  0.383524\n",
       "23819207  0.374195\n",
       "2325943   0.255690\n",
       "22610275  0.237945\n",
       "13166901  0.000000\n",
       "\n",
       "[700 rows x 1 columns]"
      ],
      "text/html": "<div>\n<style scoped>\n    .dataframe tbody tr th:only-of-type {\n        vertical-align: middle;\n    }\n\n    .dataframe tbody tr th {\n        vertical-align: top;\n    }\n\n    .dataframe thead th {\n        text-align: right;\n    }\n</style>\n<table border=\"1\" class=\"dataframe\">\n  <thead>\n    <tr style=\"text-align: right;\">\n      <th></th>\n      <th>ranking</th>\n    </tr>\n    <tr>\n      <th>id</th>\n      <th></th>\n    </tr>\n  </thead>\n  <tbody>\n    <tr>\n      <th>10151402</th>\n      <td>0.999323</td>\n    </tr>\n    <tr>\n      <th>3532589</th>\n      <td>0.999323</td>\n    </tr>\n    <tr>\n      <th>2361521</th>\n      <td>0.999044</td>\n    </tr>\n    <tr>\n      <th>22602640</th>\n      <td>0.998592</td>\n    </tr>\n    <tr>\n      <th>9903460</th>\n      <td>0.998116</td>\n    </tr>\n    <tr>\n      <th>...</th>\n      <td>...</td>\n    </tr>\n    <tr>\n      <th>34507967</th>\n      <td>0.383524</td>\n    </tr>\n    <tr>\n      <th>23819207</th>\n      <td>0.374195</td>\n    </tr>\n    <tr>\n      <th>2325943</th>\n      <td>0.255690</td>\n    </tr>\n    <tr>\n      <th>22610275</th>\n      <td>0.237945</td>\n    </tr>\n    <tr>\n      <th>13166901</th>\n      <td>0.000000</td>\n    </tr>\n  </tbody>\n</table>\n<p>700 rows × 1 columns</p>\n</div>"
     },
     "metadata": {},
     "execution_count": 4
    }
   ],
   "source": [
    "df_resultados[['ranking']][0:700]"
   ]
  },
  {
   "cell_type": "markdown",
   "metadata": {},
   "source": [
    "## Apresentando informações de um anúncio do ranking"
   ]
  },
  {
   "cell_type": "code",
   "execution_count": 6,
   "metadata": {},
   "outputs": [
    {
     "output_type": "stream",
     "name": "stdout",
     "text": [
      "id: 10151402\n\nlisting_url: https://www.airbnb.com/rooms/10151402\n\nscrape_id: 20191122092441\n\nlast_scraped: 2019-11-22\n\nname: Copacabana - 2 qtos no Posto 6\n\nsummary: Apartamento de 2 qtos em prédio familiar com elevador e porteiro 24 horas. Excelente localização, a 2 quadras da praia, no posto 6,  próximo ao Forte de Copacabana, Arpoador e Ipanema.\n\nspace: Apartamento de 2 qts a  2 quadras da praia com elevador, interfone, telefone fixo e porteiro 24 horas. Excelente localização, próximo ao Forte de Copacabana e Arpoador . A cozinha bem equipada, com microondas e todos os utensíllhos domestico. O quarto principal possui 01 cama de casal e 01 bicama (cama de solteiro + cama auxiliar). Esse quarto possui Tv a cabo, ar condicionado (7.500 BTU) e um ventilador de teto. O 2o. qto de tamanho reduzido (reversível), onde possui 01 bicama (cama de solteiro + cama auxiliar) e ventilador de teto. O apartamento acomoda confortavelmente 6 pessoas em camas. O prédio é tranquilo e super familiar. Ideal para as férias em família. Estarei a sua disposição para ajudar no que for possível! Localização privilegiada, a duas quadras da praia. Perto de restaurantes, farmácias, mercados, bancos, táxis, ônibus e metro. Perfeito para aproveitar as férias com a família. Para os períodos de Reveillon, Carnaval, Olimpíadas e feriados nacionais, os preços serão difer\n\ndescription: Apartamento de 2 qtos em prédio familiar com elevador e porteiro 24 horas. Excelente localização, a 2 quadras da praia, no posto 6,  próximo ao Forte de Copacabana, Arpoador e Ipanema. Apartamento de 2 qts a  2 quadras da praia com elevador, interfone, telefone fixo e porteiro 24 horas. Excelente localização, próximo ao Forte de Copacabana e Arpoador . A cozinha bem equipada, com microondas e todos os utensíllhos domestico. O quarto principal possui 01 cama de casal e 01 bicama (cama de solteiro + cama auxiliar). Esse quarto possui Tv a cabo, ar condicionado (7.500 BTU) e um ventilador de teto. O 2o. qto de tamanho reduzido (reversível), onde possui 01 bicama (cama de solteiro + cama auxiliar) e ventilador de teto. O apartamento acomoda confortavelmente 6 pessoas em camas. O prédio é tranquilo e super familiar. Ideal para as férias em família. Estarei a sua disposição para ajudar no que for possível! Localização privilegiada, a duas quadras da praia. Perto de restaurantes, farmácias, m\n\nexperiences_offered: none\n\nneighborhood_overview: nan\n\nnotes: nan\n\ntransit: nan\n\naccess: Internet wifi, Tv a cabo (2) , ar condicionado (no quarto principal), ventiladores de teto (quartos e sala), cozinha completa, roupas de cama, travesseiros, cobertores e toalhas de banho fornecidas pelo anfitrião sem nenhum custo adicional.\n\ninteraction: nan\n\nhouse_rules: 1 - SEJA BEM VINDO Esse apartamento foi preparado com muito carinho! Para você se sentir em casa e aproveitar ao máximo suas férias. Por tanto sinta-se em casa e cuide dela como se fosse sua! Para sua própria segurança, não esqueça de desligar as luzes, ventiladores e ar condicionado, sempre que sair do apartamento. 2 - A CHEGADA DA PRAIA Por favor limpem a areia da praia no lava-pés que fica na entrada de serviço do prédio e mantenham as roupas e toalhas molhadas, com sal ou areia na área de serviço do apartamento. 3 - BARULHO Como o prédio é residencial, respeite a lei do silêncio ( 22:00 ás 8:00). Não é permitido festas, barulho ou música alta no apartamento após às 22h. 4 - QUANTIDADE DE HOSPEDES O Número de pessoas deve ser indicado no pedido de reserva. O limite máximo do apartamento é de 06 hospedes. Adicionar mais hóspedes após a reserva, só será permitido se for acordado com o proprietário.  5 - FUMANTES Não é permitido fumar no apartamento e solicitamos aos hóspedes que fumem\n\nthumbnail_url: nan\n\nmedium_url: nan\n\npicture_url: https://a0.muscache.com/im/pictures/a79e5ef7-b326-47e9-856b-984f861c2000.jpg?aki_policy=large\n\nxl_picture_url: nan\n\nhost_id: 8336295\n\nhost_url: https://www.airbnb.com/users/show/8336295\n\nhost_name: Lucia\n\nhost_since: 2013-08-22\n\nhost_location: Rio de Janeiro, State of Rio de Janeiro, Brazil\n\nhost_about: I really enjoy being Airbnb hosts, as I love to meet new people. I've put a lot of my time into making my apartment in a welcoming place for my guests and I try as much as possible to gave them a wonderful time here in Rio.\nSend me a message! I am looking forward to meeting you and having you as my guest.\n\n\n\n\n\n\nhost_response_time: within an hour\n\nhost_response_rate: 100%\n\nhost_acceptance_rate: nan\n\nhost_is_superhost: t\n\nhost_thumbnail_url: https://a0.muscache.com/im/pictures/user/8fc9620a-c3d0-4801-8075-c0d71b3b8265.jpg?aki_policy=profile_small\n\nhost_picture_url: https://a0.muscache.com/im/pictures/user/8fc9620a-c3d0-4801-8075-c0d71b3b8265.jpg?aki_policy=profile_x_medium\n\nhost_neighbourhood: Copacabana\n\nhost_listings_count: 2.0\n\nhost_total_listings_count: 2.0\n\nhost_verifications: ['email', 'phone', 'facebook', 'reviews', 'jumio', 'government_id']\n\nhost_has_profile_pic: t\n\nhost_identity_verified: t\n\nstreet: Rio de Janeiro, Rio de Janeiro, Brazil\n\nneighbourhood: Copacabana\n\nneighbourhood_cleansed: Copacabana\n\nneighbourhood_group_cleansed: nan\n\ncity: Rio de Janeiro\n\nstate: Rio de Janeiro\n\nzipcode: 22081\n\nmarket: Rio De Janeiro\n\nsmart_location: Rio de Janeiro, Brazil\n\ncountry_code: BR\n\ncountry: Brazil\n\nlatitude: -22.98488\n\nlongitude: -43.192890000000006\n\nis_location_exact: f\n\nproperty_type: Apartment\n\nroom_type: Entire home/apt\n\naccommodates: 6\n\nbathrooms: 1.5\n\nbedrooms: 2.0\n\nbeds: 5.0\n\nbed_type: Real Bed\n\namenities: {TV,\"Cable TV\",Internet,Wifi,\"Air conditioning\",Kitchen,Doorman,Elevator,\"Buzzer/wireless intercom\",\"Family/kid friendly\",Essentials,\"24-hour check-in\",Hangers,Iron,\"Self check-in\",\"Building staff\",\"Hot water\",\"Bed linens\",Microwave,\"Coffee maker\",Refrigerator,\"Dishes and silverware\",\"Cooking basics\",Oven,Stove,\"Luggage dropoff allowed\",\"Long term stays allowed\"}\n\nsquare_feet: nan\n\nprice: $281.00\n\nweekly_price: nan\n\nmonthly_price: nan\n\nsecurity_deposit: $500.00\n\ncleaning_fee: $200.00\n\nguests_included: 7\n\nextra_people: $0.00\n\nminimum_nights: 3\n\nmaximum_nights: 89\n\nminimum_minimum_nights: 3\n\nmaximum_minimum_nights: 8\n\nminimum_maximum_nights: 1125\n\nmaximum_maximum_nights: 1125\n\nminimum_nights_avg_ntm: 3.3\n\nmaximum_nights_avg_ntm: 1125.0\n\ncalendar_updated: today\n\nhas_availability: t\n\navailability_30: 21\n\navailability_60: 30\n\navailability_90: 41\n\navailability_365: 53\n\ncalendar_last_scraped: 2019-11-22\n\nnumber_of_reviews: 11\n\nnumber_of_reviews_ltm: 5\n\nfirst_review: 2016-01-31\n\nlast_review: 2019-11-12\n\nreview_scores_rating: 96.0\n\nreview_scores_accuracy: 10.0\n\nreview_scores_cleanliness: 10.0\n\nreview_scores_checkin: 10.0\n\nreview_scores_communication: 10.0\n\nreview_scores_location: 9.0\n\nreview_scores_value: 10.0\n\nrequires_license: f\n\nlicense: nan\n\njurisdiction_names: nan\n\ninstant_bookable: t\n\nis_business_travel_ready: f\n\ncancellation_policy: strict_14_with_grace_period\n\nrequire_guest_profile_picture: f\n\nrequire_guest_phone_verification: f\n\ncalculated_host_listings_count: 2\n\ncalculated_host_listings_count_entire_homes: 2\n\ncalculated_host_listings_count_private_rooms: 0\n\ncalculated_host_listings_count_shared_rooms: 0\n\nreviews_per_month: 0.24\n\n"
     ]
    }
   ],
   "source": [
    "id_do_anuncio = 10151402\n",
    "anuncio = df_listings[df_listings.index == id_do_anuncio]\n",
    "print(df_listings.index.name + ': ' + str(id_do_anuncio) + '\\n')\n",
    "for coluna in anuncio:\n",
    "    print(coluna + ': ' + str(df_listings.loc[id_do_anuncio, coluna]) + '\\n')"
   ]
  },
  {
   "cell_type": "markdown",
   "metadata": {},
   "source": [
    "## Futuras evoluções possíveis\n",
    "##### Avanço na otimização dos hiper-parâmetros dos modelos Sci-kit Learn.\n",
    "##### Disponibilização dos resultados numa API-REST em Flask.\n",
    "##### Geração de dashboards com análises aprofundadas e multi-dimensionais.\n",
    "##### E mais..."
   ]
  },
  {
   "cell_type": "code",
   "execution_count": null,
   "metadata": {},
   "outputs": [],
   "source": []
  }
 ],
 "metadata": {
  "kernelspec": {
   "display_name": "Python 3",
   "language": "python",
   "name": "python3"
  },
  "language_info": {
   "codemirror_mode": {
    "name": "ipython",
    "version": 3
   },
   "file_extension": ".py",
   "mimetype": "text/x-python",
   "name": "python",
   "nbconvert_exporter": "python",
   "pygments_lexer": "ipython3",
   "version": "3.8.3-final"
  }
 },
 "nbformat": 4,
 "nbformat_minor": 4
}