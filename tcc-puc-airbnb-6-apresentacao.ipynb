{
 "cells": [
  {
   "cell_type": "markdown",
   "metadata": {},
   "source": [
    "## Importando bibliotecas"
   ]
  },
  {
   "cell_type": "code",
   "execution_count": 101,
   "metadata": {},
   "outputs": [],
   "source": [
    "import pandas as pd\n",
    "import numpy as np\n",
    "from flask import Flask, render_template, jsonify\n",
    "import webbrowser"
   ]
  },
  {
   "cell_type": "markdown",
   "metadata": {},
   "source": [
    "## Instanciando dataframes salvos anteriormente"
   ]
  },
  {
   "cell_type": "code",
   "execution_count": 102,
   "metadata": {},
   "outputs": [],
   "source": [
    "df_resultados = pd.read_csv('resultados.csv', index_col='id', engine='python', sep =',', encoding=\"utf-8\")\n",
    "df_listings = pd.read_csv('listings.csv', index_col='id', engine='python', sep =',', encoding=\"utf-8\")\n",
    "df_resultados['bedrooms'] = df_resultados['bedrooms'].astype(int)"
   ]
  },
  {
   "cell_type": "markdown",
   "metadata": {},
   "source": [
    "## Criando a API de exibição dos resultados"
   ]
  },
  {
   "cell_type": "code",
   "execution_count": 103,
   "metadata": {},
   "outputs": [],
   "source": [
    "app = Flask(__name__)\n",
    "\n",
    "@app.route(\"/\")\n",
    "def raiz():\n",
    "    result = \"Raiz da aplicação\"\n",
    "    return result\n",
    "\n",
    "@app.route(\"/bigdeal\")\n",
    "def home():\n",
    "    apresentacao = '<html><head><meta charset=\"utf-8\"></head><body>'\n",
    "    apresentacao += \"<p>Big Deal: Encontrando hospedagens com os melhores custos-benefícios</p>\"\n",
    "    apresentacao += \"<p>Sintaxe: bigdeal/bairro desejado/quantidade de dormitórios/posição no ranking</p>\"\n",
    "    apresentacao += '</body></html>'\n",
    "    return apresentacao\n",
    "\n",
    "@app.route(\"/bigdeal/<bairro>/<dormitorios>/<posicao>\")\n",
    "def apresentacao(bairro, dormitorios, posicao):\n",
    "    bairro = str(bairro)\n",
    "    dormitorios = str(dormitorios)\n",
    "    posicao = str(posicao)\n",
    "\n",
    "    df_apresentacao = df_resultados.query('neighbourhood == \"'+bairro+'\" and bedrooms == \"'+dormitorios+'\"')\n",
    "    df_apresentacao.reset_index(inplace=True)\n",
    "    df_apresentacao.index += 1\n",
    "\n",
    "    id_do_anuncio = df_apresentacao['id'][int(posicao)]\n",
    "    anuncio = df_listings[df_listings.index == id_do_anuncio]\n",
    "    apresentacao = '<html><head><meta charset=\"utf-8\"></head><body>'\n",
    "    apresentacao += '<p>' + df_listings.index.name + ': ' + str(id_do_anuncio) + '</p>'\n",
    "    for coluna in anuncio:\n",
    "        if coluna == 'listing_url':\n",
    "            url = str(df_listings.loc[id_do_anuncio, coluna])\n",
    "            apresentacao += '<p>' + coluna + ': ' + '<a href=\"' + url + '\">' + url + '</a>' + '</p>'\n",
    "        else:\n",
    "            apresentacao += '<p>' + coluna + ': ' + str(df_listings.loc[id_do_anuncio, coluna]) + '</p>'\n",
    "    apresentacao += '</body></html>'\n",
    "    return apresentacao"
   ]
  },
  {
   "cell_type": "markdown",
   "metadata": {},
   "source": [
    "## Instanciando a API de exibição dos resultados"
   ]
  },
  {
   "cell_type": "code",
   "execution_count": 99,
   "metadata": {},
   "outputs": [
    {
     "output_type": "stream",
     "name": "stdout",
     "text": [
      " * Serving Flask app \"__main__\" (lazy loading)\n",
      " * Environment: production\n",
      "   WARNING: This is a development server. Do not use it in a production deployment.\n",
      "   Use a production WSGI server instead.\n",
      " * Debug mode: off\n",
      " * Running on http://0.0.0.0:5000/ (Press CTRL+C to quit)\n",
      "127.0.0.1 - - [05/Feb/2021 08:41:45] \"\u001b[37mGET /bigdeal HTTP/1.1\u001b[0m\" 200 -\n",
      "127.0.0.1 - - [05/Feb/2021 08:41:53] \"\u001b[37mGET /bigdeal/Copacabana/2/1 HTTP/1.1\u001b[0m\" 200 -\n"
     ]
    }
   ],
   "source": [
    "if __name__ == \"__main__\":\n",
    "    url = \"http://localhost:5000/bigdeal\"\n",
    "    webbrowser.open_new(url)\n",
    "    app.run(host='0.0.0.0')"
   ]
  },
  {
   "cell_type": "code",
   "execution_count": null,
   "metadata": {},
   "outputs": [],
   "source": []
  }
 ],
 "metadata": {
  "kernelspec": {
   "display_name": "Python 3",
   "language": "python",
   "name": "python3"
  },
  "language_info": {
   "codemirror_mode": {
    "name": "ipython",
    "version": 3
   },
   "file_extension": ".py",
   "mimetype": "text/x-python",
   "name": "python",
   "nbconvert_exporter": "python",
   "pygments_lexer": "ipython3",
   "version": "3.8.3-final"
  }
 },
 "nbformat": 4,
 "nbformat_minor": 4
}