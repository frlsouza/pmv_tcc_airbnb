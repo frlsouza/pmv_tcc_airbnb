{
 "cells": [
  {
   "cell_type": "code",
   "execution_count": 51,
   "metadata": {},
   "outputs": [],
   "source": [
    "import pandas as pd\n",
    "import numpy as np\n",
    "import matplotlib.pyplot as plt\n",
    "import seaborn as sns\n",
    "from sklearn.model_selection import train_test_split\n",
    "from math import sqrt\n",
    "from joblib import dump, load"
   ]
  },
  {
   "cell_type": "code",
   "execution_count": 52,
   "metadata": {},
   "outputs": [
    {
     "output_type": "execute_result",
     "data": {
      "text/plain": [
       "          latitude  longitude  neighbourhood  room_type  property_type  \\\n",
       "id                                                                       \n",
       "17878    -22.96592  -43.17896              0          0              0   \n",
       "25026    -22.97712  -43.19045              0          0              1   \n",
       "31560    -22.98302  -43.21427              1          0              1   \n",
       "35636    -22.98816  -43.19359              1          0              1   \n",
       "35764    -22.98127  -43.19046              0          0              2   \n",
       "...            ...        ...            ...        ...            ...   \n",
       "38350109 -22.92987  -43.17777             14          1              1   \n",
       "38350512 -22.93877  -43.18292              7          1              1   \n",
       "38352236 -22.97566  -43.19070              0          0              1   \n",
       "38352317 -22.97919  -43.20022              1          0              1   \n",
       "38352502 -22.94526  -43.18364              5          0              1   \n",
       "\n",
       "          bedrooms  accommodates  cleaning_fee  security_deposit  \\\n",
       "id                                                                 \n",
       "17878          2.0             5         378.0               0.0   \n",
       "25026          1.0             2         250.0            1000.0   \n",
       "31560          1.0             3          84.0               0.0   \n",
       "35636          1.0             3         172.0            1050.0   \n",
       "35764          1.0             2         140.0             400.0   \n",
       "...            ...           ...           ...               ...   \n",
       "38350109       2.0             6         150.0               0.0   \n",
       "38350512       1.0             2          50.0               0.0   \n",
       "38352236       3.0             8         150.0            2000.0   \n",
       "38352317       2.0             5         250.0               0.0   \n",
       "38352502       1.0             2         150.0             500.0   \n",
       "\n",
       "          Free_parking_on_premises  ...  Air_conditioning  Crib  Washer  \\\n",
       "id                                  ...                                   \n",
       "17878                            0  ...                 1     0       0   \n",
       "25026                            0  ...                 1     0       0   \n",
       "31560                            0  ...                 1     0       0   \n",
       "35636                            0  ...                 1     0       1   \n",
       "35764                            0  ...                 1     0       0   \n",
       "...                            ...  ...               ...   ...     ...   \n",
       "38350109                         0  ...                 1     0       1   \n",
       "38350512                         0  ...                 1     0       0   \n",
       "38352236                         0  ...                 1     0       1   \n",
       "38352317                         0  ...                 1     1       1   \n",
       "38352502                         0  ...                 1     0       1   \n",
       "\n",
       "          Dishwasher  Suitable_for_events  Full_kitchen  Internet  Bathtub  \\\n",
       "id                                                                           \n",
       "17878              0                    1             0         1        0   \n",
       "25026              0                    0             0         1        0   \n",
       "31560              0                    0             0         1        0   \n",
       "35636              0                    0             0         1        0   \n",
       "35764              0                    0             0         0        0   \n",
       "...              ...                  ...           ...       ...      ...   \n",
       "38350109           0                    0             0         0        0   \n",
       "38350512           0                    0             0         0        0   \n",
       "38352236           0                    0             0         0        0   \n",
       "38352317           0                    0             0         1        0   \n",
       "38352502           0                    0             0         0        0   \n",
       "\n",
       "          Cable_TV  price  \n",
       "id                         \n",
       "17878            1  332.0  \n",
       "25026            1  160.0  \n",
       "31560            1  273.0  \n",
       "35636            1  378.0  \n",
       "35764            1  130.0  \n",
       "...            ...    ...  \n",
       "38350109         0  252.0  \n",
       "38350512         0  101.0  \n",
       "38352236         1  369.0  \n",
       "38352317         0  445.0  \n",
       "38352502         0  122.0  \n",
       "\n",
       "[7000 rows x 26 columns]"
      ],
      "text/html": "<div>\n<style scoped>\n    .dataframe tbody tr th:only-of-type {\n        vertical-align: middle;\n    }\n\n    .dataframe tbody tr th {\n        vertical-align: top;\n    }\n\n    .dataframe thead th {\n        text-align: right;\n    }\n</style>\n<table border=\"1\" class=\"dataframe\">\n  <thead>\n    <tr style=\"text-align: right;\">\n      <th></th>\n      <th>latitude</th>\n      <th>longitude</th>\n      <th>neighbourhood</th>\n      <th>room_type</th>\n      <th>property_type</th>\n      <th>bedrooms</th>\n      <th>accommodates</th>\n      <th>cleaning_fee</th>\n      <th>security_deposit</th>\n      <th>Free_parking_on_premises</th>\n      <th>...</th>\n      <th>Air_conditioning</th>\n      <th>Crib</th>\n      <th>Washer</th>\n      <th>Dishwasher</th>\n      <th>Suitable_for_events</th>\n      <th>Full_kitchen</th>\n      <th>Internet</th>\n      <th>Bathtub</th>\n      <th>Cable_TV</th>\n      <th>price</th>\n    </tr>\n    <tr>\n      <th>id</th>\n      <th></th>\n      <th></th>\n      <th></th>\n      <th></th>\n      <th></th>\n      <th></th>\n      <th></th>\n      <th></th>\n      <th></th>\n      <th></th>\n      <th></th>\n      <th></th>\n      <th></th>\n      <th></th>\n      <th></th>\n      <th></th>\n      <th></th>\n      <th></th>\n      <th></th>\n      <th></th>\n      <th></th>\n    </tr>\n  </thead>\n  <tbody>\n    <tr>\n      <th>17878</th>\n      <td>-22.96592</td>\n      <td>-43.17896</td>\n      <td>0</td>\n      <td>0</td>\n      <td>0</td>\n      <td>2.0</td>\n      <td>5</td>\n      <td>378.0</td>\n      <td>0.0</td>\n      <td>0</td>\n      <td>...</td>\n      <td>1</td>\n      <td>0</td>\n      <td>0</td>\n      <td>0</td>\n      <td>1</td>\n      <td>0</td>\n      <td>1</td>\n      <td>0</td>\n      <td>1</td>\n      <td>332.0</td>\n    </tr>\n    <tr>\n      <th>25026</th>\n      <td>-22.97712</td>\n      <td>-43.19045</td>\n      <td>0</td>\n      <td>0</td>\n      <td>1</td>\n      <td>1.0</td>\n      <td>2</td>\n      <td>250.0</td>\n      <td>1000.0</td>\n      <td>0</td>\n      <td>...</td>\n      <td>1</td>\n      <td>0</td>\n      <td>0</td>\n      <td>0</td>\n      <td>0</td>\n      <td>0</td>\n      <td>1</td>\n      <td>0</td>\n      <td>1</td>\n      <td>160.0</td>\n    </tr>\n    <tr>\n      <th>31560</th>\n      <td>-22.98302</td>\n      <td>-43.21427</td>\n      <td>1</td>\n      <td>0</td>\n      <td>1</td>\n      <td>1.0</td>\n      <td>3</td>\n      <td>84.0</td>\n      <td>0.0</td>\n      <td>0</td>\n      <td>...</td>\n      <td>1</td>\n      <td>0</td>\n      <td>0</td>\n      <td>0</td>\n      <td>0</td>\n      <td>0</td>\n      <td>1</td>\n      <td>0</td>\n      <td>1</td>\n      <td>273.0</td>\n    </tr>\n    <tr>\n      <th>35636</th>\n      <td>-22.98816</td>\n      <td>-43.19359</td>\n      <td>1</td>\n      <td>0</td>\n      <td>1</td>\n      <td>1.0</td>\n      <td>3</td>\n      <td>172.0</td>\n      <td>1050.0</td>\n      <td>0</td>\n      <td>...</td>\n      <td>1</td>\n      <td>0</td>\n      <td>1</td>\n      <td>0</td>\n      <td>0</td>\n      <td>0</td>\n      <td>1</td>\n      <td>0</td>\n      <td>1</td>\n      <td>378.0</td>\n    </tr>\n    <tr>\n      <th>35764</th>\n      <td>-22.98127</td>\n      <td>-43.19046</td>\n      <td>0</td>\n      <td>0</td>\n      <td>2</td>\n      <td>1.0</td>\n      <td>2</td>\n      <td>140.0</td>\n      <td>400.0</td>\n      <td>0</td>\n      <td>...</td>\n      <td>1</td>\n      <td>0</td>\n      <td>0</td>\n      <td>0</td>\n      <td>0</td>\n      <td>0</td>\n      <td>0</td>\n      <td>0</td>\n      <td>1</td>\n      <td>130.0</td>\n    </tr>\n    <tr>\n      <th>...</th>\n      <td>...</td>\n      <td>...</td>\n      <td>...</td>\n      <td>...</td>\n      <td>...</td>\n      <td>...</td>\n      <td>...</td>\n      <td>...</td>\n      <td>...</td>\n      <td>...</td>\n      <td>...</td>\n      <td>...</td>\n      <td>...</td>\n      <td>...</td>\n      <td>...</td>\n      <td>...</td>\n      <td>...</td>\n      <td>...</td>\n      <td>...</td>\n      <td>...</td>\n      <td>...</td>\n    </tr>\n    <tr>\n      <th>38350109</th>\n      <td>-22.92987</td>\n      <td>-43.17777</td>\n      <td>14</td>\n      <td>1</td>\n      <td>1</td>\n      <td>2.0</td>\n      <td>6</td>\n      <td>150.0</td>\n      <td>0.0</td>\n      <td>0</td>\n      <td>...</td>\n      <td>1</td>\n      <td>0</td>\n      <td>1</td>\n      <td>0</td>\n      <td>0</td>\n      <td>0</td>\n      <td>0</td>\n      <td>0</td>\n      <td>0</td>\n      <td>252.0</td>\n    </tr>\n    <tr>\n      <th>38350512</th>\n      <td>-22.93877</td>\n      <td>-43.18292</td>\n      <td>7</td>\n      <td>1</td>\n      <td>1</td>\n      <td>1.0</td>\n      <td>2</td>\n      <td>50.0</td>\n      <td>0.0</td>\n      <td>0</td>\n      <td>...</td>\n      <td>1</td>\n      <td>0</td>\n      <td>0</td>\n      <td>0</td>\n      <td>0</td>\n      <td>0</td>\n      <td>0</td>\n      <td>0</td>\n      <td>0</td>\n      <td>101.0</td>\n    </tr>\n    <tr>\n      <th>38352236</th>\n      <td>-22.97566</td>\n      <td>-43.19070</td>\n      <td>0</td>\n      <td>0</td>\n      <td>1</td>\n      <td>3.0</td>\n      <td>8</td>\n      <td>150.0</td>\n      <td>2000.0</td>\n      <td>0</td>\n      <td>...</td>\n      <td>1</td>\n      <td>0</td>\n      <td>1</td>\n      <td>0</td>\n      <td>0</td>\n      <td>0</td>\n      <td>0</td>\n      <td>0</td>\n      <td>1</td>\n      <td>369.0</td>\n    </tr>\n    <tr>\n      <th>38352317</th>\n      <td>-22.97919</td>\n      <td>-43.20022</td>\n      <td>1</td>\n      <td>0</td>\n      <td>1</td>\n      <td>2.0</td>\n      <td>5</td>\n      <td>250.0</td>\n      <td>0.0</td>\n      <td>0</td>\n      <td>...</td>\n      <td>1</td>\n      <td>1</td>\n      <td>1</td>\n      <td>0</td>\n      <td>0</td>\n      <td>0</td>\n      <td>1</td>\n      <td>0</td>\n      <td>0</td>\n      <td>445.0</td>\n    </tr>\n    <tr>\n      <th>38352502</th>\n      <td>-22.94526</td>\n      <td>-43.18364</td>\n      <td>5</td>\n      <td>0</td>\n      <td>1</td>\n      <td>1.0</td>\n      <td>2</td>\n      <td>150.0</td>\n      <td>500.0</td>\n      <td>0</td>\n      <td>...</td>\n      <td>1</td>\n      <td>0</td>\n      <td>1</td>\n      <td>0</td>\n      <td>0</td>\n      <td>0</td>\n      <td>0</td>\n      <td>0</td>\n      <td>0</td>\n      <td>122.0</td>\n    </tr>\n  </tbody>\n</table>\n<p>7000 rows × 26 columns</p>\n</div>"
     },
     "metadata": {},
     "execution_count": 52
    }
   ],
   "source": [
    "# Instancia o dataframe\n",
    "\n",
    "df_airbnb = pd.read_csv('airbnb.csv', index_col='id', engine='python', sep =',', encoding=\"utf-8\")\n",
    "df_airbnb"
   ]
  },
  {
   "cell_type": "code",
   "execution_count": 53,
   "metadata": {},
   "outputs": [],
   "source": [
    "# Define semente aleatória\n",
    "\n",
    "random_state=1223614"
   ]
  },
  {
   "cell_type": "code",
   "execution_count": 54,
   "metadata": {},
   "outputs": [
    {
     "output_type": "stream",
     "name": "stdout",
     "text": [
      "Quantidade de registros de X_train: 6300\nQuantidade de registros de y_train: 6300\nQuantidade de registros de X_test: 700\nQuantidade de registros de y_test: 700\n"
     ]
    }
   ],
   "source": [
    "# Vamos dividir da seguinte forma: 90% para treino e 10% para teste. \n",
    "# Os registros deverão ser embaralhados.\n",
    "\n",
    "X = df_airbnb.drop(columns=['price'])\n",
    "y = df_airbnb['price']\n",
    "\n",
    "X_train, X_test, y_train, y_test = \\\n",
    "    train_test_split(X, y, test_size=0.1, random_state=random_state)\n",
    "\n",
    "print(\"Quantidade de registros de X_train: \" + str(X_train.shape[0]))\n",
    "print(\"Quantidade de registros de y_train: \" + str(y_train.shape[0]))\n",
    "print(\"Quantidade de registros de X_test: \" + str(X_test.shape[0]))\n",
    "print(\"Quantidade de registros de y_test: \" + str(y_test.shape[0]))"
   ]
  },
  {
   "cell_type": "code",
   "execution_count": 55,
   "metadata": {},
   "outputs": [
    {
     "output_type": "execute_result",
     "data": {
      "text/plain": [
       "<matplotlib.axes._subplots.AxesSubplot at 0x20f3c94a490>"
      ]
     },
     "metadata": {},
     "execution_count": 55
    },
    {
     "output_type": "display_data",
     "data": {
      "text/plain": "<Figure size 360x360 with 1 Axes>",
      "image/svg+xml": "<?xml version=\"1.0\" encoding=\"utf-8\" standalone=\"no\"?>\r\n<!DOCTYPE svg PUBLIC \"-//W3C//DTD SVG 1.1//EN\"\r\n  \"http://www.w3.org/Graphics/SVG/1.1/DTD/svg11.dtd\">\r\n<!-- Created with matplotlib (https://matplotlib.org/) -->\r\n<svg height=\"286.2pt\" version=\"1.1\" viewBox=\"0 0 303.560621 286.2\" width=\"303.560621pt\" xmlns=\"http://www.w3.org/2000/svg\" xmlns:xlink=\"http://www.w3.org/1999/xlink\">\r\n <defs>\r\n  <style type=\"text/css\">\r\n*{stroke-linecap:butt;stroke-linejoin:round;}\r\n  </style>\r\n </defs>\r\n <g id=\"figure_1\">\r\n  <g id=\"patch_1\">\r\n   <path d=\"M 0 286.2 \r\nL 303.560621 286.2 \r\nL 303.560621 0 \r\nL 0 0 \r\nz\r\n\" style=\"fill:none;\"/>\r\n  </g>\r\n  <g id=\"axes_1\">\r\n   <g id=\"patch_2\">\r\n    <path d=\"M 265.498125 143.1 \r\nC 265.498125 130.258488 263.222954 117.51795 258.778287 105.470155 \r\nC 254.333621 93.422359 247.789358 82.256772 239.449463 72.49201 \r\nC 231.109568 62.727247 221.105197 54.516871 209.901029 48.242236 \r\nC 198.696861 41.9676 186.469095 37.72738 173.785684 35.718524 \r\nC 161.102273 33.709669 148.162676 33.963769 135.56791 36.469023 \r\nC 122.973144 38.974277 110.921275 43.691287 99.972086 50.400958 \r\nC 89.022897 57.110629 79.348576 65.707444 71.398473 75.7921 \r\nC 63.44837 85.876756 57.347509 97.290661 53.379263 109.503665 \r\nC 49.411017 121.716668 47.63779 134.536706 48.141944 147.368318 \r\nC 48.646098 160.19993 51.419706 172.841323 56.333938 184.705333 \r\nC 61.248171 196.569344 68.225747 207.469397 76.942574 216.899209 \r\nC 85.659401 226.329021 95.978397 234.140298 107.420267 239.970224 \r\nC 118.862137 245.800149 131.246946 249.557042 143.999446 251.066401 \r\nC 156.751946 252.575761 169.671591 251.813851 182.158291 248.816061 \r\nC 194.644991 245.818271 206.50238 240.631745 217.179708 233.497385 \r\nC 227.857036 226.363025 237.18639 217.393026 244.734443 207.004026 \r\nL 156.778125 143.1 \r\nL 265.498125 143.1 \r\nz\r\n\" style=\"fill:#1f77b4;\"/>\r\n   </g>\r\n   <g id=\"patch_3\">\r\n    <path d=\"M 244.734443 207.004026 \r\nC 251.440187 197.774364 256.651566 187.546461 260.176985 176.696343 \r\nC 263.702404 165.846224 265.498123 154.508506 265.498125 143.100015 \r\nL 156.778125 143.1 \r\nL 244.734443 207.004026 \r\nz\r\n\" style=\"fill:#ff7f0e;\"/>\r\n   </g>\r\n   <g id=\"matplotlib.axis_1\"/>\r\n   <g id=\"matplotlib.axis_2\">\r\n    <g id=\"text_1\">\r\n     <!-- dados -->\r\n     <defs>\r\n      <path d=\"M 45.40625 46.390625 \r\nL 45.40625 75.984375 \r\nL 54.390625 75.984375 \r\nL 54.390625 0 \r\nL 45.40625 0 \r\nL 45.40625 8.203125 \r\nQ 42.578125 3.328125 38.25 0.953125 \r\nQ 33.9375 -1.421875 27.875 -1.421875 \r\nQ 17.96875 -1.421875 11.734375 6.484375 \r\nQ 5.515625 14.40625 5.515625 27.296875 \r\nQ 5.515625 40.1875 11.734375 48.09375 \r\nQ 17.96875 56 27.875 56 \r\nQ 33.9375 56 38.25 53.625 \r\nQ 42.578125 51.265625 45.40625 46.390625 \r\nz\r\nM 14.796875 27.296875 \r\nQ 14.796875 17.390625 18.875 11.75 \r\nQ 22.953125 6.109375 30.078125 6.109375 \r\nQ 37.203125 6.109375 41.296875 11.75 \r\nQ 45.40625 17.390625 45.40625 27.296875 \r\nQ 45.40625 37.203125 41.296875 42.84375 \r\nQ 37.203125 48.484375 30.078125 48.484375 \r\nQ 22.953125 48.484375 18.875 42.84375 \r\nQ 14.796875 37.203125 14.796875 27.296875 \r\nz\r\n\" id=\"DejaVuSans-100\"/>\r\n      <path d=\"M 34.28125 27.484375 \r\nQ 23.390625 27.484375 19.1875 25 \r\nQ 14.984375 22.515625 14.984375 16.5 \r\nQ 14.984375 11.71875 18.140625 8.90625 \r\nQ 21.296875 6.109375 26.703125 6.109375 \r\nQ 34.1875 6.109375 38.703125 11.40625 \r\nQ 43.21875 16.703125 43.21875 25.484375 \r\nL 43.21875 27.484375 \r\nz\r\nM 52.203125 31.203125 \r\nL 52.203125 0 \r\nL 43.21875 0 \r\nL 43.21875 8.296875 \r\nQ 40.140625 3.328125 35.546875 0.953125 \r\nQ 30.953125 -1.421875 24.3125 -1.421875 \r\nQ 15.921875 -1.421875 10.953125 3.296875 \r\nQ 6 8.015625 6 15.921875 \r\nQ 6 25.140625 12.171875 29.828125 \r\nQ 18.359375 34.515625 30.609375 34.515625 \r\nL 43.21875 34.515625 \r\nL 43.21875 35.40625 \r\nQ 43.21875 41.609375 39.140625 45 \r\nQ 35.0625 48.390625 27.6875 48.390625 \r\nQ 23 48.390625 18.546875 47.265625 \r\nQ 14.109375 46.140625 10.015625 43.890625 \r\nL 10.015625 52.203125 \r\nQ 14.9375 54.109375 19.578125 55.046875 \r\nQ 24.21875 56 28.609375 56 \r\nQ 40.484375 56 46.34375 49.84375 \r\nQ 52.203125 43.703125 52.203125 31.203125 \r\nz\r\n\" id=\"DejaVuSans-97\"/>\r\n      <path d=\"M 30.609375 48.390625 \r\nQ 23.390625 48.390625 19.1875 42.75 \r\nQ 14.984375 37.109375 14.984375 27.296875 \r\nQ 14.984375 17.484375 19.15625 11.84375 \r\nQ 23.34375 6.203125 30.609375 6.203125 \r\nQ 37.796875 6.203125 41.984375 11.859375 \r\nQ 46.1875 17.53125 46.1875 27.296875 \r\nQ 46.1875 37.015625 41.984375 42.703125 \r\nQ 37.796875 48.390625 30.609375 48.390625 \r\nz\r\nM 30.609375 56 \r\nQ 42.328125 56 49.015625 48.375 \r\nQ 55.71875 40.765625 55.71875 27.296875 \r\nQ 55.71875 13.875 49.015625 6.21875 \r\nQ 42.328125 -1.421875 30.609375 -1.421875 \r\nQ 18.84375 -1.421875 12.171875 6.21875 \r\nQ 5.515625 13.875 5.515625 27.296875 \r\nQ 5.515625 40.765625 12.171875 48.375 \r\nQ 18.84375 56 30.609375 56 \r\nz\r\n\" id=\"DejaVuSans-111\"/>\r\n      <path d=\"M 44.28125 53.078125 \r\nL 44.28125 44.578125 \r\nQ 40.484375 46.53125 36.375 47.5 \r\nQ 32.28125 48.484375 27.875 48.484375 \r\nQ 21.1875 48.484375 17.84375 46.4375 \r\nQ 14.5 44.390625 14.5 40.28125 \r\nQ 14.5 37.15625 16.890625 35.375 \r\nQ 19.28125 33.59375 26.515625 31.984375 \r\nL 29.59375 31.296875 \r\nQ 39.15625 29.25 43.1875 25.515625 \r\nQ 47.21875 21.78125 47.21875 15.09375 \r\nQ 47.21875 7.46875 41.1875 3.015625 \r\nQ 35.15625 -1.421875 24.609375 -1.421875 \r\nQ 20.21875 -1.421875 15.453125 -0.5625 \r\nQ 10.6875 0.296875 5.421875 2 \r\nL 5.421875 11.28125 \r\nQ 10.40625 8.6875 15.234375 7.390625 \r\nQ 20.0625 6.109375 24.8125 6.109375 \r\nQ 31.15625 6.109375 34.5625 8.28125 \r\nQ 37.984375 10.453125 37.984375 14.40625 \r\nQ 37.984375 18.0625 35.515625 20.015625 \r\nQ 33.0625 21.96875 24.703125 23.78125 \r\nL 21.578125 24.515625 \r\nQ 13.234375 26.265625 9.515625 29.90625 \r\nQ 5.8125 33.546875 5.8125 39.890625 \r\nQ 5.8125 47.609375 11.28125 51.796875 \r\nQ 16.75 56 26.8125 56 \r\nQ 31.78125 56 36.171875 55.265625 \r\nQ 40.578125 54.546875 44.28125 53.078125 \r\nz\r\n\" id=\"DejaVuSans-115\"/>\r\n     </defs>\r\n     <g transform=\"translate(14.798438 158.176562)rotate(-90)scale(0.1 -0.1)\">\r\n      <use xlink:href=\"#DejaVuSans-100\"/>\r\n      <use x=\"63.476562\" xlink:href=\"#DejaVuSans-97\"/>\r\n      <use x=\"124.755859\" xlink:href=\"#DejaVuSans-100\"/>\r\n      <use x=\"188.232422\" xlink:href=\"#DejaVuSans-111\"/>\r\n      <use x=\"249.414062\" xlink:href=\"#DejaVuSans-115\"/>\r\n     </g>\r\n    </g>\r\n   </g>\r\n   <g id=\"text_2\">\r\n    <!-- Treino -->\r\n    <defs>\r\n     <path d=\"M -0.296875 72.90625 \r\nL 61.375 72.90625 \r\nL 61.375 64.59375 \r\nL 35.5 64.59375 \r\nL 35.5 0 \r\nL 25.59375 0 \r\nL 25.59375 64.59375 \r\nL -0.296875 64.59375 \r\nz\r\n\" id=\"DejaVuSans-84\"/>\r\n     <path d=\"M 41.109375 46.296875 \r\nQ 39.59375 47.171875 37.8125 47.578125 \r\nQ 36.03125 48 33.890625 48 \r\nQ 26.265625 48 22.1875 43.046875 \r\nQ 18.109375 38.09375 18.109375 28.8125 \r\nL 18.109375 0 \r\nL 9.078125 0 \r\nL 9.078125 54.6875 \r\nL 18.109375 54.6875 \r\nL 18.109375 46.1875 \r\nQ 20.953125 51.171875 25.484375 53.578125 \r\nQ 30.03125 56 36.53125 56 \r\nQ 37.453125 56 38.578125 55.875 \r\nQ 39.703125 55.765625 41.0625 55.515625 \r\nz\r\n\" id=\"DejaVuSans-114\"/>\r\n     <path d=\"M 56.203125 29.59375 \r\nL 56.203125 25.203125 \r\nL 14.890625 25.203125 \r\nQ 15.484375 15.921875 20.484375 11.0625 \r\nQ 25.484375 6.203125 34.421875 6.203125 \r\nQ 39.59375 6.203125 44.453125 7.46875 \r\nQ 49.3125 8.734375 54.109375 11.28125 \r\nL 54.109375 2.78125 \r\nQ 49.265625 0.734375 44.1875 -0.34375 \r\nQ 39.109375 -1.421875 33.890625 -1.421875 \r\nQ 20.796875 -1.421875 13.15625 6.1875 \r\nQ 5.515625 13.8125 5.515625 26.8125 \r\nQ 5.515625 40.234375 12.765625 48.109375 \r\nQ 20.015625 56 32.328125 56 \r\nQ 43.359375 56 49.78125 48.890625 \r\nQ 56.203125 41.796875 56.203125 29.59375 \r\nz\r\nM 47.21875 32.234375 \r\nQ 47.125 39.59375 43.09375 43.984375 \r\nQ 39.0625 48.390625 32.421875 48.390625 \r\nQ 24.90625 48.390625 20.390625 44.140625 \r\nQ 15.875 39.890625 15.1875 32.171875 \r\nz\r\n\" id=\"DejaVuSans-101\"/>\r\n     <path d=\"M 9.421875 54.6875 \r\nL 18.40625 54.6875 \r\nL 18.40625 0 \r\nL 9.421875 0 \r\nz\r\nM 9.421875 75.984375 \r\nL 18.40625 75.984375 \r\nL 18.40625 64.59375 \r\nL 9.421875 64.59375 \r\nz\r\n\" id=\"DejaVuSans-105\"/>\r\n     <path d=\"M 54.890625 33.015625 \r\nL 54.890625 0 \r\nL 45.90625 0 \r\nL 45.90625 32.71875 \r\nQ 45.90625 40.484375 42.875 44.328125 \r\nQ 39.84375 48.1875 33.796875 48.1875 \r\nQ 26.515625 48.1875 22.3125 43.546875 \r\nQ 18.109375 38.921875 18.109375 30.90625 \r\nL 18.109375 0 \r\nL 9.078125 0 \r\nL 9.078125 54.6875 \r\nL 18.109375 54.6875 \r\nL 18.109375 46.1875 \r\nQ 21.34375 51.125 25.703125 53.5625 \r\nQ 30.078125 56 35.796875 56 \r\nQ 45.21875 56 50.046875 50.171875 \r\nQ 54.890625 44.34375 54.890625 33.015625 \r\nz\r\n\" id=\"DejaVuSans-110\"/>\r\n    </defs>\r\n    <g transform=\"translate(13.133127 108.903406)scale(0.1 -0.1)\">\r\n     <use xlink:href=\"#DejaVuSans-84\"/>\r\n     <use x=\"46.333984\" xlink:href=\"#DejaVuSans-114\"/>\r\n     <use x=\"85.197266\" xlink:href=\"#DejaVuSans-101\"/>\r\n     <use x=\"146.720703\" xlink:href=\"#DejaVuSans-105\"/>\r\n     <use x=\"174.503906\" xlink:href=\"#DejaVuSans-110\"/>\r\n     <use x=\"237.882812\" xlink:href=\"#DejaVuSans-111\"/>\r\n    </g>\r\n   </g>\r\n   <g id=\"text_3\">\r\n    <!-- 90.0% -->\r\n    <defs>\r\n     <path d=\"M 10.984375 1.515625 \r\nL 10.984375 10.5 \r\nQ 14.703125 8.734375 18.5 7.8125 \r\nQ 22.3125 6.890625 25.984375 6.890625 \r\nQ 35.75 6.890625 40.890625 13.453125 \r\nQ 46.046875 20.015625 46.78125 33.40625 \r\nQ 43.953125 29.203125 39.59375 26.953125 \r\nQ 35.25 24.703125 29.984375 24.703125 \r\nQ 19.046875 24.703125 12.671875 31.3125 \r\nQ 6.296875 37.9375 6.296875 49.421875 \r\nQ 6.296875 60.640625 12.9375 67.421875 \r\nQ 19.578125 74.21875 30.609375 74.21875 \r\nQ 43.265625 74.21875 49.921875 64.515625 \r\nQ 56.59375 54.828125 56.59375 36.375 \r\nQ 56.59375 19.140625 48.40625 8.859375 \r\nQ 40.234375 -1.421875 26.421875 -1.421875 \r\nQ 22.703125 -1.421875 18.890625 -0.6875 \r\nQ 15.09375 0.046875 10.984375 1.515625 \r\nz\r\nM 30.609375 32.421875 \r\nQ 37.25 32.421875 41.125 36.953125 \r\nQ 45.015625 41.5 45.015625 49.421875 \r\nQ 45.015625 57.28125 41.125 61.84375 \r\nQ 37.25 66.40625 30.609375 66.40625 \r\nQ 23.96875 66.40625 20.09375 61.84375 \r\nQ 16.21875 57.28125 16.21875 49.421875 \r\nQ 16.21875 41.5 20.09375 36.953125 \r\nQ 23.96875 32.421875 30.609375 32.421875 \r\nz\r\n\" id=\"DejaVuSans-57\"/>\r\n     <path d=\"M 31.78125 66.40625 \r\nQ 24.171875 66.40625 20.328125 58.90625 \r\nQ 16.5 51.421875 16.5 36.375 \r\nQ 16.5 21.390625 20.328125 13.890625 \r\nQ 24.171875 6.390625 31.78125 6.390625 \r\nQ 39.453125 6.390625 43.28125 13.890625 \r\nQ 47.125 21.390625 47.125 36.375 \r\nQ 47.125 51.421875 43.28125 58.90625 \r\nQ 39.453125 66.40625 31.78125 66.40625 \r\nz\r\nM 31.78125 74.21875 \r\nQ 44.046875 74.21875 50.515625 64.515625 \r\nQ 56.984375 54.828125 56.984375 36.375 \r\nQ 56.984375 17.96875 50.515625 8.265625 \r\nQ 44.046875 -1.421875 31.78125 -1.421875 \r\nQ 19.53125 -1.421875 13.0625 8.265625 \r\nQ 6.59375 17.96875 6.59375 36.375 \r\nQ 6.59375 54.828125 13.0625 64.515625 \r\nQ 19.53125 74.21875 31.78125 74.21875 \r\nz\r\n\" id=\"DejaVuSans-48\"/>\r\n     <path d=\"M 10.6875 12.40625 \r\nL 21 12.40625 \r\nL 21 0 \r\nL 10.6875 0 \r\nz\r\n\" id=\"DejaVuSans-46\"/>\r\n     <path d=\"M 72.703125 32.078125 \r\nQ 68.453125 32.078125 66.03125 28.46875 \r\nQ 63.625 24.859375 63.625 18.40625 \r\nQ 63.625 12.0625 66.03125 8.421875 \r\nQ 68.453125 4.78125 72.703125 4.78125 \r\nQ 76.859375 4.78125 79.265625 8.421875 \r\nQ 81.6875 12.0625 81.6875 18.40625 \r\nQ 81.6875 24.8125 79.265625 28.4375 \r\nQ 76.859375 32.078125 72.703125 32.078125 \r\nz\r\nM 72.703125 38.28125 \r\nQ 80.421875 38.28125 84.953125 32.90625 \r\nQ 89.5 27.546875 89.5 18.40625 \r\nQ 89.5 9.28125 84.9375 3.921875 \r\nQ 80.375 -1.421875 72.703125 -1.421875 \r\nQ 64.890625 -1.421875 60.34375 3.921875 \r\nQ 55.8125 9.28125 55.8125 18.40625 \r\nQ 55.8125 27.59375 60.375 32.9375 \r\nQ 64.9375 38.28125 72.703125 38.28125 \r\nz\r\nM 22.3125 68.015625 \r\nQ 18.109375 68.015625 15.6875 64.375 \r\nQ 13.28125 60.75 13.28125 54.390625 \r\nQ 13.28125 47.953125 15.671875 44.328125 \r\nQ 18.0625 40.71875 22.3125 40.71875 \r\nQ 26.5625 40.71875 28.96875 44.328125 \r\nQ 31.390625 47.953125 31.390625 54.390625 \r\nQ 31.390625 60.6875 28.953125 64.34375 \r\nQ 26.515625 68.015625 22.3125 68.015625 \r\nz\r\nM 66.40625 74.21875 \r\nL 74.21875 74.21875 \r\nL 28.609375 -1.421875 \r\nL 20.796875 -1.421875 \r\nz\r\nM 22.3125 74.21875 \r\nQ 30.03125 74.21875 34.609375 68.875 \r\nQ 39.203125 63.53125 39.203125 54.390625 \r\nQ 39.203125 45.171875 34.640625 39.84375 \r\nQ 30.078125 34.515625 22.3125 34.515625 \r\nQ 14.546875 34.515625 10.03125 39.859375 \r\nQ 5.515625 45.21875 5.515625 54.390625 \r\nQ 5.515625 63.484375 10.046875 68.84375 \r\nQ 14.59375 74.21875 22.3125 74.21875 \r\nz\r\n\" id=\"DejaVuSans-37\"/>\r\n    </defs>\r\n    <g transform=\"translate(78.855214 125.701574)scale(0.1 -0.1)\">\r\n     <use xlink:href=\"#DejaVuSans-57\"/>\r\n     <use x=\"63.623047\" xlink:href=\"#DejaVuSans-48\"/>\r\n     <use x=\"127.246094\" xlink:href=\"#DejaVuSans-46\"/>\r\n     <use x=\"159.033203\" xlink:href=\"#DejaVuSans-48\"/>\r\n     <use x=\"222.65625\" xlink:href=\"#DejaVuSans-37\"/>\r\n    </g>\r\n   </g>\r\n   <g id=\"text_4\">\r\n    <!-- Teste -->\r\n    <defs>\r\n     <path d=\"M 18.3125 70.21875 \r\nL 18.3125 54.6875 \r\nL 36.8125 54.6875 \r\nL 36.8125 47.703125 \r\nL 18.3125 47.703125 \r\nL 18.3125 18.015625 \r\nQ 18.3125 11.328125 20.140625 9.421875 \r\nQ 21.96875 7.515625 27.59375 7.515625 \r\nL 36.8125 7.515625 \r\nL 36.8125 0 \r\nL 27.59375 0 \r\nQ 17.1875 0 13.234375 3.875 \r\nQ 9.28125 7.765625 9.28125 18.015625 \r\nL 9.28125 47.703125 \r\nL 2.6875 47.703125 \r\nL 2.6875 54.6875 \r\nL 9.28125 54.6875 \r\nL 9.28125 70.21875 \r\nz\r\n\" id=\"DejaVuSans-116\"/>\r\n    </defs>\r\n    <g transform=\"translate(270.516871 182.815352)scale(0.1 -0.1)\">\r\n     <use xlink:href=\"#DejaVuSans-84\"/>\r\n     <use x=\"44.083984\" xlink:href=\"#DejaVuSans-101\"/>\r\n     <use x=\"105.607422\" xlink:href=\"#DejaVuSans-115\"/>\r\n     <use x=\"157.707031\" xlink:href=\"#DejaVuSans-116\"/>\r\n     <use x=\"196.916016\" xlink:href=\"#DejaVuSans-101\"/>\r\n    </g>\r\n   </g>\r\n   <g id=\"text_5\">\r\n    <!-- 10.0% -->\r\n    <defs>\r\n     <path d=\"M 12.40625 8.296875 \r\nL 28.515625 8.296875 \r\nL 28.515625 63.921875 \r\nL 10.984375 60.40625 \r\nL 10.984375 69.390625 \r\nL 28.421875 72.90625 \r\nL 38.28125 72.90625 \r\nL 38.28125 8.296875 \r\nL 54.390625 8.296875 \r\nL 54.390625 0 \r\nL 12.40625 0 \r\nz\r\n\" id=\"DejaVuSans-49\"/>\r\n    </defs>\r\n    <g transform=\"translate(202.933847 166.017181)scale(0.1 -0.1)\">\r\n     <use xlink:href=\"#DejaVuSans-49\"/>\r\n     <use x=\"63.623047\" xlink:href=\"#DejaVuSans-48\"/>\r\n     <use x=\"127.246094\" xlink:href=\"#DejaVuSans-46\"/>\r\n     <use x=\"159.033203\" xlink:href=\"#DejaVuSans-48\"/>\r\n     <use x=\"222.65625\" xlink:href=\"#DejaVuSans-37\"/>\r\n    </g>\r\n   </g>\r\n   <g id=\"legend_1\">\r\n    <g id=\"patch_4\">\r\n     <path d=\"M 223.771875 44.55625 \r\nL 285.678125 44.55625 \r\nQ 287.678125 44.55625 287.678125 42.55625 \r\nL 287.678125 14.2 \r\nQ 287.678125 12.2 285.678125 12.2 \r\nL 223.771875 12.2 \r\nQ 221.771875 12.2 221.771875 14.2 \r\nL 221.771875 42.55625 \r\nQ 221.771875 44.55625 223.771875 44.55625 \r\nz\r\n\" style=\"fill:#ffffff;opacity:0.8;stroke:#cccccc;stroke-linejoin:miter;\"/>\r\n    </g>\r\n    <g id=\"patch_5\">\r\n     <path d=\"M 225.771875 23.798437 \r\nL 245.771875 23.798437 \r\nL 245.771875 16.798437 \r\nL 225.771875 16.798437 \r\nz\r\n\" style=\"fill:#1f77b4;\"/>\r\n    </g>\r\n    <g id=\"text_6\">\r\n     <!-- Treino -->\r\n     <g transform=\"translate(253.771875 23.798437)scale(0.1 -0.1)\">\r\n      <use xlink:href=\"#DejaVuSans-84\"/>\r\n      <use x=\"46.333984\" xlink:href=\"#DejaVuSans-114\"/>\r\n      <use x=\"85.197266\" xlink:href=\"#DejaVuSans-101\"/>\r\n      <use x=\"146.720703\" xlink:href=\"#DejaVuSans-105\"/>\r\n      <use x=\"174.503906\" xlink:href=\"#DejaVuSans-110\"/>\r\n      <use x=\"237.882812\" xlink:href=\"#DejaVuSans-111\"/>\r\n     </g>\r\n    </g>\r\n    <g id=\"patch_6\">\r\n     <path d=\"M 225.771875 38.476562 \r\nL 245.771875 38.476562 \r\nL 245.771875 31.476562 \r\nL 225.771875 31.476562 \r\nz\r\n\" style=\"fill:#ff7f0e;\"/>\r\n    </g>\r\n    <g id=\"text_7\">\r\n     <!-- Teste -->\r\n     <g transform=\"translate(253.771875 38.476562)scale(0.1 -0.1)\">\r\n      <use xlink:href=\"#DejaVuSans-84\"/>\r\n      <use x=\"44.083984\" xlink:href=\"#DejaVuSans-101\"/>\r\n      <use x=\"105.607422\" xlink:href=\"#DejaVuSans-115\"/>\r\n      <use x=\"157.707031\" xlink:href=\"#DejaVuSans-116\"/>\r\n      <use x=\"196.916016\" xlink:href=\"#DejaVuSans-101\"/>\r\n     </g>\r\n    </g>\r\n   </g>\r\n  </g>\r\n </g>\r\n</svg>\r\n",
      "image/png": "[encoded data removed]"
     },
     "metadata": {}
    }
   ],
   "source": [
    "df = pd.DataFrame({'dados': [X_train.shape[0] , X_test.shape[0]]}, index=['Treino', 'Teste'])\n",
    "df.plot.pie(y='dados', figsize=(5, 5), autopct='%1.1f%%')"
   ]
  },
  {
   "cell_type": "code",
   "execution_count": 56,
   "metadata": {},
   "outputs": [
    {
     "output_type": "execute_result",
     "data": {
      "text/plain": [
       "                                                 model par_grid_0  \\\n",
       "name                                                                \n",
       "LinearRegression                    LinearRegression()         {}   \n",
       "Ridge                                          Ridge()         {}   \n",
       "SVR                                              SVR()         {}   \n",
       "RandomForestRegressor          RandomForestRegressor()         {}   \n",
       "GradientBoostingRegressor  GradientBoostingRegressor()         {}   \n",
       "KNeighborsRegressor              KNeighborsRegressor()         {}   \n",
       "DecisionTreeRegressor          DecisionTreeRegressor()         {}   \n",
       "Lasso                                          Lasso()         {}   \n",
       "ElasticNet                                ElasticNet()         {}   \n",
       "AdaBoostRegressor                  AdaBoostRegressor()         {}   \n",
       "SGDRegressor                            SGDRegressor()         {}   \n",
       "LassoLars                                  LassoLars()         {}   \n",
       "\n",
       "                                                                  par_grid_1  \n",
       "name                                                                          \n",
       "LinearRegression           {'fit_intercept': [True, False], 'normalize': ...  \n",
       "Ridge                      {'alpha': [0.01, 10, 1000], 'normalize': [True...  \n",
       "SVR                        {'kernel': ['linear', 'rbf'], 'gamma': [0.001,...  \n",
       "RandomForestRegressor      {'max_depth': (1, 2, 3), 'random_state': [None...  \n",
       "GradientBoostingRegressor  {'n_estimators': (60, 100, 140, 180), 'max_dep...  \n",
       "KNeighborsRegressor        {'n_neighbors': [3, 5, 7], 'weights': ['unifor...  \n",
       "DecisionTreeRegressor      {'max_depth': [None, 1, 2, 3, 4, 5, 6], 'split...  \n",
       "Lasso                      {'fit_intercept': [True, False], 'normalize': ...  \n",
       "ElasticNet                 {'fit_intercept': [True, False], 'normalize': ...  \n",
       "AdaBoostRegressor          {'n_estimators': [20, 50, 80, 100], 'loss': ['...  \n",
       "SGDRegressor               {'loss': ['squared_loss', 'huber', 'epsilon_in...  \n",
       "LassoLars                  {'alpha': [0.01, 0.5, 1.0, 1.5, 2.0], 'max_ite...  "
      ],
      "text/html": "<div>\n<style scoped>\n    .dataframe tbody tr th:only-of-type {\n        vertical-align: middle;\n    }\n\n    .dataframe tbody tr th {\n        vertical-align: top;\n    }\n\n    .dataframe thead th {\n        text-align: right;\n    }\n</style>\n<table border=\"1\" class=\"dataframe\">\n  <thead>\n    <tr style=\"text-align: right;\">\n      <th></th>\n      <th>model</th>\n      <th>par_grid_0</th>\n      <th>par_grid_1</th>\n    </tr>\n    <tr>\n      <th>name</th>\n      <th></th>\n      <th></th>\n      <th></th>\n    </tr>\n  </thead>\n  <tbody>\n    <tr>\n      <th>LinearRegression</th>\n      <td>LinearRegression()</td>\n      <td>{}</td>\n      <td>{'fit_intercept': [True, False], 'normalize': ...</td>\n    </tr>\n    <tr>\n      <th>Ridge</th>\n      <td>Ridge()</td>\n      <td>{}</td>\n      <td>{'alpha': [0.01, 10, 1000], 'normalize': [True...</td>\n    </tr>\n    <tr>\n      <th>SVR</th>\n      <td>SVR()</td>\n      <td>{}</td>\n      <td>{'kernel': ['linear', 'rbf'], 'gamma': [0.001,...</td>\n    </tr>\n    <tr>\n      <th>RandomForestRegressor</th>\n      <td>RandomForestRegressor()</td>\n      <td>{}</td>\n      <td>{'max_depth': (1, 2, 3), 'random_state': [None...</td>\n    </tr>\n    <tr>\n      <th>GradientBoostingRegressor</th>\n      <td>GradientBoostingRegressor()</td>\n      <td>{}</td>\n      <td>{'n_estimators': (60, 100, 140, 180), 'max_dep...</td>\n    </tr>\n    <tr>\n      <th>KNeighborsRegressor</th>\n      <td>KNeighborsRegressor()</td>\n      <td>{}</td>\n      <td>{'n_neighbors': [3, 5, 7], 'weights': ['unifor...</td>\n    </tr>\n    <tr>\n      <th>DecisionTreeRegressor</th>\n      <td>DecisionTreeRegressor()</td>\n      <td>{}</td>\n      <td>{'max_depth': [None, 1, 2, 3, 4, 5, 6], 'split...</td>\n    </tr>\n    <tr>\n      <th>Lasso</th>\n      <td>Lasso()</td>\n      <td>{}</td>\n      <td>{'fit_intercept': [True, False], 'normalize': ...</td>\n    </tr>\n    <tr>\n      <th>ElasticNet</th>\n      <td>ElasticNet()</td>\n      <td>{}</td>\n      <td>{'fit_intercept': [True, False], 'normalize': ...</td>\n    </tr>\n    <tr>\n      <th>AdaBoostRegressor</th>\n      <td>AdaBoostRegressor()</td>\n      <td>{}</td>\n      <td>{'n_estimators': [20, 50, 80, 100], 'loss': ['...</td>\n    </tr>\n    <tr>\n      <th>SGDRegressor</th>\n      <td>SGDRegressor()</td>\n      <td>{}</td>\n      <td>{'loss': ['squared_loss', 'huber', 'epsilon_in...</td>\n    </tr>\n    <tr>\n      <th>LassoLars</th>\n      <td>LassoLars()</td>\n      <td>{}</td>\n      <td>{'alpha': [0.01, 0.5, 1.0, 1.5, 2.0], 'max_ite...</td>\n    </tr>\n  </tbody>\n</table>\n</div>"
     },
     "metadata": {},
     "execution_count": 56
    }
   ],
   "source": [
    "# criando lista de modelos preditivos a serem comparados\n",
    "# mapeando os nomes dos parâmetros dos modelos aos valores a serem verificados\n",
    "# o modelo LinearRegression será usado como linha de base para os resultados, por ser o mais simples.\n",
    "# ou seja: um \"bom modelo\" deve superar o LinearRegression.\n",
    "\n",
    "models = []\n",
    "\n",
    "from sklearn.linear_model import LinearRegression\n",
    "param_grid_0 = {}\n",
    "param_grid_1 = {'fit_intercept':[True,False],'normalize':[True,False]}\n",
    "models.append(('LinearRegression', LinearRegression(), param_grid_0, param_grid_1))\n",
    "\n",
    "from sklearn.linear_model import Ridge\n",
    "param_grid_0 = {}\n",
    "param_grid_1 = {'alpha':[0.01, 10, 1000],'normalize':[True,False],'copy_X':[True,False]\n",
    "                , 'fit_intercept':[True,False], 'max_iter':[None], 'normalize':[True,False]\n",
    "                , 'random_state':[None,0], 'solver':['auto'], 'tol':[0.001]}\n",
    "models.append(('Ridge', Ridge(), param_grid_0, param_grid_1))\n",
    "\n",
    "from sklearn.svm import SVR\n",
    "param_grid_0 = {}\n",
    "param_grid_1 = {'kernel':['linear', 'rbf'], 'gamma': [0.001, 0.1, 1, 10],'C': [0.001, 0.1, 1, 10]\n",
    "                , 'epsilon': [x/100 for x in range(100,201,10)]}\n",
    "models.append(('SVR', SVR(), param_grid_0, param_grid_1))\n",
    "\n",
    "from sklearn.ensemble import RandomForestRegressor\n",
    "param_grid_0 = {}\n",
    "param_grid_1 = {'max_depth':range(1,4), 'random_state':[None, 0]\n",
    "                , 'n_estimators':range(50,151,50),'bootstrap' :[True,False]}\n",
    "models.append(('RandomForestRegressor', RandomForestRegressor(), param_grid_0, param_grid_1))\n",
    "\n",
    "from sklearn.ensemble import GradientBoostingRegressor\n",
    "param_grid_0 = {}\n",
    "param_grid_1 = {'n_estimators':range(60,201,40), 'max_depth':range(1,5,2)\n",
    "                , 'learning_rate':[x/100 for x in range(10,101,20)]}\n",
    "models.append(('GradientBoostingRegressor', GradientBoostingRegressor(), param_grid_0, param_grid_1))\n",
    "\n",
    "from sklearn.neighbors import KNeighborsRegressor\n",
    "param_grid_0 = {}\n",
    "param_grid_1 = {'n_neighbors':[3, 5, 7],'weights':['uniform','distance'],'p':[1,2]  }\n",
    "models.append(('KNeighborsRegressor', KNeighborsRegressor(), param_grid_0, param_grid_1))\n",
    "\n",
    "from sklearn.tree import DecisionTreeRegressor\n",
    "param_grid_0 = {}\n",
    "param_grid_1 = {'max_depth':[None, 1, 2, 3, 4, 5, 6],'splitter':['best','random']\n",
    "                ,'presort':[True,False]}\n",
    "models.append(('DecisionTreeRegressor', DecisionTreeRegressor(), param_grid_0, param_grid_1))\n",
    "\n",
    "from sklearn.linear_model import Lasso\n",
    "param_grid_0 = {}\n",
    "param_grid_1 = {'fit_intercept':[True,False],'normalize':[True,False]\n",
    "                ,'copy_X':[True,False],'selection':['cyclic','random'],'alpha':np.logspace(-3,3,5)}\n",
    "models.append(('Lasso', Lasso(), param_grid_0, param_grid_1))\n",
    "\n",
    "from sklearn.linear_model import ElasticNet\n",
    "param_grid_0 = {}\n",
    "param_grid_1 = {'fit_intercept':[True,False],'normalize':[True,False],'copy_X':[True,False]\n",
    "                ,'selection':['cyclic','random'],'alpha':np.logspace(-3,3,5)}\n",
    "models.append(('ElasticNet', ElasticNet(), param_grid_0, param_grid_1))\n",
    "\n",
    "from sklearn.ensemble import AdaBoostRegressor\n",
    "param_grid_0 = {}\n",
    "param_grid_1 = {'n_estimators':[20,50,80,100],'loss':['linear', 'square', 'exponential']\n",
    "                ,'random_state':[None,0,42]}\n",
    "models.append(('AdaBoostRegressor', AdaBoostRegressor(), param_grid_0, param_grid_1))\n",
    "\n",
    "from sklearn.linear_model import SGDRegressor\n",
    "param_grid_0 = {}\n",
    "param_grid_1 = {'loss':['squared_loss','huber','epsilon_insensitive','squared_epsilon_insensitive']\n",
    "                ,'penalty':['none','l2', 'l1','elasticnet'],'alpha':np.logspace(-3,3,5),'l1_ratio':[0.05,0.5,0.95]}\n",
    "models.append(('SGDRegressor', SGDRegressor(), param_grid_0, param_grid_1))\n",
    "\n",
    "from sklearn.linear_model import LassoLars\n",
    "param_grid_0 = {}\n",
    "param_grid_1 = {'alpha':[0.01, 0.5, 1.0, 1.5, 2.0], 'max_iter':[100, 300, 500]}\n",
    "models.append(('LassoLars', LassoLars(), param_grid_0, param_grid_1))                           \n",
    "\n",
    "models_df = pd.DataFrame(models, columns=['name', 'model', 'par_grid_0', 'par_grid_1'])\n",
    "models_df.set_index('name', inplace = True)\n",
    "models_df"
   ]
  },
  {
   "cell_type": "code",
   "execution_count": 57,
   "metadata": {},
   "outputs": [],
   "source": [
    "# Definindo função score de regressão: Raiz do Erro Quadrático Médio - RMSE (Root Mean Square Error)\n",
    "from sklearn.metrics import make_scorer\n",
    "import sklearn.metrics as sm\n",
    "from sklearn.metrics import mean_squared_error\n",
    "\n",
    "def rmse(y_true, y_pred):\n",
    "    return np.sqrt(mean_squared_error(y_true, y_pred))\n",
    "\n",
    "rmse_scorer = make_scorer(rmse, greater_is_better=False)"
   ]
  },
  {
   "cell_type": "code",
   "execution_count": 58,
   "metadata": {},
   "outputs": [],
   "source": [
    "# Definindo função Grid Search\n",
    "from sklearn.model_selection import cross_val_score\n",
    "from sklearn.model_selection import GridSearchCV\n",
    "from sklearn.model_selection import KFold\n",
    "\n",
    "def grid_search(models_dataframe, data):\n",
    "    names = []\n",
    "    best_scores = []\n",
    "    best_params = []\n",
    "    best_estimator = []\n",
    "    X_train = data[0]\n",
    "    y_train = data[1]\n",
    "\n",
    "    cross_validator = KFold(5)\n",
    "\n",
    "    for index, row in models_dataframe.iterrows():\n",
    "        name = index\n",
    "        model = row[0]\n",
    "        par_grid = row[1]\n",
    "        grid = GridSearchCV(estimator = model, param_grid = par_grid, cv = cross_validator, scoring = rmse_scorer)\n",
    "        grid.fit(X_train, np.ravel(y_train,order='C'))\n",
    "        names.append(name)\n",
    "        best_scores.append(round((-1)*grid.best_score_, 4))\n",
    "        best_params.append(grid.best_params_)\n",
    "        best_estimator.append(grid.best_estimator_)\n",
    "        print('Model: ' + name + ' | ', 'Score: ' + str(round((-1)*grid.best_score_, 4)))\n",
    "        \n",
    "    result_table = pd.DataFrame({'Model': names, 'Score': best_scores, 'best_params':best_params, 'best_estimator':best_estimator})\n",
    "    result_table.set_index('Model', inplace = True)\n",
    "    result_table.sort_values(by = ['Score'], ascending = True, inplace = True)\n",
    "    return result_table"
   ]
  },
  {
   "cell_type": "code",
   "execution_count": 59,
   "metadata": {},
   "outputs": [
    {
     "output_type": "stream",
     "name": "stdout",
     "text": [
      "Model: LinearRegression |  Score: 103.0622\n",
      "Model: Ridge |  Score: 103.2027\n",
      "Model: SVR |  Score: 132.1965\n",
      "Model: RandomForestRegressor |  Score: 99.0608\n",
      "Model: GradientBoostingRegressor |  Score: 97.1066\n",
      "Model: KNeighborsRegressor |  Score: 118.9569\n",
      "Model: DecisionTreeRegressor |  Score: 138.4172\n",
      "Model: Lasso |  Score: 103.9954\n",
      "Model: ElasticNet |  Score: 106.5456\n",
      "Model: AdaBoostRegressor |  Score: 117.7997\n",
      "Model: SGDRegressor |  Score: 3.861263268591737e+16\n",
      "Model: LassoLars |  Score: 131.4781\n"
     ]
    }
   ],
   "source": [
    "# Executando o primeiro grid search com todos os algoritmos,\n",
    "# com a menor lista de parâmetros.\n",
    "result1 = grid_search(models_df.loc[:, ['model', 'par_grid_0']], [X_train, y_train])"
   ]
  },
  {
   "cell_type": "code",
   "execution_count": 60,
   "metadata": {},
   "outputs": [
    {
     "output_type": "execute_result",
     "data": {
      "text/plain": [
       "                                  Score best_params  \\\n",
       "Model                                                 \n",
       "GradientBoostingRegressor  9.710660e+01          {}   \n",
       "RandomForestRegressor      9.906080e+01          {}   \n",
       "LinearRegression           1.030622e+02          {}   \n",
       "Ridge                      1.032027e+02          {}   \n",
       "Lasso                      1.039954e+02          {}   \n",
       "ElasticNet                 1.065456e+02          {}   \n",
       "AdaBoostRegressor          1.177997e+02          {}   \n",
       "KNeighborsRegressor        1.189569e+02          {}   \n",
       "LassoLars                  1.314781e+02          {}   \n",
       "SVR                        1.321965e+02          {}   \n",
       "DecisionTreeRegressor      1.384172e+02          {}   \n",
       "SGDRegressor               3.861263e+16          {}   \n",
       "\n",
       "                                                              best_estimator  \n",
       "Model                                                                         \n",
       "GradientBoostingRegressor  ([DecisionTreeRegressor(criterion='friedman_ms...  \n",
       "RandomForestRegressor      (DecisionTreeRegressor(max_features='auto', ra...  \n",
       "LinearRegression                                          LinearRegression()  \n",
       "Ridge                                                                Ridge()  \n",
       "Lasso                                                                Lasso()  \n",
       "ElasticNet                                                      ElasticNet()  \n",
       "AdaBoostRegressor          (DecisionTreeRegressor(max_depth=3, random_sta...  \n",
       "KNeighborsRegressor                                    KNeighborsRegressor()  \n",
       "LassoLars                                                        LassoLars()  \n",
       "SVR                                                                    SVR()  \n",
       "DecisionTreeRegressor                                DecisionTreeRegressor()  \n",
       "SGDRegressor                                                  SGDRegressor()  "
      ],
      "text/html": "<div>\n<style scoped>\n    .dataframe tbody tr th:only-of-type {\n        vertical-align: middle;\n    }\n\n    .dataframe tbody tr th {\n        vertical-align: top;\n    }\n\n    .dataframe thead th {\n        text-align: right;\n    }\n</style>\n<table border=\"1\" class=\"dataframe\">\n  <thead>\n    <tr style=\"text-align: right;\">\n      <th></th>\n      <th>Score</th>\n      <th>best_params</th>\n      <th>best_estimator</th>\n    </tr>\n    <tr>\n      <th>Model</th>\n      <th></th>\n      <th></th>\n      <th></th>\n    </tr>\n  </thead>\n  <tbody>\n    <tr>\n      <th>GradientBoostingRegressor</th>\n      <td>9.710660e+01</td>\n      <td>{}</td>\n      <td>([DecisionTreeRegressor(criterion='friedman_ms...</td>\n    </tr>\n    <tr>\n      <th>RandomForestRegressor</th>\n      <td>9.906080e+01</td>\n      <td>{}</td>\n      <td>(DecisionTreeRegressor(max_features='auto', ra...</td>\n    </tr>\n    <tr>\n      <th>LinearRegression</th>\n      <td>1.030622e+02</td>\n      <td>{}</td>\n      <td>LinearRegression()</td>\n    </tr>\n    <tr>\n      <th>Ridge</th>\n      <td>1.032027e+02</td>\n      <td>{}</td>\n      <td>Ridge()</td>\n    </tr>\n    <tr>\n      <th>Lasso</th>\n      <td>1.039954e+02</td>\n      <td>{}</td>\n      <td>Lasso()</td>\n    </tr>\n    <tr>\n      <th>ElasticNet</th>\n      <td>1.065456e+02</td>\n      <td>{}</td>\n      <td>ElasticNet()</td>\n    </tr>\n    <tr>\n      <th>AdaBoostRegressor</th>\n      <td>1.177997e+02</td>\n      <td>{}</td>\n      <td>(DecisionTreeRegressor(max_depth=3, random_sta...</td>\n    </tr>\n    <tr>\n      <th>KNeighborsRegressor</th>\n      <td>1.189569e+02</td>\n      <td>{}</td>\n      <td>KNeighborsRegressor()</td>\n    </tr>\n    <tr>\n      <th>LassoLars</th>\n      <td>1.314781e+02</td>\n      <td>{}</td>\n      <td>LassoLars()</td>\n    </tr>\n    <tr>\n      <th>SVR</th>\n      <td>1.321965e+02</td>\n      <td>{}</td>\n      <td>SVR()</td>\n    </tr>\n    <tr>\n      <th>DecisionTreeRegressor</th>\n      <td>1.384172e+02</td>\n      <td>{}</td>\n      <td>DecisionTreeRegressor()</td>\n    </tr>\n    <tr>\n      <th>SGDRegressor</th>\n      <td>3.861263e+16</td>\n      <td>{}</td>\n      <td>SGDRegressor()</td>\n    </tr>\n  </tbody>\n</table>\n</div>"
     },
     "metadata": {},
     "execution_count": 60
    }
   ],
   "source": [
    "result1"
   ]
  },
  {
   "cell_type": "code",
   "execution_count": 61,
   "metadata": {},
   "outputs": [
    {
     "output_type": "stream",
     "name": "stdout",
     "text": [
      "Model: GradientBoostingRegressor |  Score: 96.814\n",
      "Model: RandomForestRegressor |  Score: 107.0254\n",
      "Model: LinearRegression |  Score: 103.0622\n",
      "Model: Ridge |  Score: 103.0578\n",
      "Model: Lasso |  Score: 103.0566\n",
      "Model: ElasticNet |  Score: 103.3469\n"
     ]
    }
   ],
   "source": [
    "# Executando o segundo grid search com a metade superior dos algoritmos do grid anterior,\n",
    "# com a segunda lista de parâmetros.\n",
    "result2 = grid_search(models_df.loc[result1.head(result1.shape[0]//2).index.tolist(), ['model', 'par_grid_1']], [X_train, y_train])"
   ]
  },
  {
   "cell_type": "code",
   "execution_count": 62,
   "metadata": {},
   "outputs": [
    {
     "output_type": "execute_result",
     "data": {
      "text/plain": [
       "                              Score  \\\n",
       "Model                                 \n",
       "GradientBoostingRegressor   96.8140   \n",
       "Lasso                      103.0566   \n",
       "Ridge                      103.0578   \n",
       "LinearRegression           103.0622   \n",
       "ElasticNet                 103.3469   \n",
       "RandomForestRegressor      107.0254   \n",
       "\n",
       "                                                                 best_params  \\\n",
       "Model                                                                          \n",
       "GradientBoostingRegressor  {'learning_rate': 0.1, 'max_depth': 3, 'n_esti...   \n",
       "Lasso                      {'alpha': 0.001, 'copy_X': True, 'fit_intercep...   \n",
       "Ridge                      {'alpha': 0.01, 'copy_X': True, 'fit_intercept...   \n",
       "LinearRegression                  {'fit_intercept': True, 'normalize': True}   \n",
       "ElasticNet                 {'alpha': 0.001, 'copy_X': False, 'fit_interce...   \n",
       "RandomForestRegressor      {'bootstrap': True, 'max_depth': 3, 'n_estimat...   \n",
       "\n",
       "                                                              best_estimator  \n",
       "Model                                                                         \n",
       "GradientBoostingRegressor  ([DecisionTreeRegressor(criterion='friedman_ms...  \n",
       "Lasso                                     Lasso(alpha=0.001, normalize=True)  \n",
       "Ridge                                      Ridge(alpha=0.01, normalize=True)  \n",
       "LinearRegression                            LinearRegression(normalize=True)  \n",
       "ElasticNet                 ElasticNet(alpha=0.001, copy_X=False, selectio...  \n",
       "RandomForestRegressor      (DecisionTreeRegressor(max_depth=3, max_featur...  "
      ],
      "text/html": "<div>\n<style scoped>\n    .dataframe tbody tr th:only-of-type {\n        vertical-align: middle;\n    }\n\n    .dataframe tbody tr th {\n        vertical-align: top;\n    }\n\n    .dataframe thead th {\n        text-align: right;\n    }\n</style>\n<table border=\"1\" class=\"dataframe\">\n  <thead>\n    <tr style=\"text-align: right;\">\n      <th></th>\n      <th>Score</th>\n      <th>best_params</th>\n      <th>best_estimator</th>\n    </tr>\n    <tr>\n      <th>Model</th>\n      <th></th>\n      <th></th>\n      <th></th>\n    </tr>\n  </thead>\n  <tbody>\n    <tr>\n      <th>GradientBoostingRegressor</th>\n      <td>96.8140</td>\n      <td>{'learning_rate': 0.1, 'max_depth': 3, 'n_esti...</td>\n      <td>([DecisionTreeRegressor(criterion='friedman_ms...</td>\n    </tr>\n    <tr>\n      <th>Lasso</th>\n      <td>103.0566</td>\n      <td>{'alpha': 0.001, 'copy_X': True, 'fit_intercep...</td>\n      <td>Lasso(alpha=0.001, normalize=True)</td>\n    </tr>\n    <tr>\n      <th>Ridge</th>\n      <td>103.0578</td>\n      <td>{'alpha': 0.01, 'copy_X': True, 'fit_intercept...</td>\n      <td>Ridge(alpha=0.01, normalize=True)</td>\n    </tr>\n    <tr>\n      <th>LinearRegression</th>\n      <td>103.0622</td>\n      <td>{'fit_intercept': True, 'normalize': True}</td>\n      <td>LinearRegression(normalize=True)</td>\n    </tr>\n    <tr>\n      <th>ElasticNet</th>\n      <td>103.3469</td>\n      <td>{'alpha': 0.001, 'copy_X': False, 'fit_interce...</td>\n      <td>ElasticNet(alpha=0.001, copy_X=False, selectio...</td>\n    </tr>\n    <tr>\n      <th>RandomForestRegressor</th>\n      <td>107.0254</td>\n      <td>{'bootstrap': True, 'max_depth': 3, 'n_estimat...</td>\n      <td>(DecisionTreeRegressor(max_depth=3, max_featur...</td>\n    </tr>\n  </tbody>\n</table>\n</div>"
     },
     "metadata": {},
     "execution_count": 62
    }
   ],
   "source": [
    "result2"
   ]
  },
  {
   "cell_type": "code",
   "execution_count": 63,
   "metadata": {},
   "outputs": [
    {
     "output_type": "stream",
     "name": "stdout",
     "text": [
      "Melhor algoritmo encontrado pelo grid: \nGradientBoostingRegressor(n_estimators=180)\n96.814\n"
     ]
    }
   ],
   "source": [
    "# Obtivemos 3 algoritmos melhores que o LinearRegression, que foi considerado o nosso algoritmo de base.\n",
    "# Ou seja: A etapa de otimização do modelo foi bem-sucedida.\n",
    "\n",
    "print(\"Melhor algoritmo encontrado pelo grid: \")\n",
    "print(str(result2['best_estimator'][0]))\n",
    "print(str(result2['Score'][0]))"
   ]
  },
  {
   "cell_type": "code",
   "execution_count": 64,
   "metadata": {},
   "outputs": [],
   "source": [
    "regr = result2['best_estimator'][0]"
   ]
  },
  {
   "cell_type": "code",
   "execution_count": 65,
   "metadata": {},
   "outputs": [
    {
     "output_type": "execute_result",
     "data": {
      "text/plain": [
       "GradientBoostingRegressor(n_estimators=180)"
      ]
     },
     "metadata": {},
     "execution_count": 65
    }
   ],
   "source": [
    "# Treina o modelo com a massa de treino.\n",
    "regr.fit(X_train, y_train)"
   ]
  },
  {
   "cell_type": "code",
   "execution_count": 66,
   "metadata": {
    "tags": []
   },
   "outputs": [
    {
     "output_type": "execute_result",
     "data": {
      "text/plain": [
       "['regressor.joblib']"
      ]
     },
     "metadata": {},
     "execution_count": 66
    }
   ],
   "source": [
    "# Salva o modelo treinado\n",
    "dump(regr, 'regressor.joblib')"
   ]
  }
 ],
 "metadata": {
  "kernelspec": {
   "display_name": "Python 3",
   "language": "python",
   "name": "python3"
  },
  "language_info": {
   "codemirror_mode": {
    "name": "ipython",
    "version": 3
   },
   "file_extension": ".py",
   "mimetype": "text/x-python",
   "name": "python",
   "nbconvert_exporter": "python",
   "pygments_lexer": "ipython3",
   "version": "3.8.3-final"
  }
 },
 "nbformat": 4,
 "nbformat_minor": 4
}