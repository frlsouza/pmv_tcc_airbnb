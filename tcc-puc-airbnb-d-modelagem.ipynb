{
 "cells": [
  {
   "source": [
    "## Importando as bibliotecas"
   ],
   "cell_type": "markdown",
   "metadata": {}
  },
  {
   "cell_type": "code",
   "execution_count": 104,
   "metadata": {},
   "outputs": [],
   "source": [
    "import pandas as pd\n",
    "import numpy as np\n",
    "import matplotlib.pyplot as plt\n",
    "import seaborn as sns\n",
    "from sklearn.model_selection import train_test_split\n",
    "from math import sqrt\n",
    "from joblib import dump, load"
   ]
  },
  {
   "source": [
    "## Instanciando o dataframe"
   ],
   "cell_type": "markdown",
   "metadata": {}
  },
  {
   "cell_type": "code",
   "execution_count": 105,
   "metadata": {},
   "outputs": [
    {
     "output_type": "execute_result",
     "data": {
      "text/plain": [
       "          latitude  longitude  neighbourhood  room_type  property_type  \\\n",
       "id                                                                       \n",
       "17878    -22.96592  -43.17896              0          0              0   \n",
       "25026    -22.97712  -43.19045              0          0              1   \n",
       "31560    -22.98302  -43.21427              1          0              1   \n",
       "35636    -22.98816  -43.19359              1          0              1   \n",
       "35764    -22.98127  -43.19046              0          0              2   \n",
       "...            ...        ...            ...        ...            ...   \n",
       "36808690 -23.00727  -43.44040             11          0              1   \n",
       "36837810 -23.01045  -43.30748              4          0              1   \n",
       "36839136 -22.96932  -43.18222              0          0              1   \n",
       "36845334 -22.98327  -43.22252              2          1              1   \n",
       "36845837 -22.95470  -43.17592              5          1              1   \n",
       "\n",
       "          bedrooms  accommodates  cleaning_fee  guests_included  \\\n",
       "id                                                                \n",
       "17878          2.0             5         378.0                2   \n",
       "25026          1.0             2         250.0                2   \n",
       "31560          1.0             3          84.0                2   \n",
       "35636          1.0             3         172.0                2   \n",
       "35764          1.0             2         140.0                2   \n",
       "...            ...           ...           ...              ...   \n",
       "36808690       2.0             4         120.0                1   \n",
       "36837810       3.0             7         100.0                7   \n",
       "36839136       1.0             4          80.0                4   \n",
       "36845334       1.0             2         105.0                1   \n",
       "36845837       1.0             2          50.0                1   \n",
       "\n",
       "          Free_parking_on_premises  ...  Dryer  Hot_tub  Family/kid_friendly  \\\n",
       "id                                  ...                                        \n",
       "17878                            0  ...      0        1                    1   \n",
       "25026                            0  ...      0        0                    1   \n",
       "31560                            0  ...      0        0                    0   \n",
       "35636                            0  ...      0        0                    1   \n",
       "35764                            0  ...      0        0                    1   \n",
       "...                            ...  ...    ...      ...                  ...   \n",
       "36808690                         1  ...      0        0                    0   \n",
       "36837810                         1  ...      1        0                    0   \n",
       "36839136                         0  ...      0        0                    0   \n",
       "36845334                         0  ...      0        0                    0   \n",
       "36845837                         0  ...      0        0                    0   \n",
       "\n",
       "          Paid_parking_off_premises  Internet  Gym  number_of_reviews  \\\n",
       "id                                                                      \n",
       "17878                             1         1    0                243   \n",
       "25026                             0         1    0                235   \n",
       "31560                             0         1    0                271   \n",
       "35636                             0         1    0                169   \n",
       "35764                             1         0    0                316   \n",
       "...                             ...       ...  ...                ...   \n",
       "36808690                          0         0    0                  3   \n",
       "36837810                          0         0    0                  6   \n",
       "36839136                          0         0    0                  5   \n",
       "36845334                          0         0    0                  1   \n",
       "36845837                          0         0    0                  6   \n",
       "\n",
       "          Kitchen  Dishwasher  price  \n",
       "id                                    \n",
       "17878           1           0  332.0  \n",
       "25026           1           0  160.0  \n",
       "31560           1           0  273.0  \n",
       "35636           1           0  378.0  \n",
       "35764           1           0  130.0  \n",
       "...           ...         ...    ...  \n",
       "36808690        1           0  382.0  \n",
       "36837810        1           0  449.0  \n",
       "36839136        1           0  181.0  \n",
       "36845334        1           0  105.0  \n",
       "36845837        1           0   97.0  \n",
       "\n",
       "[7000 rows x 26 columns]"
      ],
      "text/html": "<div>\n<style scoped>\n    .dataframe tbody tr th:only-of-type {\n        vertical-align: middle;\n    }\n\n    .dataframe tbody tr th {\n        vertical-align: top;\n    }\n\n    .dataframe thead th {\n        text-align: right;\n    }\n</style>\n<table border=\"1\" class=\"dataframe\">\n  <thead>\n    <tr style=\"text-align: right;\">\n      <th></th>\n      <th>latitude</th>\n      <th>longitude</th>\n      <th>neighbourhood</th>\n      <th>room_type</th>\n      <th>property_type</th>\n      <th>bedrooms</th>\n      <th>accommodates</th>\n      <th>cleaning_fee</th>\n      <th>guests_included</th>\n      <th>Free_parking_on_premises</th>\n      <th>...</th>\n      <th>Dryer</th>\n      <th>Hot_tub</th>\n      <th>Family/kid_friendly</th>\n      <th>Paid_parking_off_premises</th>\n      <th>Internet</th>\n      <th>Gym</th>\n      <th>number_of_reviews</th>\n      <th>Kitchen</th>\n      <th>Dishwasher</th>\n      <th>price</th>\n    </tr>\n    <tr>\n      <th>id</th>\n      <th></th>\n      <th></th>\n      <th></th>\n      <th></th>\n      <th></th>\n      <th></th>\n      <th></th>\n      <th></th>\n      <th></th>\n      <th></th>\n      <th></th>\n      <th></th>\n      <th></th>\n      <th></th>\n      <th></th>\n      <th></th>\n      <th></th>\n      <th></th>\n      <th></th>\n      <th></th>\n      <th></th>\n    </tr>\n  </thead>\n  <tbody>\n    <tr>\n      <th>17878</th>\n      <td>-22.96592</td>\n      <td>-43.17896</td>\n      <td>0</td>\n      <td>0</td>\n      <td>0</td>\n      <td>2.0</td>\n      <td>5</td>\n      <td>378.0</td>\n      <td>2</td>\n      <td>0</td>\n      <td>...</td>\n      <td>0</td>\n      <td>1</td>\n      <td>1</td>\n      <td>1</td>\n      <td>1</td>\n      <td>0</td>\n      <td>243</td>\n      <td>1</td>\n      <td>0</td>\n      <td>332.0</td>\n    </tr>\n    <tr>\n      <th>25026</th>\n      <td>-22.97712</td>\n      <td>-43.19045</td>\n      <td>0</td>\n      <td>0</td>\n      <td>1</td>\n      <td>1.0</td>\n      <td>2</td>\n      <td>250.0</td>\n      <td>2</td>\n      <td>0</td>\n      <td>...</td>\n      <td>0</td>\n      <td>0</td>\n      <td>1</td>\n      <td>0</td>\n      <td>1</td>\n      <td>0</td>\n      <td>235</td>\n      <td>1</td>\n      <td>0</td>\n      <td>160.0</td>\n    </tr>\n    <tr>\n      <th>31560</th>\n      <td>-22.98302</td>\n      <td>-43.21427</td>\n      <td>1</td>\n      <td>0</td>\n      <td>1</td>\n      <td>1.0</td>\n      <td>3</td>\n      <td>84.0</td>\n      <td>2</td>\n      <td>0</td>\n      <td>...</td>\n      <td>0</td>\n      <td>0</td>\n      <td>0</td>\n      <td>0</td>\n      <td>1</td>\n      <td>0</td>\n      <td>271</td>\n      <td>1</td>\n      <td>0</td>\n      <td>273.0</td>\n    </tr>\n    <tr>\n      <th>35636</th>\n      <td>-22.98816</td>\n      <td>-43.19359</td>\n      <td>1</td>\n      <td>0</td>\n      <td>1</td>\n      <td>1.0</td>\n      <td>3</td>\n      <td>172.0</td>\n      <td>2</td>\n      <td>0</td>\n      <td>...</td>\n      <td>0</td>\n      <td>0</td>\n      <td>1</td>\n      <td>0</td>\n      <td>1</td>\n      <td>0</td>\n      <td>169</td>\n      <td>1</td>\n      <td>0</td>\n      <td>378.0</td>\n    </tr>\n    <tr>\n      <th>35764</th>\n      <td>-22.98127</td>\n      <td>-43.19046</td>\n      <td>0</td>\n      <td>0</td>\n      <td>2</td>\n      <td>1.0</td>\n      <td>2</td>\n      <td>140.0</td>\n      <td>2</td>\n      <td>0</td>\n      <td>...</td>\n      <td>0</td>\n      <td>0</td>\n      <td>1</td>\n      <td>1</td>\n      <td>0</td>\n      <td>0</td>\n      <td>316</td>\n      <td>1</td>\n      <td>0</td>\n      <td>130.0</td>\n    </tr>\n    <tr>\n      <th>...</th>\n      <td>...</td>\n      <td>...</td>\n      <td>...</td>\n      <td>...</td>\n      <td>...</td>\n      <td>...</td>\n      <td>...</td>\n      <td>...</td>\n      <td>...</td>\n      <td>...</td>\n      <td>...</td>\n      <td>...</td>\n      <td>...</td>\n      <td>...</td>\n      <td>...</td>\n      <td>...</td>\n      <td>...</td>\n      <td>...</td>\n      <td>...</td>\n      <td>...</td>\n      <td>...</td>\n    </tr>\n    <tr>\n      <th>36808690</th>\n      <td>-23.00727</td>\n      <td>-43.44040</td>\n      <td>11</td>\n      <td>0</td>\n      <td>1</td>\n      <td>2.0</td>\n      <td>4</td>\n      <td>120.0</td>\n      <td>1</td>\n      <td>1</td>\n      <td>...</td>\n      <td>0</td>\n      <td>0</td>\n      <td>0</td>\n      <td>0</td>\n      <td>0</td>\n      <td>0</td>\n      <td>3</td>\n      <td>1</td>\n      <td>0</td>\n      <td>382.0</td>\n    </tr>\n    <tr>\n      <th>36837810</th>\n      <td>-23.01045</td>\n      <td>-43.30748</td>\n      <td>4</td>\n      <td>0</td>\n      <td>1</td>\n      <td>3.0</td>\n      <td>7</td>\n      <td>100.0</td>\n      <td>7</td>\n      <td>1</td>\n      <td>...</td>\n      <td>1</td>\n      <td>0</td>\n      <td>0</td>\n      <td>0</td>\n      <td>0</td>\n      <td>0</td>\n      <td>6</td>\n      <td>1</td>\n      <td>0</td>\n      <td>449.0</td>\n    </tr>\n    <tr>\n      <th>36839136</th>\n      <td>-22.96932</td>\n      <td>-43.18222</td>\n      <td>0</td>\n      <td>0</td>\n      <td>1</td>\n      <td>1.0</td>\n      <td>4</td>\n      <td>80.0</td>\n      <td>4</td>\n      <td>0</td>\n      <td>...</td>\n      <td>0</td>\n      <td>0</td>\n      <td>0</td>\n      <td>0</td>\n      <td>0</td>\n      <td>0</td>\n      <td>5</td>\n      <td>1</td>\n      <td>0</td>\n      <td>181.0</td>\n    </tr>\n    <tr>\n      <th>36845334</th>\n      <td>-22.98327</td>\n      <td>-43.22252</td>\n      <td>2</td>\n      <td>1</td>\n      <td>1</td>\n      <td>1.0</td>\n      <td>2</td>\n      <td>105.0</td>\n      <td>1</td>\n      <td>0</td>\n      <td>...</td>\n      <td>0</td>\n      <td>0</td>\n      <td>0</td>\n      <td>0</td>\n      <td>0</td>\n      <td>0</td>\n      <td>1</td>\n      <td>1</td>\n      <td>0</td>\n      <td>105.0</td>\n    </tr>\n    <tr>\n      <th>36845837</th>\n      <td>-22.95470</td>\n      <td>-43.17592</td>\n      <td>5</td>\n      <td>1</td>\n      <td>1</td>\n      <td>1.0</td>\n      <td>2</td>\n      <td>50.0</td>\n      <td>1</td>\n      <td>0</td>\n      <td>...</td>\n      <td>0</td>\n      <td>0</td>\n      <td>0</td>\n      <td>0</td>\n      <td>0</td>\n      <td>0</td>\n      <td>6</td>\n      <td>1</td>\n      <td>0</td>\n      <td>97.0</td>\n    </tr>\n  </tbody>\n</table>\n<p>7000 rows × 26 columns</p>\n</div>"
     },
     "metadata": {},
     "execution_count": 105
    }
   ],
   "source": [
    "df_airbnb_ml = pd.read_csv('airbnb_ml.csv', index_col='id', engine='python', sep =',', encoding=\"utf-8\")\n",
    "df_airbnb_ml"
   ]
  },
  {
   "source": [
    "## Particionando os dados"
   ],
   "cell_type": "markdown",
   "metadata": {}
  },
  {
   "cell_type": "code",
   "execution_count": 106,
   "metadata": {},
   "outputs": [
    {
     "output_type": "stream",
     "name": "stdout",
     "text": [
      "Quantidade de registros de X_train: 6300\nQuantidade de registros de y_train: 6300\nQuantidade de registros de X_test: 700\nQuantidade de registros de y_test: 700\n"
     ]
    }
   ],
   "source": [
    "# Define semente aleatória, para garantir a reproducibilidade dos resultados\n",
    "\n",
    "random_state=1223614\n",
    "\n",
    "# Vamos dividir da seguinte forma: 90% para treino e 10% para teste. \n",
    "# Os registros deverão ser embaralhados.\n",
    "\n",
    "X = df_airbnb_ml.drop(columns=['price'])\n",
    "y = df_airbnb_ml['price']\n",
    "\n",
    "X_train, X_test, y_train, y_test = \\\n",
    "    train_test_split(X, y, test_size=0.1, random_state=random_state)\n",
    "\n",
    "print(\"Quantidade de registros de X_train: \" + str(X_train.shape[0]))\n",
    "print(\"Quantidade de registros de y_train: \" + str(y_train.shape[0]))\n",
    "print(\"Quantidade de registros de X_test: \" + str(X_test.shape[0]))\n",
    "print(\"Quantidade de registros de y_test: \" + str(y_test.shape[0]))"
   ]
  },
  {
   "cell_type": "code",
   "execution_count": 107,
   "metadata": {},
   "outputs": [
    {
     "output_type": "execute_result",
     "data": {
      "text/plain": [
       "<matplotlib.axes._subplots.AxesSubplot at 0x21920894f40>"
      ]
     },
     "metadata": {},
     "execution_count": 107
    },
    {
     "output_type": "display_data",
     "data": {
      "text/plain": "<Figure size 360x360 with 1 Axes>",
      "image/svg+xml": "<?xml version=\"1.0\" encoding=\"utf-8\" standalone=\"no\"?>\r\n<!DOCTYPE svg PUBLIC \"-//W3C//DTD SVG 1.1//EN\"\r\n  \"http://www.w3.org/Graphics/SVG/1.1/DTD/svg11.dtd\">\r\n<!-- Created with matplotlib (https://matplotlib.org/) -->\r\n<svg height=\"286.2pt\" version=\"1.1\" viewBox=\"0 0 312.924879 286.2\" width=\"312.924879pt\" xmlns=\"http://www.w3.org/2000/svg\" xmlns:xlink=\"http://www.w3.org/1999/xlink\">\r\n <defs>\r\n  <style type=\"text/css\">\r\n*{stroke-linecap:butt;stroke-linejoin:round;}\r\n  </style>\r\n </defs>\r\n <g id=\"figure_1\">\r\n  <g id=\"patch_1\">\r\n   <path d=\"M 0 286.2 \r\nL 312.924879 286.2 \r\nL 312.924879 0 \r\nL 0 0 \r\nz\r\n\" style=\"fill:none;\"/>\r\n  </g>\r\n  <g id=\"axes_1\">\r\n   <g id=\"patch_2\">\r\n    <path d=\"M 265.498125 143.1 \r\nC 265.498125 122.471231 259.626904 102.262355 248.573456 84.844909 \r\nC 237.520008 67.427463 221.734314 53.510503 203.068845 44.727201 \r\nC 184.403376 35.943899 163.617994 32.651819 143.151889 35.237291 \r\nC 122.685783 37.822762 103.37212 46.180533 87.477381 59.329806 \r\nC 71.582642 72.47908 59.753895 89.884558 53.379257 109.503684 \r\nC 47.004619 129.12281 46.343598 150.156901 51.473767 170.137579 \r\nC 56.603936 190.118257 67.316448 208.232119 82.354176 222.353481 \r\nC 97.391904 236.474843 116.14267 246.028831 136.406048 249.894274 \r\nL 156.778125 143.1 \r\nL 265.498125 143.1 \r\nz\r\n\" style=\"fill:#1f77b4;\"/>\r\n   </g>\r\n   <g id=\"patch_3\">\r\n    <path d=\"M 136.406048 249.894274 \r\nC 147.612463 252.032009 159.085843 252.392573 170.404374 250.962708 \r\nC 181.722905 249.532843 192.746158 246.330289 203.068868 241.472788 \r\nL 156.778125 143.1 \r\nL 136.406048 249.894274 \r\nz\r\n\" style=\"fill:#ff7f0e;\"/>\r\n   </g>\r\n   <g id=\"patch_4\">\r\n    <path d=\"M 203.068868 241.472788 \r\nC 221.734335 232.689482 237.520026 218.772518 248.573469 201.35507 \r\nC 259.626913 183.937621 265.49813 163.728744 265.498125 143.099975 \r\nL 156.778125 143.1 \r\nL 203.068868 241.472788 \r\nz\r\n\" style=\"fill:#2ca02c;\"/>\r\n   </g>\r\n   <g id=\"matplotlib.axis_1\"/>\r\n   <g id=\"matplotlib.axis_2\">\r\n    <g id=\"text_1\">\r\n     <!-- dados -->\r\n     <defs>\r\n      <path d=\"M 45.40625 46.390625 \r\nL 45.40625 75.984375 \r\nL 54.390625 75.984375 \r\nL 54.390625 0 \r\nL 45.40625 0 \r\nL 45.40625 8.203125 \r\nQ 42.578125 3.328125 38.25 0.953125 \r\nQ 33.9375 -1.421875 27.875 -1.421875 \r\nQ 17.96875 -1.421875 11.734375 6.484375 \r\nQ 5.515625 14.40625 5.515625 27.296875 \r\nQ 5.515625 40.1875 11.734375 48.09375 \r\nQ 17.96875 56 27.875 56 \r\nQ 33.9375 56 38.25 53.625 \r\nQ 42.578125 51.265625 45.40625 46.390625 \r\nz\r\nM 14.796875 27.296875 \r\nQ 14.796875 17.390625 18.875 11.75 \r\nQ 22.953125 6.109375 30.078125 6.109375 \r\nQ 37.203125 6.109375 41.296875 11.75 \r\nQ 45.40625 17.390625 45.40625 27.296875 \r\nQ 45.40625 37.203125 41.296875 42.84375 \r\nQ 37.203125 48.484375 30.078125 48.484375 \r\nQ 22.953125 48.484375 18.875 42.84375 \r\nQ 14.796875 37.203125 14.796875 27.296875 \r\nz\r\n\" id=\"DejaVuSans-100\"/>\r\n      <path d=\"M 34.28125 27.484375 \r\nQ 23.390625 27.484375 19.1875 25 \r\nQ 14.984375 22.515625 14.984375 16.5 \r\nQ 14.984375 11.71875 18.140625 8.90625 \r\nQ 21.296875 6.109375 26.703125 6.109375 \r\nQ 34.1875 6.109375 38.703125 11.40625 \r\nQ 43.21875 16.703125 43.21875 25.484375 \r\nL 43.21875 27.484375 \r\nz\r\nM 52.203125 31.203125 \r\nL 52.203125 0 \r\nL 43.21875 0 \r\nL 43.21875 8.296875 \r\nQ 40.140625 3.328125 35.546875 0.953125 \r\nQ 30.953125 -1.421875 24.3125 -1.421875 \r\nQ 15.921875 -1.421875 10.953125 3.296875 \r\nQ 6 8.015625 6 15.921875 \r\nQ 6 25.140625 12.171875 29.828125 \r\nQ 18.359375 34.515625 30.609375 34.515625 \r\nL 43.21875 34.515625 \r\nL 43.21875 35.40625 \r\nQ 43.21875 41.609375 39.140625 45 \r\nQ 35.0625 48.390625 27.6875 48.390625 \r\nQ 23 48.390625 18.546875 47.265625 \r\nQ 14.109375 46.140625 10.015625 43.890625 \r\nL 10.015625 52.203125 \r\nQ 14.9375 54.109375 19.578125 55.046875 \r\nQ 24.21875 56 28.609375 56 \r\nQ 40.484375 56 46.34375 49.84375 \r\nQ 52.203125 43.703125 52.203125 31.203125 \r\nz\r\n\" id=\"DejaVuSans-97\"/>\r\n      <path d=\"M 30.609375 48.390625 \r\nQ 23.390625 48.390625 19.1875 42.75 \r\nQ 14.984375 37.109375 14.984375 27.296875 \r\nQ 14.984375 17.484375 19.15625 11.84375 \r\nQ 23.34375 6.203125 30.609375 6.203125 \r\nQ 37.796875 6.203125 41.984375 11.859375 \r\nQ 46.1875 17.53125 46.1875 27.296875 \r\nQ 46.1875 37.015625 41.984375 42.703125 \r\nQ 37.796875 48.390625 30.609375 48.390625 \r\nz\r\nM 30.609375 56 \r\nQ 42.328125 56 49.015625 48.375 \r\nQ 55.71875 40.765625 55.71875 27.296875 \r\nQ 55.71875 13.875 49.015625 6.21875 \r\nQ 42.328125 -1.421875 30.609375 -1.421875 \r\nQ 18.84375 -1.421875 12.171875 6.21875 \r\nQ 5.515625 13.875 5.515625 27.296875 \r\nQ 5.515625 40.765625 12.171875 48.375 \r\nQ 18.84375 56 30.609375 56 \r\nz\r\n\" id=\"DejaVuSans-111\"/>\r\n      <path d=\"M 44.28125 53.078125 \r\nL 44.28125 44.578125 \r\nQ 40.484375 46.53125 36.375 47.5 \r\nQ 32.28125 48.484375 27.875 48.484375 \r\nQ 21.1875 48.484375 17.84375 46.4375 \r\nQ 14.5 44.390625 14.5 40.28125 \r\nQ 14.5 37.15625 16.890625 35.375 \r\nQ 19.28125 33.59375 26.515625 31.984375 \r\nL 29.59375 31.296875 \r\nQ 39.15625 29.25 43.1875 25.515625 \r\nQ 47.21875 21.78125 47.21875 15.09375 \r\nQ 47.21875 7.46875 41.1875 3.015625 \r\nQ 35.15625 -1.421875 24.609375 -1.421875 \r\nQ 20.21875 -1.421875 15.453125 -0.5625 \r\nQ 10.6875 0.296875 5.421875 2 \r\nL 5.421875 11.28125 \r\nQ 10.40625 8.6875 15.234375 7.390625 \r\nQ 20.0625 6.109375 24.8125 6.109375 \r\nQ 31.15625 6.109375 34.5625 8.28125 \r\nQ 37.984375 10.453125 37.984375 14.40625 \r\nQ 37.984375 18.0625 35.515625 20.015625 \r\nQ 33.0625 21.96875 24.703125 23.78125 \r\nL 21.578125 24.515625 \r\nQ 13.234375 26.265625 9.515625 29.90625 \r\nQ 5.8125 33.546875 5.8125 39.890625 \r\nQ 5.8125 47.609375 11.28125 51.796875 \r\nQ 16.75 56 26.8125 56 \r\nQ 31.78125 56 36.171875 55.265625 \r\nQ 40.578125 54.546875 44.28125 53.078125 \r\nz\r\n\" id=\"DejaVuSans-115\"/>\r\n     </defs>\r\n     <g transform=\"translate(14.798438 158.176562)rotate(-90)scale(0.1 -0.1)\">\r\n      <use xlink:href=\"#DejaVuSans-100\"/>\r\n      <use x=\"63.476562\" xlink:href=\"#DejaVuSans-97\"/>\r\n      <use x=\"124.755859\" xlink:href=\"#DejaVuSans-100\"/>\r\n      <use x=\"188.232422\" xlink:href=\"#DejaVuSans-111\"/>\r\n      <use x=\"249.414062\" xlink:href=\"#DejaVuSans-115\"/>\r\n     </g>\r\n    </g>\r\n   </g>\r\n   <g id=\"text_2\">\r\n    <!-- Treino -->\r\n    <defs>\r\n     <path d=\"M -0.296875 72.90625 \r\nL 61.375 72.90625 \r\nL 61.375 64.59375 \r\nL 35.5 64.59375 \r\nL 35.5 0 \r\nL 25.59375 0 \r\nL 25.59375 64.59375 \r\nL -0.296875 64.59375 \r\nz\r\n\" id=\"DejaVuSans-84\"/>\r\n     <path d=\"M 41.109375 46.296875 \r\nQ 39.59375 47.171875 37.8125 47.578125 \r\nQ 36.03125 48 33.890625 48 \r\nQ 26.265625 48 22.1875 43.046875 \r\nQ 18.109375 38.09375 18.109375 28.8125 \r\nL 18.109375 0 \r\nL 9.078125 0 \r\nL 9.078125 54.6875 \r\nL 18.109375 54.6875 \r\nL 18.109375 46.1875 \r\nQ 20.953125 51.171875 25.484375 53.578125 \r\nQ 30.03125 56 36.53125 56 \r\nQ 37.453125 56 38.578125 55.875 \r\nQ 39.703125 55.765625 41.0625 55.515625 \r\nz\r\n\" id=\"DejaVuSans-114\"/>\r\n     <path d=\"M 56.203125 29.59375 \r\nL 56.203125 25.203125 \r\nL 14.890625 25.203125 \r\nQ 15.484375 15.921875 20.484375 11.0625 \r\nQ 25.484375 6.203125 34.421875 6.203125 \r\nQ 39.59375 6.203125 44.453125 7.46875 \r\nQ 49.3125 8.734375 54.109375 11.28125 \r\nL 54.109375 2.78125 \r\nQ 49.265625 0.734375 44.1875 -0.34375 \r\nQ 39.109375 -1.421875 33.890625 -1.421875 \r\nQ 20.796875 -1.421875 13.15625 6.1875 \r\nQ 5.515625 13.8125 5.515625 26.8125 \r\nQ 5.515625 40.234375 12.765625 48.109375 \r\nQ 20.015625 56 32.328125 56 \r\nQ 43.359375 56 49.78125 48.890625 \r\nQ 56.203125 41.796875 56.203125 29.59375 \r\nz\r\nM 47.21875 32.234375 \r\nQ 47.125 39.59375 43.09375 43.984375 \r\nQ 39.0625 48.390625 32.421875 48.390625 \r\nQ 24.90625 48.390625 20.390625 44.140625 \r\nQ 15.875 39.890625 15.1875 32.171875 \r\nz\r\n\" id=\"DejaVuSans-101\"/>\r\n     <path d=\"M 9.421875 54.6875 \r\nL 18.40625 54.6875 \r\nL 18.40625 0 \r\nL 9.421875 0 \r\nz\r\nM 9.421875 75.984375 \r\nL 18.40625 75.984375 \r\nL 18.40625 64.59375 \r\nL 9.421875 64.59375 \r\nz\r\n\" id=\"DejaVuSans-105\"/>\r\n     <path d=\"M 54.890625 33.015625 \r\nL 54.890625 0 \r\nL 45.90625 0 \r\nL 45.90625 32.71875 \r\nQ 45.90625 40.484375 42.875 44.328125 \r\nQ 39.84375 48.1875 33.796875 48.1875 \r\nQ 26.515625 48.1875 22.3125 43.546875 \r\nQ 18.109375 38.921875 18.109375 30.90625 \r\nL 18.109375 0 \r\nL 9.078125 0 \r\nL 9.078125 54.6875 \r\nL 18.109375 54.6875 \r\nL 18.109375 46.1875 \r\nQ 21.34375 51.125 25.703125 53.5625 \r\nQ 30.078125 56 35.796875 56 \r\nQ 45.21875 56 50.046875 50.171875 \r\nQ 54.890625 44.34375 54.890625 33.015625 \r\nz\r\n\" id=\"DejaVuSans-110\"/>\r\n    </defs>\r\n    <g transform=\"translate(50.641057 53.712162)scale(0.1 -0.1)\">\r\n     <use xlink:href=\"#DejaVuSans-84\"/>\r\n     <use x=\"46.333984\" xlink:href=\"#DejaVuSans-114\"/>\r\n     <use x=\"85.197266\" xlink:href=\"#DejaVuSans-101\"/>\r\n     <use x=\"146.720703\" xlink:href=\"#DejaVuSans-105\"/>\r\n     <use x=\"174.503906\" xlink:href=\"#DejaVuSans-110\"/>\r\n     <use x=\"237.882812\" xlink:href=\"#DejaVuSans-111\"/>\r\n    </g>\r\n   </g>\r\n   <g id=\"text_3\">\r\n    <!-- 72.0% -->\r\n    <defs>\r\n     <path d=\"M 8.203125 72.90625 \r\nL 55.078125 72.90625 \r\nL 55.078125 68.703125 \r\nL 28.609375 0 \r\nL 18.3125 0 \r\nL 43.21875 64.59375 \r\nL 8.203125 64.59375 \r\nz\r\n\" id=\"DejaVuSans-55\"/>\r\n     <path d=\"M 19.1875 8.296875 \r\nL 53.609375 8.296875 \r\nL 53.609375 0 \r\nL 7.328125 0 \r\nL 7.328125 8.296875 \r\nQ 12.9375 14.109375 22.625 23.890625 \r\nQ 32.328125 33.6875 34.8125 36.53125 \r\nQ 39.546875 41.84375 41.421875 45.53125 \r\nQ 43.3125 49.21875 43.3125 52.78125 \r\nQ 43.3125 58.59375 39.234375 62.25 \r\nQ 35.15625 65.921875 28.609375 65.921875 \r\nQ 23.96875 65.921875 18.8125 64.3125 \r\nQ 13.671875 62.703125 7.8125 59.421875 \r\nL 7.8125 69.390625 \r\nQ 13.765625 71.78125 18.9375 73 \r\nQ 24.125 74.21875 28.421875 74.21875 \r\nQ 39.75 74.21875 46.484375 68.546875 \r\nQ 53.21875 62.890625 53.21875 53.421875 \r\nQ 53.21875 48.921875 51.53125 44.890625 \r\nQ 49.859375 40.875 45.40625 35.40625 \r\nQ 44.1875 33.984375 37.640625 27.21875 \r\nQ 31.109375 20.453125 19.1875 8.296875 \r\nz\r\n\" id=\"DejaVuSans-50\"/>\r\n     <path d=\"M 10.6875 12.40625 \r\nL 21 12.40625 \r\nL 21 0 \r\nL 10.6875 0 \r\nz\r\n\" id=\"DejaVuSans-46\"/>\r\n     <path d=\"M 31.78125 66.40625 \r\nQ 24.171875 66.40625 20.328125 58.90625 \r\nQ 16.5 51.421875 16.5 36.375 \r\nQ 16.5 21.390625 20.328125 13.890625 \r\nQ 24.171875 6.390625 31.78125 6.390625 \r\nQ 39.453125 6.390625 43.28125 13.890625 \r\nQ 47.125 21.390625 47.125 36.375 \r\nQ 47.125 51.421875 43.28125 58.90625 \r\nQ 39.453125 66.40625 31.78125 66.40625 \r\nz\r\nM 31.78125 74.21875 \r\nQ 44.046875 74.21875 50.515625 64.515625 \r\nQ 56.984375 54.828125 56.984375 36.375 \r\nQ 56.984375 17.96875 50.515625 8.265625 \r\nQ 44.046875 -1.421875 31.78125 -1.421875 \r\nQ 19.53125 -1.421875 13.0625 8.265625 \r\nQ 6.59375 17.96875 6.59375 36.375 \r\nQ 6.59375 54.828125 13.0625 64.515625 \r\nQ 19.53125 74.21875 31.78125 74.21875 \r\nz\r\n\" id=\"DejaVuSans-48\"/>\r\n     <path d=\"M 72.703125 32.078125 \r\nQ 68.453125 32.078125 66.03125 28.46875 \r\nQ 63.625 24.859375 63.625 18.40625 \r\nQ 63.625 12.0625 66.03125 8.421875 \r\nQ 68.453125 4.78125 72.703125 4.78125 \r\nQ 76.859375 4.78125 79.265625 8.421875 \r\nQ 81.6875 12.0625 81.6875 18.40625 \r\nQ 81.6875 24.8125 79.265625 28.4375 \r\nQ 76.859375 32.078125 72.703125 32.078125 \r\nz\r\nM 72.703125 38.28125 \r\nQ 80.421875 38.28125 84.953125 32.90625 \r\nQ 89.5 27.546875 89.5 18.40625 \r\nQ 89.5 9.28125 84.9375 3.921875 \r\nQ 80.375 -1.421875 72.703125 -1.421875 \r\nQ 64.890625 -1.421875 60.34375 3.921875 \r\nQ 55.8125 9.28125 55.8125 18.40625 \r\nQ 55.8125 27.59375 60.375 32.9375 \r\nQ 64.9375 38.28125 72.703125 38.28125 \r\nz\r\nM 22.3125 68.015625 \r\nQ 18.109375 68.015625 15.6875 64.375 \r\nQ 13.28125 60.75 13.28125 54.390625 \r\nQ 13.28125 47.953125 15.671875 44.328125 \r\nQ 18.0625 40.71875 22.3125 40.71875 \r\nQ 26.5625 40.71875 28.96875 44.328125 \r\nQ 31.390625 47.953125 31.390625 54.390625 \r\nQ 31.390625 60.6875 28.953125 64.34375 \r\nQ 26.515625 68.015625 22.3125 68.015625 \r\nz\r\nM 66.40625 74.21875 \r\nL 74.21875 74.21875 \r\nL 28.609375 -1.421875 \r\nL 20.796875 -1.421875 \r\nz\r\nM 22.3125 74.21875 \r\nQ 30.03125 74.21875 34.609375 68.875 \r\nQ 39.203125 63.53125 39.203125 54.390625 \r\nQ 39.203125 45.171875 34.640625 39.84375 \r\nQ 30.078125 34.515625 22.3125 34.515625 \r\nQ 14.546875 34.515625 10.03125 39.859375 \r\nQ 5.515625 45.21875 5.515625 54.390625 \r\nQ 5.515625 63.484375 10.046875 68.84375 \r\nQ 14.59375 74.21875 22.3125 74.21875 \r\nz\r\n\" id=\"DejaVuSans-37\"/>\r\n    </defs>\r\n    <g transform=\"translate(99.314085 95.597259)scale(0.1 -0.1)\">\r\n     <use xlink:href=\"#DejaVuSans-55\"/>\r\n     <use x=\"63.623047\" xlink:href=\"#DejaVuSans-50\"/>\r\n     <use x=\"127.246094\" xlink:href=\"#DejaVuSans-46\"/>\r\n     <use x=\"159.033203\" xlink:href=\"#DejaVuSans-48\"/>\r\n     <use x=\"222.65625\" xlink:href=\"#DejaVuSans-37\"/>\r\n    </g>\r\n   </g>\r\n   <g id=\"text_4\">\r\n    <!-- Teste -->\r\n    <defs>\r\n     <path d=\"M 18.3125 70.21875 \r\nL 18.3125 54.6875 \r\nL 36.8125 54.6875 \r\nL 36.8125 47.703125 \r\nL 18.3125 47.703125 \r\nL 18.3125 18.015625 \r\nQ 18.3125 11.328125 20.140625 9.421875 \r\nQ 21.96875 7.515625 27.59375 7.515625 \r\nL 36.8125 7.515625 \r\nL 36.8125 0 \r\nL 27.59375 0 \r\nQ 17.1875 0 13.234375 3.875 \r\nQ 9.28125 7.765625 9.28125 18.015625 \r\nL 9.28125 47.703125 \r\nL 2.6875 47.703125 \r\nL 2.6875 54.6875 \r\nL 9.28125 54.6875 \r\nL 9.28125 70.21875 \r\nz\r\n\" id=\"DejaVuSans-116\"/>\r\n    </defs>\r\n    <g transform=\"translate(171.766999 264.508354)scale(0.1 -0.1)\">\r\n     <use xlink:href=\"#DejaVuSans-84\"/>\r\n     <use x=\"44.083984\" xlink:href=\"#DejaVuSans-101\"/>\r\n     <use x=\"105.607422\" xlink:href=\"#DejaVuSans-115\"/>\r\n     <use x=\"157.707031\" xlink:href=\"#DejaVuSans-116\"/>\r\n     <use x=\"196.916016\" xlink:href=\"#DejaVuSans-101\"/>\r\n    </g>\r\n   </g>\r\n   <g id=\"text_5\">\r\n    <!-- 10.0% -->\r\n    <defs>\r\n     <path d=\"M 12.40625 8.296875 \r\nL 28.515625 8.296875 \r\nL 28.515625 63.921875 \r\nL 10.984375 60.40625 \r\nL 10.984375 69.390625 \r\nL 28.421875 72.90625 \r\nL 38.28125 72.90625 \r\nL 38.28125 8.296875 \r\nL 54.390625 8.296875 \r\nL 54.390625 0 \r\nL 12.40625 0 \r\nz\r\n\" id=\"DejaVuSans-49\"/>\r\n    </defs>\r\n    <g transform=\"translate(149.070281 210.577)scale(0.1 -0.1)\">\r\n     <use xlink:href=\"#DejaVuSans-49\"/>\r\n     <use x=\"63.623047\" xlink:href=\"#DejaVuSans-48\"/>\r\n     <use x=\"127.246094\" xlink:href=\"#DejaVuSans-46\"/>\r\n     <use x=\"159.033203\" xlink:href=\"#DejaVuSans-48\"/>\r\n     <use x=\"222.65625\" xlink:href=\"#DejaVuSans-37\"/>\r\n    </g>\r\n   </g>\r\n   <g id=\"text_6\">\r\n    <!-- Validação -->\r\n    <defs>\r\n     <path d=\"M 28.609375 0 \r\nL 0.78125 72.90625 \r\nL 11.078125 72.90625 \r\nL 34.1875 11.53125 \r\nL 57.328125 72.90625 \r\nL 67.578125 72.90625 \r\nL 39.796875 0 \r\nz\r\n\" id=\"DejaVuSans-86\"/>\r\n     <path d=\"M 9.421875 75.984375 \r\nL 18.40625 75.984375 \r\nL 18.40625 0 \r\nL 9.421875 0 \r\nz\r\n\" id=\"DejaVuSans-108\"/>\r\n     <path d=\"M 48.78125 52.59375 \r\nL 48.78125 44.1875 \r\nQ 44.96875 46.296875 41.140625 47.34375 \r\nQ 37.3125 48.390625 33.40625 48.390625 \r\nQ 24.65625 48.390625 19.8125 42.84375 \r\nQ 14.984375 37.3125 14.984375 27.296875 \r\nQ 14.984375 17.28125 19.8125 11.734375 \r\nQ 24.65625 6.203125 33.40625 6.203125 \r\nQ 37.3125 6.203125 41.140625 7.25 \r\nQ 44.96875 8.296875 48.78125 10.40625 \r\nL 48.78125 2.09375 \r\nQ 45.015625 0.34375 40.984375 -0.53125 \r\nQ 36.96875 -1.421875 32.421875 -1.421875 \r\nQ 20.0625 -1.421875 12.78125 6.34375 \r\nQ 5.515625 14.109375 5.515625 27.296875 \r\nQ 5.515625 40.671875 12.859375 48.328125 \r\nQ 20.21875 56 33.015625 56 \r\nQ 37.15625 56 41.109375 55.140625 \r\nQ 45.0625 54.296875 48.78125 52.59375 \r\nz\r\nM 36.078125 0 \r\nQ 38.765625 -3.03125 40.078125 -5.59375 \r\nQ 41.40625 -8.15625 41.40625 -10.5 \r\nQ 41.40625 -14.84375 38.46875 -17.0625 \r\nQ 35.546875 -19.28125 29.78125 -19.28125 \r\nQ 27.546875 -19.28125 25.421875 -18.984375 \r\nQ 23.296875 -18.703125 21.1875 -18.109375 \r\nL 21.1875 -11.71875 \r\nQ 22.859375 -12.546875 24.65625 -12.90625 \r\nQ 26.46875 -13.28125 28.765625 -13.28125 \r\nQ 31.640625 -13.28125 33.109375 -12.109375 \r\nQ 34.578125 -10.9375 34.578125 -8.6875 \r\nQ 34.578125 -7.234375 33.515625 -5.109375 \r\nQ 32.46875 -2.984375 30.28125 0 \r\nz\r\n\" id=\"DejaVuSans-231\"/>\r\n     <path d=\"M 34.28125 27.484375 \r\nQ 23.390625 27.484375 19.1875 25 \r\nQ 14.984375 22.515625 14.984375 16.5 \r\nQ 14.984375 11.71875 18.140625 8.90625 \r\nQ 21.296875 6.109375 26.703125 6.109375 \r\nQ 34.1875 6.109375 38.703125 11.40625 \r\nQ 43.21875 16.703125 43.21875 25.484375 \r\nL 43.21875 27.484375 \r\nz\r\nM 52.203125 31.203125 \r\nL 52.203125 0 \r\nL 43.21875 0 \r\nL 43.21875 8.296875 \r\nQ 40.140625 3.328125 35.546875 0.953125 \r\nQ 30.953125 -1.421875 24.3125 -1.421875 \r\nQ 15.921875 -1.421875 10.953125 3.296875 \r\nQ 6 8.015625 6 15.921875 \r\nQ 6 25.140625 12.171875 29.828125 \r\nQ 18.359375 34.515625 30.609375 34.515625 \r\nL 43.21875 34.515625 \r\nL 43.21875 35.40625 \r\nQ 43.21875 41.609375 39.140625 45 \r\nQ 35.0625 48.390625 27.6875 48.390625 \r\nQ 23 48.390625 18.546875 47.265625 \r\nQ 14.109375 46.140625 10.015625 43.890625 \r\nL 10.015625 52.203125 \r\nQ 14.9375 54.109375 19.578125 55.046875 \r\nQ 24.21875 56 28.609375 56 \r\nQ 40.484375 56 46.34375 49.84375 \r\nQ 52.203125 43.703125 52.203125 31.203125 \r\nz\r\nM 28.8125 66.890625 \r\nL 26.03125 69.578125 \r\nQ 24.953125 70.5625 24.140625 71.015625 \r\nQ 23.34375 71.484375 22.703125 71.484375 \r\nQ 20.84375 71.484375 19.96875 69.703125 \r\nQ 19.09375 67.921875 19 63.921875 \r\nL 12.890625 63.921875 \r\nQ 12.984375 70.515625 15.46875 74.09375 \r\nQ 17.96875 77.6875 22.40625 77.6875 \r\nQ 24.265625 77.6875 25.828125 77 \r\nQ 27.390625 76.3125 29.203125 74.703125 \r\nL 31.984375 72.015625 \r\nQ 33.0625 71.046875 33.859375 70.578125 \r\nQ 34.671875 70.125 35.296875 70.125 \r\nQ 37.15625 70.125 38.03125 71.90625 \r\nQ 38.921875 73.6875 39.015625 77.6875 \r\nL 45.125 77.6875 \r\nQ 45.015625 71.09375 42.53125 67.5 \r\nQ 40.046875 63.921875 35.59375 63.921875 \r\nQ 33.734375 63.921875 32.171875 64.59375 \r\nQ 30.609375 65.28125 28.8125 66.890625 \r\nz\r\n\" id=\"DejaVuSans-227\"/>\r\n    </defs>\r\n    <g transform=\"translate(257.753004 209.949327)scale(0.1 -0.1)\">\r\n     <use xlink:href=\"#DejaVuSans-86\"/>\r\n     <use x=\"60.658203\" xlink:href=\"#DejaVuSans-97\"/>\r\n     <use x=\"121.9375\" xlink:href=\"#DejaVuSans-108\"/>\r\n     <use x=\"149.720703\" xlink:href=\"#DejaVuSans-105\"/>\r\n     <use x=\"177.503906\" xlink:href=\"#DejaVuSans-100\"/>\r\n     <use x=\"240.980469\" xlink:href=\"#DejaVuSans-97\"/>\r\n     <use x=\"302.259766\" xlink:href=\"#DejaVuSans-231\"/>\r\n     <use x=\"357.240234\" xlink:href=\"#DejaVuSans-227\"/>\r\n     <use x=\"418.519531\" xlink:href=\"#DejaVuSans-111\"/>\r\n    </g>\r\n   </g>\r\n   <g id=\"text_7\">\r\n    <!-- 18.0% -->\r\n    <defs>\r\n     <path d=\"M 31.78125 34.625 \r\nQ 24.75 34.625 20.71875 30.859375 \r\nQ 16.703125 27.09375 16.703125 20.515625 \r\nQ 16.703125 13.921875 20.71875 10.15625 \r\nQ 24.75 6.390625 31.78125 6.390625 \r\nQ 38.8125 6.390625 42.859375 10.171875 \r\nQ 46.921875 13.96875 46.921875 20.515625 \r\nQ 46.921875 27.09375 42.890625 30.859375 \r\nQ 38.875 34.625 31.78125 34.625 \r\nz\r\nM 21.921875 38.8125 \r\nQ 15.578125 40.375 12.03125 44.71875 \r\nQ 8.5 49.078125 8.5 55.328125 \r\nQ 8.5 64.0625 14.71875 69.140625 \r\nQ 20.953125 74.21875 31.78125 74.21875 \r\nQ 42.671875 74.21875 48.875 69.140625 \r\nQ 55.078125 64.0625 55.078125 55.328125 \r\nQ 55.078125 49.078125 51.53125 44.71875 \r\nQ 48 40.375 41.703125 38.8125 \r\nQ 48.828125 37.15625 52.796875 32.3125 \r\nQ 56.78125 27.484375 56.78125 20.515625 \r\nQ 56.78125 9.90625 50.3125 4.234375 \r\nQ 43.84375 -1.421875 31.78125 -1.421875 \r\nQ 19.734375 -1.421875 13.25 4.234375 \r\nQ 6.78125 9.90625 6.78125 20.515625 \r\nQ 6.78125 27.484375 10.78125 32.3125 \r\nQ 14.796875 37.15625 21.921875 38.8125 \r\nz\r\nM 18.3125 54.390625 \r\nQ 18.3125 48.734375 21.84375 45.5625 \r\nQ 25.390625 42.390625 31.78125 42.390625 \r\nQ 38.140625 42.390625 41.71875 45.5625 \r\nQ 45.3125 48.734375 45.3125 54.390625 \r\nQ 45.3125 60.0625 41.71875 63.234375 \r\nQ 38.140625 66.40625 31.78125 66.40625 \r\nQ 25.390625 66.40625 21.84375 63.234375 \r\nQ 18.3125 60.0625 18.3125 54.390625 \r\nz\r\n\" id=\"DejaVuSans-56\"/>\r\n    </defs>\r\n    <g transform=\"translate(195.971738 180.812417)scale(0.1 -0.1)\">\r\n     <use xlink:href=\"#DejaVuSans-49\"/>\r\n     <use x=\"63.623047\" xlink:href=\"#DejaVuSans-56\"/>\r\n     <use x=\"127.246094\" xlink:href=\"#DejaVuSans-46\"/>\r\n     <use x=\"159.033203\" xlink:href=\"#DejaVuSans-48\"/>\r\n     <use x=\"222.65625\" xlink:href=\"#DejaVuSans-37\"/>\r\n    </g>\r\n   </g>\r\n   <g id=\"legend_1\">\r\n    <g id=\"patch_5\">\r\n     <path d=\"M 205.70625 59.253125 \r\nL 285.678125 59.253125 \r\nQ 287.678125 59.253125 287.678125 57.253125 \r\nL 287.678125 14.2 \r\nQ 287.678125 12.2 285.678125 12.2 \r\nL 205.70625 12.2 \r\nQ 203.70625 12.2 203.70625 14.2 \r\nL 203.70625 57.253125 \r\nQ 203.70625 59.253125 205.70625 59.253125 \r\nz\r\n\" style=\"fill:#ffffff;opacity:0.8;stroke:#cccccc;stroke-linejoin:miter;\"/>\r\n    </g>\r\n    <g id=\"patch_6\">\r\n     <path d=\"M 207.70625 23.798437 \r\nL 227.70625 23.798437 \r\nL 227.70625 16.798437 \r\nL 207.70625 16.798437 \r\nz\r\n\" style=\"fill:#1f77b4;\"/>\r\n    </g>\r\n    <g id=\"text_8\">\r\n     <!-- Treino -->\r\n     <g transform=\"translate(235.70625 23.798437)scale(0.1 -0.1)\">\r\n      <use xlink:href=\"#DejaVuSans-84\"/>\r\n      <use x=\"46.333984\" xlink:href=\"#DejaVuSans-114\"/>\r\n      <use x=\"85.197266\" xlink:href=\"#DejaVuSans-101\"/>\r\n      <use x=\"146.720703\" xlink:href=\"#DejaVuSans-105\"/>\r\n      <use x=\"174.503906\" xlink:href=\"#DejaVuSans-110\"/>\r\n      <use x=\"237.882812\" xlink:href=\"#DejaVuSans-111\"/>\r\n     </g>\r\n    </g>\r\n    <g id=\"patch_7\">\r\n     <path d=\"M 207.70625 38.476562 \r\nL 227.70625 38.476562 \r\nL 227.70625 31.476562 \r\nL 207.70625 31.476562 \r\nz\r\n\" style=\"fill:#ff7f0e;\"/>\r\n    </g>\r\n    <g id=\"text_9\">\r\n     <!-- Teste -->\r\n     <g transform=\"translate(235.70625 38.476562)scale(0.1 -0.1)\">\r\n      <use xlink:href=\"#DejaVuSans-84\"/>\r\n      <use x=\"44.083984\" xlink:href=\"#DejaVuSans-101\"/>\r\n      <use x=\"105.607422\" xlink:href=\"#DejaVuSans-115\"/>\r\n      <use x=\"157.707031\" xlink:href=\"#DejaVuSans-116\"/>\r\n      <use x=\"196.916016\" xlink:href=\"#DejaVuSans-101\"/>\r\n     </g>\r\n    </g>\r\n    <g id=\"patch_8\">\r\n     <path d=\"M 207.70625 53.173437 \r\nL 227.70625 53.173437 \r\nL 227.70625 46.173437 \r\nL 207.70625 46.173437 \r\nz\r\n\" style=\"fill:#2ca02c;\"/>\r\n    </g>\r\n    <g id=\"text_10\">\r\n     <!-- Validação -->\r\n     <g transform=\"translate(235.70625 53.173437)scale(0.1 -0.1)\">\r\n      <use xlink:href=\"#DejaVuSans-86\"/>\r\n      <use x=\"60.658203\" xlink:href=\"#DejaVuSans-97\"/>\r\n      <use x=\"121.9375\" xlink:href=\"#DejaVuSans-108\"/>\r\n      <use x=\"149.720703\" xlink:href=\"#DejaVuSans-105\"/>\r\n      <use x=\"177.503906\" xlink:href=\"#DejaVuSans-100\"/>\r\n      <use x=\"240.980469\" xlink:href=\"#DejaVuSans-97\"/>\r\n      <use x=\"302.259766\" xlink:href=\"#DejaVuSans-231\"/>\r\n      <use x=\"357.240234\" xlink:href=\"#DejaVuSans-227\"/>\r\n      <use x=\"418.519531\" xlink:href=\"#DejaVuSans-111\"/>\r\n     </g>\r\n    </g>\r\n   </g>\r\n  </g>\r\n </g>\r\n</svg>\r\n",
      "image/png": "[encoded data removed]"
     },
     "metadata": {}
    }
   ],
   "source": [
    "# Distribuição da massa de dados\n",
    "# 90% para treino e 10% para testes\n",
    "# Porém, 20% dos dados de treino serão utilizados para validação\n",
    "# Através da técnica de Cross Validation KFold\n",
    "# Que 'dobra' os dados K vezes e utiliza cada uma dessas frações sequencialmente para validação\n",
    "# Como definiremos o valor de K = 5, Os dados de treino serão diminuídos em 20% a cada iteração\n",
    "# Portanto, teremos 72% para treino (90% * 0.8) e 18% para validação (90% * 0.2).\n",
    "\n",
    "df = pd.DataFrame({'dados':[X_train.shape[0]*0.8, X_test.shape[0], X_train.shape[0]*0.2]}, index=['Treino', 'Teste', 'Validação'])\n",
    "df.plot.pie(y='dados', figsize=(5, 5), autopct='%1.1f%%')"
   ]
  },
  {
   "source": [
    "## Preparando os modelos preditivos"
   ],
   "cell_type": "markdown",
   "metadata": {}
  },
  {
   "cell_type": "code",
   "execution_count": 108,
   "metadata": {},
   "outputs": [
    {
     "output_type": "execute_result",
     "data": {
      "text/plain": [
       "                                                 model par_grid_0  \\\n",
       "name                                                                \n",
       "LinearRegression                    LinearRegression()         {}   \n",
       "Ridge                                          Ridge()         {}   \n",
       "SVR                                              SVR()         {}   \n",
       "RandomForestRegressor          RandomForestRegressor()         {}   \n",
       "GradientBoostingRegressor  GradientBoostingRegressor()         {}   \n",
       "KNeighborsRegressor              KNeighborsRegressor()         {}   \n",
       "DecisionTreeRegressor          DecisionTreeRegressor()         {}   \n",
       "Lasso                                          Lasso()         {}   \n",
       "ElasticNet                                ElasticNet()         {}   \n",
       "AdaBoostRegressor                  AdaBoostRegressor()         {}   \n",
       "SGDRegressor                            SGDRegressor()         {}   \n",
       "LassoLars                                  LassoLars()         {}   \n",
       "\n",
       "                                                                  par_grid_1  \n",
       "name                                                                          \n",
       "LinearRegression                                                          {}  \n",
       "Ridge                      {'alpha': [0.01, 10, 1000], 'normalize': [True...  \n",
       "SVR                        {'kernel': ['linear', 'rbf'], 'gamma': [0.001,...  \n",
       "RandomForestRegressor      {'max_depth': (50, 100, 150), 'random_state': ...  \n",
       "GradientBoostingRegressor  {'n_estimators': (60, 100, 140, 180), 'max_dep...  \n",
       "KNeighborsRegressor        {'n_neighbors': [3, 5, 7], 'weights': ['unifor...  \n",
       "DecisionTreeRegressor      {'max_depth': [None, 1, 2, 3, 4, 5, 6], 'split...  \n",
       "Lasso                      {'fit_intercept': [True, False], 'normalize': ...  \n",
       "ElasticNet                 {'fit_intercept': [True, False], 'normalize': ...  \n",
       "AdaBoostRegressor          {'n_estimators': [20, 50, 80, 100], 'loss': ['...  \n",
       "SGDRegressor               {'loss': ['squared_loss', 'huber', 'epsilon_in...  \n",
       "LassoLars                  {'alpha': [0.01, 0.5, 1.0, 1.5, 2.0], 'max_ite...  "
      ],
      "text/html": "<div>\n<style scoped>\n    .dataframe tbody tr th:only-of-type {\n        vertical-align: middle;\n    }\n\n    .dataframe tbody tr th {\n        vertical-align: top;\n    }\n\n    .dataframe thead th {\n        text-align: right;\n    }\n</style>\n<table border=\"1\" class=\"dataframe\">\n  <thead>\n    <tr style=\"text-align: right;\">\n      <th></th>\n      <th>model</th>\n      <th>par_grid_0</th>\n      <th>par_grid_1</th>\n    </tr>\n    <tr>\n      <th>name</th>\n      <th></th>\n      <th></th>\n      <th></th>\n    </tr>\n  </thead>\n  <tbody>\n    <tr>\n      <th>LinearRegression</th>\n      <td>LinearRegression()</td>\n      <td>{}</td>\n      <td>{}</td>\n    </tr>\n    <tr>\n      <th>Ridge</th>\n      <td>Ridge()</td>\n      <td>{}</td>\n      <td>{'alpha': [0.01, 10, 1000], 'normalize': [True...</td>\n    </tr>\n    <tr>\n      <th>SVR</th>\n      <td>SVR()</td>\n      <td>{}</td>\n      <td>{'kernel': ['linear', 'rbf'], 'gamma': [0.001,...</td>\n    </tr>\n    <tr>\n      <th>RandomForestRegressor</th>\n      <td>RandomForestRegressor()</td>\n      <td>{}</td>\n      <td>{'max_depth': (50, 100, 150), 'random_state': ...</td>\n    </tr>\n    <tr>\n      <th>GradientBoostingRegressor</th>\n      <td>GradientBoostingRegressor()</td>\n      <td>{}</td>\n      <td>{'n_estimators': (60, 100, 140, 180), 'max_dep...</td>\n    </tr>\n    <tr>\n      <th>KNeighborsRegressor</th>\n      <td>KNeighborsRegressor()</td>\n      <td>{}</td>\n      <td>{'n_neighbors': [3, 5, 7], 'weights': ['unifor...</td>\n    </tr>\n    <tr>\n      <th>DecisionTreeRegressor</th>\n      <td>DecisionTreeRegressor()</td>\n      <td>{}</td>\n      <td>{'max_depth': [None, 1, 2, 3, 4, 5, 6], 'split...</td>\n    </tr>\n    <tr>\n      <th>Lasso</th>\n      <td>Lasso()</td>\n      <td>{}</td>\n      <td>{'fit_intercept': [True, False], 'normalize': ...</td>\n    </tr>\n    <tr>\n      <th>ElasticNet</th>\n      <td>ElasticNet()</td>\n      <td>{}</td>\n      <td>{'fit_intercept': [True, False], 'normalize': ...</td>\n    </tr>\n    <tr>\n      <th>AdaBoostRegressor</th>\n      <td>AdaBoostRegressor()</td>\n      <td>{}</td>\n      <td>{'n_estimators': [20, 50, 80, 100], 'loss': ['...</td>\n    </tr>\n    <tr>\n      <th>SGDRegressor</th>\n      <td>SGDRegressor()</td>\n      <td>{}</td>\n      <td>{'loss': ['squared_loss', 'huber', 'epsilon_in...</td>\n    </tr>\n    <tr>\n      <th>LassoLars</th>\n      <td>LassoLars()</td>\n      <td>{}</td>\n      <td>{'alpha': [0.01, 0.5, 1.0, 1.5, 2.0], 'max_ite...</td>\n    </tr>\n  </tbody>\n</table>\n</div>"
     },
     "metadata": {},
     "execution_count": 108
    }
   ],
   "source": [
    "# criando lista de modelos preditivos a serem comparados\n",
    "# mapeando os nomes dos parâmetros dos modelos aos valores a serem verificados\n",
    "# o modelo LinearRegression será usado como linha de base para os resultados, por ser o mais simples.\n",
    "# ou seja: um \"bom modelo\" deve superar o LinearRegression.\n",
    "\n",
    "models = []\n",
    "\n",
    "from sklearn.linear_model import LinearRegression\n",
    "param_grid_0 = {}\n",
    "param_grid_1 = {}\n",
    "models.append(('LinearRegression', LinearRegression(), param_grid_0, param_grid_1))\n",
    "\n",
    "from sklearn.linear_model import Ridge\n",
    "param_grid_0 = {}\n",
    "param_grid_1 = {'alpha':[0.01, 10, 1000],'normalize':[True,False],'copy_X':[True,False]\n",
    "                , 'fit_intercept':[True,False], 'max_iter':[None], 'normalize':[True,False]\n",
    "                , 'random_state':[None,0], 'solver':['auto'], 'tol':[0.001]}\n",
    "models.append(('Ridge', Ridge(), param_grid_0, param_grid_1))\n",
    "\n",
    "from sklearn.svm import SVR\n",
    "param_grid_0 = {}\n",
    "param_grid_1 = {'kernel':['linear', 'rbf'], 'gamma': [0.001, 0.1, 1, 10],'C': [0.001, 0.1, 1, 10]\n",
    "                , 'epsilon': [x/100 for x in range(100,201,10)]}\n",
    "models.append(('SVR', SVR(), param_grid_0, param_grid_1))\n",
    "\n",
    "from sklearn.ensemble import RandomForestRegressor\n",
    "param_grid_0 = {}\n",
    "param_grid_1 = {'max_depth':range(50,151,50), 'random_state':[None, 0]\n",
    "                , 'n_estimators':range(50,151,50),'bootstrap' :[True,False]}\n",
    "models.append(('RandomForestRegressor', RandomForestRegressor(), param_grid_0, param_grid_1))\n",
    "\n",
    "from sklearn.ensemble import GradientBoostingRegressor\n",
    "param_grid_0 = {}\n",
    "param_grid_1 = {'n_estimators':range(60,201,40), 'max_depth':range(1,5,2)\n",
    "                , 'learning_rate':[x/100 for x in range(10,101,20)]}\n",
    "models.append(('GradientBoostingRegressor', GradientBoostingRegressor(), param_grid_0, param_grid_1))\n",
    "\n",
    "from sklearn.neighbors import KNeighborsRegressor\n",
    "param_grid_0 = {}\n",
    "param_grid_1 = {'n_neighbors':[3, 5, 7],'weights':['uniform','distance'],'p':[1,2]  }\n",
    "models.append(('KNeighborsRegressor', KNeighborsRegressor(), param_grid_0, param_grid_1))\n",
    "\n",
    "from sklearn.tree import DecisionTreeRegressor\n",
    "param_grid_0 = {}\n",
    "param_grid_1 = {'max_depth':[None, 1, 2, 3, 4, 5, 6],'splitter':['best','random']\n",
    "                ,'presort':[True,False]}\n",
    "models.append(('DecisionTreeRegressor', DecisionTreeRegressor(), param_grid_0, param_grid_1))\n",
    "\n",
    "from sklearn.linear_model import Lasso\n",
    "param_grid_0 = {}\n",
    "param_grid_1 = {'fit_intercept':[True,False],'normalize':[True,False]\n",
    "                ,'copy_X':[True,False],'selection':['cyclic','random'],'alpha':np.logspace(-3,3,5)}\n",
    "models.append(('Lasso', Lasso(), param_grid_0, param_grid_1))\n",
    "\n",
    "from sklearn.linear_model import ElasticNet\n",
    "param_grid_0 = {}\n",
    "param_grid_1 = {'fit_intercept':[True,False],'normalize':[True,False],'copy_X':[True,False]\n",
    "                ,'selection':['cyclic','random'],'alpha':np.logspace(-3,3,5)}\n",
    "models.append(('ElasticNet', ElasticNet(), param_grid_0, param_grid_1))\n",
    "\n",
    "from sklearn.ensemble import AdaBoostRegressor\n",
    "param_grid_0 = {}\n",
    "param_grid_1 = {'n_estimators':[20,50,80,100],'loss':['linear', 'square', 'exponential']\n",
    "                ,'random_state':[None,0,42]}\n",
    "models.append(('AdaBoostRegressor', AdaBoostRegressor(), param_grid_0, param_grid_1))\n",
    "\n",
    "from sklearn.linear_model import SGDRegressor\n",
    "param_grid_0 = {}\n",
    "param_grid_1 = {'loss':['squared_loss','huber','epsilon_insensitive','squared_epsilon_insensitive']\n",
    "                ,'penalty':['none','l2', 'l1','elasticnet'],'alpha':np.logspace(-3,3,5),'l1_ratio':[0.05,0.5,0.95]}\n",
    "models.append(('SGDRegressor', SGDRegressor(), param_grid_0, param_grid_1))\n",
    "\n",
    "from sklearn.linear_model import LassoLars\n",
    "param_grid_0 = {}\n",
    "param_grid_1 = {'alpha':[0.01, 0.5, 1.0, 1.5, 2.0], 'max_iter':[100, 300, 500]}\n",
    "models.append(('LassoLars', LassoLars(), param_grid_0, param_grid_1))                           \n",
    "\n",
    "models_df = pd.DataFrame(models, columns=['name', 'model', 'par_grid_0', 'par_grid_1'])\n",
    "models_df.set_index('name', inplace = True)\n",
    "models_df"
   ]
  },
  {
   "source": [
    "## Preparando a validação cruzada (KFold e GridSearch)"
   ],
   "cell_type": "markdown",
   "metadata": {}
  },
  {
   "cell_type": "code",
   "execution_count": 109,
   "metadata": {},
   "outputs": [],
   "source": [
    "# Definindo função score de regressão: Raiz do Erro Quadrático Médio - RMSE (Root Mean Square Error)\n",
    "\n",
    "from sklearn.metrics import make_scorer\n",
    "import sklearn.metrics as sm\n",
    "from sklearn.metrics import mean_squared_error\n",
    "\n",
    "def rmse(y_true, y_pred):\n",
    "    return np.sqrt(mean_squared_error(y_true, y_pred))\n",
    "\n",
    "rmse_scorer = make_scorer(rmse, greater_is_better=False)"
   ]
  },
  {
   "cell_type": "code",
   "execution_count": 110,
   "metadata": {},
   "outputs": [],
   "source": [
    "# Definindo função Grid Search\n",
    "\n",
    "from sklearn.model_selection import cross_val_score\n",
    "from sklearn.model_selection import GridSearchCV\n",
    "from sklearn.model_selection import KFold\n",
    "\n",
    "def grid_search(models_dataframe, data):\n",
    "    names = []\n",
    "    best_scores = []\n",
    "    best_params = []\n",
    "    best_estimator = []\n",
    "    X_train = data[0]\n",
    "    y_train = data[1]\n",
    "\n",
    "    cross_validator = KFold(5)\n",
    "\n",
    "    for index, row in models_dataframe.iterrows():\n",
    "        name = index\n",
    "        model = row[0]\n",
    "        par_grid = row[1]\n",
    "        grid = GridSearchCV(estimator = model, param_grid = par_grid, cv = cross_validator, scoring = rmse_scorer)\n",
    "        grid.fit(X_train, np.ravel(y_train,order='C'))\n",
    "        names.append(name)\n",
    "        best_scores.append(round((-1)*grid.best_score_, 4))\n",
    "        best_params.append(grid.best_params_)\n",
    "        best_estimator.append(grid.best_estimator_)\n",
    "        print('Model: ' + name + ' | ', 'Score: ' + str(round((-1)*grid.best_score_, 4)))\n",
    "        \n",
    "    result_table = pd.DataFrame({'Model': names, 'Score': best_scores, 'best_params':best_params, 'best_estimator':best_estimator})\n",
    "    result_table.set_index('Model', inplace = True)\n",
    "    result_table.sort_values(by = ['Score'], ascending = True, inplace = True)\n",
    "    result_table['Score'] = result_table['Score'].round(decimals=4)\n",
    "    return result_table"
   ]
  },
  {
   "source": [
    "## Otimizando hiper-parâmetros e comparando algoritmos - 1ª etapa"
   ],
   "cell_type": "markdown",
   "metadata": {}
  },
  {
   "cell_type": "code",
   "execution_count": 111,
   "metadata": {},
   "outputs": [
    {
     "output_type": "stream",
     "name": "stdout",
     "text": [
      "Model: LinearRegression |  Score: 103.1175\n",
      "Model: Ridge |  Score: 103.2228\n",
      "Model: SVR |  Score: 132.8223\n",
      "Model: RandomForestRegressor |  Score: 98.7183\n",
      "Model: GradientBoostingRegressor |  Score: 97.8914\n",
      "Model: KNeighborsRegressor |  Score: 118.7682\n",
      "Model: DecisionTreeRegressor |  Score: 136.7322\n",
      "Model: Lasso |  Score: 103.777\n",
      "Model: ElasticNet |  Score: 105.9016\n",
      "Model: AdaBoostRegressor |  Score: 115.7906\n",
      "Model: SGDRegressor |  Score: 3.2677052723640868e+16\n",
      "Model: LassoLars |  Score: 132.1071\n"
     ]
    }
   ],
   "source": [
    "# Executando o primeiro grid search com todos os algoritmos,\n",
    "# com a menor lista de parâmetros.\n",
    "\n",
    "result1 = grid_search(models_df.loc[:, ['model', 'par_grid_0']], [X_train, y_train])"
   ]
  },
  {
   "cell_type": "code",
   "execution_count": 112,
   "metadata": {},
   "outputs": [
    {
     "output_type": "execute_result",
     "data": {
      "text/plain": [
       "                                  Score best_params  \\\n",
       "Model                                                 \n",
       "GradientBoostingRegressor  9.789140e+01          {}   \n",
       "RandomForestRegressor      9.871830e+01          {}   \n",
       "LinearRegression           1.031175e+02          {}   \n",
       "Ridge                      1.032228e+02          {}   \n",
       "Lasso                      1.037770e+02          {}   \n",
       "ElasticNet                 1.059016e+02          {}   \n",
       "AdaBoostRegressor          1.157906e+02          {}   \n",
       "KNeighborsRegressor        1.187682e+02          {}   \n",
       "LassoLars                  1.321071e+02          {}   \n",
       "SVR                        1.328223e+02          {}   \n",
       "DecisionTreeRegressor      1.367322e+02          {}   \n",
       "SGDRegressor               3.267705e+16          {}   \n",
       "\n",
       "                                                              best_estimator  \n",
       "Model                                                                         \n",
       "GradientBoostingRegressor  ([DecisionTreeRegressor(criterion='friedman_ms...  \n",
       "RandomForestRegressor      (DecisionTreeRegressor(max_features='auto', ra...  \n",
       "LinearRegression                                          LinearRegression()  \n",
       "Ridge                                                                Ridge()  \n",
       "Lasso                                                                Lasso()  \n",
       "ElasticNet                                                      ElasticNet()  \n",
       "AdaBoostRegressor          (DecisionTreeRegressor(max_depth=3, random_sta...  \n",
       "KNeighborsRegressor                                    KNeighborsRegressor()  \n",
       "LassoLars                                                        LassoLars()  \n",
       "SVR                                                                    SVR()  \n",
       "DecisionTreeRegressor                                DecisionTreeRegressor()  \n",
       "SGDRegressor                                                  SGDRegressor()  "
      ],
      "text/html": "<div>\n<style scoped>\n    .dataframe tbody tr th:only-of-type {\n        vertical-align: middle;\n    }\n\n    .dataframe tbody tr th {\n        vertical-align: top;\n    }\n\n    .dataframe thead th {\n        text-align: right;\n    }\n</style>\n<table border=\"1\" class=\"dataframe\">\n  <thead>\n    <tr style=\"text-align: right;\">\n      <th></th>\n      <th>Score</th>\n      <th>best_params</th>\n      <th>best_estimator</th>\n    </tr>\n    <tr>\n      <th>Model</th>\n      <th></th>\n      <th></th>\n      <th></th>\n    </tr>\n  </thead>\n  <tbody>\n    <tr>\n      <th>GradientBoostingRegressor</th>\n      <td>9.789140e+01</td>\n      <td>{}</td>\n      <td>([DecisionTreeRegressor(criterion='friedman_ms...</td>\n    </tr>\n    <tr>\n      <th>RandomForestRegressor</th>\n      <td>9.871830e+01</td>\n      <td>{}</td>\n      <td>(DecisionTreeRegressor(max_features='auto', ra...</td>\n    </tr>\n    <tr>\n      <th>LinearRegression</th>\n      <td>1.031175e+02</td>\n      <td>{}</td>\n      <td>LinearRegression()</td>\n    </tr>\n    <tr>\n      <th>Ridge</th>\n      <td>1.032228e+02</td>\n      <td>{}</td>\n      <td>Ridge()</td>\n    </tr>\n    <tr>\n      <th>Lasso</th>\n      <td>1.037770e+02</td>\n      <td>{}</td>\n      <td>Lasso()</td>\n    </tr>\n    <tr>\n      <th>ElasticNet</th>\n      <td>1.059016e+02</td>\n      <td>{}</td>\n      <td>ElasticNet()</td>\n    </tr>\n    <tr>\n      <th>AdaBoostRegressor</th>\n      <td>1.157906e+02</td>\n      <td>{}</td>\n      <td>(DecisionTreeRegressor(max_depth=3, random_sta...</td>\n    </tr>\n    <tr>\n      <th>KNeighborsRegressor</th>\n      <td>1.187682e+02</td>\n      <td>{}</td>\n      <td>KNeighborsRegressor()</td>\n    </tr>\n    <tr>\n      <th>LassoLars</th>\n      <td>1.321071e+02</td>\n      <td>{}</td>\n      <td>LassoLars()</td>\n    </tr>\n    <tr>\n      <th>SVR</th>\n      <td>1.328223e+02</td>\n      <td>{}</td>\n      <td>SVR()</td>\n    </tr>\n    <tr>\n      <th>DecisionTreeRegressor</th>\n      <td>1.367322e+02</td>\n      <td>{}</td>\n      <td>DecisionTreeRegressor()</td>\n    </tr>\n    <tr>\n      <th>SGDRegressor</th>\n      <td>3.267705e+16</td>\n      <td>{}</td>\n      <td>SGDRegressor()</td>\n    </tr>\n  </tbody>\n</table>\n</div>"
     },
     "metadata": {},
     "execution_count": 112
    }
   ],
   "source": [
    "result1"
   ]
  },
  {
   "source": [
    "## Otimizando hiper-parâmetros e comparando algoritmos - 2ª etapa"
   ],
   "cell_type": "markdown",
   "metadata": {}
  },
  {
   "cell_type": "code",
   "execution_count": 114,
   "metadata": {},
   "outputs": [
    {
     "output_type": "stream",
     "name": "stdout",
     "text": [
      "Model: GradientBoostingRegressor |  Score: 97.5773\n",
      "Model: RandomForestRegressor |  Score: 98.3521\n",
      "Model: LinearRegression |  Score: 103.1175\n",
      "Model: Ridge |  Score: 103.109\n",
      "Model: Lasso |  Score: 103.1134\n",
      "Model: ElasticNet |  Score: 103.3413\n"
     ]
    }
   ],
   "source": [
    "# Executando o segundo grid search com a metade superior dos algoritmos do grid anterior,\n",
    "# com a lista de parâmetros mais detalhada.\n",
    "\n",
    "result2 = grid_search(models_df.loc[result1.head(result1.shape[0]//2).index.tolist(), ['model', 'par_grid_1']], [X_train, y_train])"
   ]
  },
  {
   "cell_type": "code",
   "execution_count": 115,
   "metadata": {},
   "outputs": [
    {
     "output_type": "execute_result",
     "data": {
      "text/plain": [
       "                              Score  \\\n",
       "Model                                 \n",
       "GradientBoostingRegressor   97.5773   \n",
       "RandomForestRegressor       98.3521   \n",
       "Ridge                      103.1090   \n",
       "Lasso                      103.1134   \n",
       "LinearRegression           103.1175   \n",
       "ElasticNet                 103.3413   \n",
       "\n",
       "                                                                 best_params  \\\n",
       "Model                                                                          \n",
       "GradientBoostingRegressor  {'learning_rate': 0.1, 'max_depth': 3, 'n_esti...   \n",
       "RandomForestRegressor      {'bootstrap': True, 'max_depth': 150, 'n_estim...   \n",
       "Ridge                      {'alpha': 0.01, 'copy_X': True, 'fit_intercept...   \n",
       "Lasso                      {'alpha': 0.001, 'copy_X': False, 'fit_interce...   \n",
       "LinearRegression                                                          {}   \n",
       "ElasticNet                 {'alpha': 0.001, 'copy_X': True, 'fit_intercep...   \n",
       "\n",
       "                                                              best_estimator  \n",
       "Model                                                                         \n",
       "GradientBoostingRegressor  ([DecisionTreeRegressor(criterion='friedman_ms...  \n",
       "RandomForestRegressor      (DecisionTreeRegressor(max_depth=150, max_feat...  \n",
       "Ridge                                      Ridge(alpha=0.01, normalize=True)  \n",
       "Lasso                      Lasso(alpha=0.001, copy_X=False, normalize=Tru...  \n",
       "LinearRegression                                          LinearRegression()  \n",
       "ElasticNet                                           ElasticNet(alpha=0.001)  "
      ],
      "text/html": "<div>\n<style scoped>\n    .dataframe tbody tr th:only-of-type {\n        vertical-align: middle;\n    }\n\n    .dataframe tbody tr th {\n        vertical-align: top;\n    }\n\n    .dataframe thead th {\n        text-align: right;\n    }\n</style>\n<table border=\"1\" class=\"dataframe\">\n  <thead>\n    <tr style=\"text-align: right;\">\n      <th></th>\n      <th>Score</th>\n      <th>best_params</th>\n      <th>best_estimator</th>\n    </tr>\n    <tr>\n      <th>Model</th>\n      <th></th>\n      <th></th>\n      <th></th>\n    </tr>\n  </thead>\n  <tbody>\n    <tr>\n      <th>GradientBoostingRegressor</th>\n      <td>97.5773</td>\n      <td>{'learning_rate': 0.1, 'max_depth': 3, 'n_esti...</td>\n      <td>([DecisionTreeRegressor(criterion='friedman_ms...</td>\n    </tr>\n    <tr>\n      <th>RandomForestRegressor</th>\n      <td>98.3521</td>\n      <td>{'bootstrap': True, 'max_depth': 150, 'n_estim...</td>\n      <td>(DecisionTreeRegressor(max_depth=150, max_feat...</td>\n    </tr>\n    <tr>\n      <th>Ridge</th>\n      <td>103.1090</td>\n      <td>{'alpha': 0.01, 'copy_X': True, 'fit_intercept...</td>\n      <td>Ridge(alpha=0.01, normalize=True)</td>\n    </tr>\n    <tr>\n      <th>Lasso</th>\n      <td>103.1134</td>\n      <td>{'alpha': 0.001, 'copy_X': False, 'fit_interce...</td>\n      <td>Lasso(alpha=0.001, copy_X=False, normalize=Tru...</td>\n    </tr>\n    <tr>\n      <th>LinearRegression</th>\n      <td>103.1175</td>\n      <td>{}</td>\n      <td>LinearRegression()</td>\n    </tr>\n    <tr>\n      <th>ElasticNet</th>\n      <td>103.3413</td>\n      <td>{'alpha': 0.001, 'copy_X': True, 'fit_intercep...</td>\n      <td>ElasticNet(alpha=0.001)</td>\n    </tr>\n  </tbody>\n</table>\n</div>"
     },
     "metadata": {},
     "execution_count": 115
    }
   ],
   "source": [
    "result2"
   ]
  },
  {
   "source": [
    "## Selecionando o melhor algoritmo para realizar as predições"
   ],
   "cell_type": "markdown",
   "metadata": {}
  },
  {
   "cell_type": "code",
   "execution_count": 120,
   "metadata": {},
   "outputs": [
    {
     "output_type": "stream",
     "name": "stdout",
     "text": [
      "Melhor algoritmo encontrado na otimização: \nGradientBoostingRegressor(n_estimators=180)\nScore RMSE obtido pelo algoritmo: 97.5773\n"
     ]
    }
   ],
   "source": [
    "# Obtivemos alguns algoritmos melhores que o LinearRegression, que foi considerado o nosso algoritmo de base.\n",
    "# Ou seja: A etapa de otimização do modelo foi bem-sucedida.\n",
    "\n",
    "print(\"Melhor algoritmo encontrado na otimização: \")\n",
    "print(str(result2['best_estimator'][0]))\n",
    "print(\"Score RMSE obtido pelo algoritmo: \" + str(result2['Score'][0]))"
   ]
  },
  {
   "cell_type": "code",
   "execution_count": 121,
   "metadata": {},
   "outputs": [],
   "source": [
    "regr = result2['best_estimator'][0]"
   ]
  },
  {
   "source": [
    "## Treinando o modelo preditivo"
   ],
   "cell_type": "markdown",
   "metadata": {}
  },
  {
   "cell_type": "code",
   "execution_count": 122,
   "metadata": {},
   "outputs": [
    {
     "output_type": "execute_result",
     "data": {
      "text/plain": [
       "GradientBoostingRegressor(n_estimators=180)"
      ]
     },
     "metadata": {},
     "execution_count": 122
    }
   ],
   "source": [
    "# Treina o modelo com a massa de treino.\n",
    "\n",
    "regr.fit(X_train, y_train)"
   ]
  },
  {
   "source": [
    "## Salvando o modelo treinado, para as próximas etapas"
   ],
   "cell_type": "markdown",
   "metadata": {}
  },
  {
   "cell_type": "code",
   "execution_count": 123,
   "metadata": {
    "tags": []
   },
   "outputs": [
    {
     "output_type": "execute_result",
     "data": {
      "text/plain": [
       "['regressor.joblib']"
      ]
     },
     "metadata": {},
     "execution_count": 123
    }
   ],
   "source": [
    "# Salva o modelo treinado\n",
    "\n",
    "dump(regr, 'regressor.joblib')"
   ]
  }
 ],
 "metadata": {
  "kernelspec": {
   "display_name": "Python 3",
   "language": "python",
   "name": "python3"
  },
  "language_info": {
   "codemirror_mode": {
    "name": "ipython",
    "version": 3
   },
   "file_extension": ".py",
   "mimetype": "text/x-python",
   "name": "python",
   "nbconvert_exporter": "python",
   "pygments_lexer": "ipython3",
   "version": "3.8.3-final"
  }
 },
 "nbformat": 4,
 "nbformat_minor": 4
}