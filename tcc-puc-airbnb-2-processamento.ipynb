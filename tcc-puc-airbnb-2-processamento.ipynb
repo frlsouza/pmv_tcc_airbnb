{
 "cells": [
  {
   "cell_type": "markdown",
   "metadata": {},
   "source": [
    "## Importando as bibliotecas"
   ]
  },
  {
   "cell_type": "code",
   "execution_count": 1,
   "metadata": {},
   "outputs": [],
   "source": [
    "import pandas as pd\n",
    "import numpy as np"
   ]
  },
  {
   "cell_type": "markdown",
   "metadata": {},
   "source": [
    "## Instanciando os dataframes"
   ]
  },
  {
   "cell_type": "code",
   "execution_count": 2,
   "metadata": {},
   "outputs": [
    {
     "output_type": "stream",
     "name": "stdout",
     "text": [
      "df_anuncios: (33715, 35)\n",
      "df_amenities: (33715, 168)\n",
      "df_metro_quadrado: (97, 1)\n"
     ]
    }
   ],
   "source": [
    "df_anuncios = pd.read_csv('anuncios.csv', index_col='id', engine='python', sep =',', encoding=\"utf-8\")\n",
    "print('df_anuncios: ' + str(df_anuncios.shape))\n",
    "df_amenities = pd.read_csv('amenities.csv', index_col='id', engine='python', sep =',', encoding=\"utf-8\")\n",
    "print('df_amenities: ' + str(df_amenities.shape))\n",
    "df_metro_quadrado = pd.read_csv('metro_quadrado.csv', index_col='neighbourhood', engine='python', sep =',', encoding=\"utf-8\")\n",
    "print('df_metro_quadrado: ' + str(df_metro_quadrado.shape))"
   ]
  },
  {
   "cell_type": "markdown",
   "metadata": {},
   "source": [
    "## Agregando os dados num único dataframe"
   ]
  },
  {
   "cell_type": "code",
   "execution_count": 3,
   "metadata": {},
   "outputs": [],
   "source": [
    "# Concatenando df_anuncios e df_amenities\n",
    "\n",
    "df_airbnb = pd.concat([df_anuncios, df_amenities], axis=1)"
   ]
  },
  {
   "cell_type": "code",
   "execution_count": 4,
   "metadata": {},
   "outputs": [],
   "source": [
    "# Relacionando df_airbnb com df_metro_quadrado \n",
    "\n",
    "df_airbnb = df_airbnb.join(df_metro_quadrado, on='neighbourhood', how='left')"
   ]
  },
  {
   "source": [
    "## Limpando os dados"
   ],
   "cell_type": "markdown",
   "metadata": {}
  },
  {
   "cell_type": "code",
   "execution_count": 5,
   "metadata": {},
   "outputs": [
    {
     "output_type": "execute_result",
     "data": {
      "text/plain": [
       "           latitude     longitude  accommodates     bathrooms      bedrooms  \\\n",
       "count  33715.000000  33715.000000  33715.000000  33661.000000  33673.000000   \n",
       "mean     -22.965208    -43.254228      4.199941      1.694765      1.646126   \n",
       "std        0.035244      0.097488      2.625252      1.508228      1.075649   \n",
       "min      -23.073400    -43.737090      1.000000      0.000000      0.000000   \n",
       "25%      -22.984710    -43.323360      2.000000      1.000000      1.000000   \n",
       "50%      -22.970850    -43.200220      4.000000      1.000000      1.000000   \n",
       "75%      -22.946725    -43.187085      6.000000      2.000000      2.000000   \n",
       "max      -22.750380    -43.104060    160.000000    200.000000     20.000000   \n",
       "\n",
       "               beds  guests_included  minimum_nights  maximum_nights  \\\n",
       "count  33667.000000     33715.000000    33715.000000    3.371500e+04   \n",
       "mean       2.574242         1.718434        4.789826    9.571741e+02   \n",
       "std        2.121490         1.585645       22.640328    5.473614e+04   \n",
       "min        0.000000         1.000000        1.000000    1.000000e+00   \n",
       "25%        1.000000         1.000000        1.000000    3.000000e+01   \n",
       "50%        2.000000         1.000000        2.000000    1.125000e+03   \n",
       "75%        3.000000         2.000000        4.000000    1.125000e+03   \n",
       "max       69.000000        25.000000     1123.000000    1.000000e+07   \n",
       "\n",
       "       number_of_reviews  ...  Wide_entrance_for_guests  Wide_entryway  \\\n",
       "count       33715.000000  ...              33715.000000   33715.000000   \n",
       "mean            9.374344  ...                  0.072876       0.045855   \n",
       "std            24.815311  ...                  0.259936       0.209174   \n",
       "min             0.000000  ...                  0.000000       0.000000   \n",
       "25%             0.000000  ...                  0.000000       0.000000   \n",
       "50%             1.000000  ...                  0.000000       0.000000   \n",
       "75%             6.000000  ...                  0.000000       0.000000   \n",
       "max           372.000000  ...                  1.000000       1.000000   \n",
       "\n",
       "       Wide_hallways          Wifi  Window_guards   Wine_cooler       _toilet  \\\n",
       "count   33715.000000  33715.000000   33715.000000  33715.000000  33715.000000   \n",
       "mean        0.069465      0.888863       0.031440      0.000119      0.016610   \n",
       "std         0.254246      0.314307       0.174506      0.010892      0.127806   \n",
       "min         0.000000      0.000000       0.000000      0.000000      0.000000   \n",
       "25%         0.000000      1.000000       0.000000      0.000000      0.000000   \n",
       "50%         0.000000      1.000000       0.000000      0.000000      0.000000   \n",
       "75%         0.000000      1.000000       0.000000      0.000000      0.000000   \n",
       "max         1.000000      1.000000       1.000000      1.000000      1.000000   \n",
       "\n",
       "       translation_missing:_en.hosting_amenity_49  \\\n",
       "count                                33715.000000   \n",
       "mean                                     0.089367   \n",
       "std                                      0.285277   \n",
       "min                                      0.000000   \n",
       "25%                                      0.000000   \n",
       "50%                                      0.000000   \n",
       "75%                                      0.000000   \n",
       "max                                      1.000000   \n",
       "\n",
       "       translation_missing:_en.hosting_amenity_50            m2  \n",
       "count                                33715.000000  31747.000000  \n",
       "mean                                     0.137565  11363.364601  \n",
       "std                                      0.344448   5170.018781  \n",
       "min                                      0.000000    439.000000  \n",
       "25%                                      0.000000   9334.000000  \n",
       "50%                                      0.000000  11378.000000  \n",
       "75%                                      0.000000  12169.000000  \n",
       "max                                      1.000000  23625.000000  \n",
       "\n",
       "[8 rows x 188 columns]"
      ],
      "text/html": "<div>\n<style scoped>\n    .dataframe tbody tr th:only-of-type {\n        vertical-align: middle;\n    }\n\n    .dataframe tbody tr th {\n        vertical-align: top;\n    }\n\n    .dataframe thead th {\n        text-align: right;\n    }\n</style>\n<table border=\"1\" class=\"dataframe\">\n  <thead>\n    <tr style=\"text-align: right;\">\n      <th></th>\n      <th>latitude</th>\n      <th>longitude</th>\n      <th>accommodates</th>\n      <th>bathrooms</th>\n      <th>bedrooms</th>\n      <th>beds</th>\n      <th>guests_included</th>\n      <th>minimum_nights</th>\n      <th>maximum_nights</th>\n      <th>number_of_reviews</th>\n      <th>...</th>\n      <th>Wide_entrance_for_guests</th>\n      <th>Wide_entryway</th>\n      <th>Wide_hallways</th>\n      <th>Wifi</th>\n      <th>Window_guards</th>\n      <th>Wine_cooler</th>\n      <th>_toilet</th>\n      <th>translation_missing:_en.hosting_amenity_49</th>\n      <th>translation_missing:_en.hosting_amenity_50</th>\n      <th>m2</th>\n    </tr>\n  </thead>\n  <tbody>\n    <tr>\n      <th>count</th>\n      <td>33715.000000</td>\n      <td>33715.000000</td>\n      <td>33715.000000</td>\n      <td>33661.000000</td>\n      <td>33673.000000</td>\n      <td>33667.000000</td>\n      <td>33715.000000</td>\n      <td>33715.000000</td>\n      <td>3.371500e+04</td>\n      <td>33715.000000</td>\n      <td>...</td>\n      <td>33715.000000</td>\n      <td>33715.000000</td>\n      <td>33715.000000</td>\n      <td>33715.000000</td>\n      <td>33715.000000</td>\n      <td>33715.000000</td>\n      <td>33715.000000</td>\n      <td>33715.000000</td>\n      <td>33715.000000</td>\n      <td>31747.000000</td>\n    </tr>\n    <tr>\n      <th>mean</th>\n      <td>-22.965208</td>\n      <td>-43.254228</td>\n      <td>4.199941</td>\n      <td>1.694765</td>\n      <td>1.646126</td>\n      <td>2.574242</td>\n      <td>1.718434</td>\n      <td>4.789826</td>\n      <td>9.571741e+02</td>\n      <td>9.374344</td>\n      <td>...</td>\n      <td>0.072876</td>\n      <td>0.045855</td>\n      <td>0.069465</td>\n      <td>0.888863</td>\n      <td>0.031440</td>\n      <td>0.000119</td>\n      <td>0.016610</td>\n      <td>0.089367</td>\n      <td>0.137565</td>\n      <td>11363.364601</td>\n    </tr>\n    <tr>\n      <th>std</th>\n      <td>0.035244</td>\n      <td>0.097488</td>\n      <td>2.625252</td>\n      <td>1.508228</td>\n      <td>1.075649</td>\n      <td>2.121490</td>\n      <td>1.585645</td>\n      <td>22.640328</td>\n      <td>5.473614e+04</td>\n      <td>24.815311</td>\n      <td>...</td>\n      <td>0.259936</td>\n      <td>0.209174</td>\n      <td>0.254246</td>\n      <td>0.314307</td>\n      <td>0.174506</td>\n      <td>0.010892</td>\n      <td>0.127806</td>\n      <td>0.285277</td>\n      <td>0.344448</td>\n      <td>5170.018781</td>\n    </tr>\n    <tr>\n      <th>min</th>\n      <td>-23.073400</td>\n      <td>-43.737090</td>\n      <td>1.000000</td>\n      <td>0.000000</td>\n      <td>0.000000</td>\n      <td>0.000000</td>\n      <td>1.000000</td>\n      <td>1.000000</td>\n      <td>1.000000e+00</td>\n      <td>0.000000</td>\n      <td>...</td>\n      <td>0.000000</td>\n      <td>0.000000</td>\n      <td>0.000000</td>\n      <td>0.000000</td>\n      <td>0.000000</td>\n      <td>0.000000</td>\n      <td>0.000000</td>\n      <td>0.000000</td>\n      <td>0.000000</td>\n      <td>439.000000</td>\n    </tr>\n    <tr>\n      <th>25%</th>\n      <td>-22.984710</td>\n      <td>-43.323360</td>\n      <td>2.000000</td>\n      <td>1.000000</td>\n      <td>1.000000</td>\n      <td>1.000000</td>\n      <td>1.000000</td>\n      <td>1.000000</td>\n      <td>3.000000e+01</td>\n      <td>0.000000</td>\n      <td>...</td>\n      <td>0.000000</td>\n      <td>0.000000</td>\n      <td>0.000000</td>\n      <td>1.000000</td>\n      <td>0.000000</td>\n      <td>0.000000</td>\n      <td>0.000000</td>\n      <td>0.000000</td>\n      <td>0.000000</td>\n      <td>9334.000000</td>\n    </tr>\n    <tr>\n      <th>50%</th>\n      <td>-22.970850</td>\n      <td>-43.200220</td>\n      <td>4.000000</td>\n      <td>1.000000</td>\n      <td>1.000000</td>\n      <td>2.000000</td>\n      <td>1.000000</td>\n      <td>2.000000</td>\n      <td>1.125000e+03</td>\n      <td>1.000000</td>\n      <td>...</td>\n      <td>0.000000</td>\n      <td>0.000000</td>\n      <td>0.000000</td>\n      <td>1.000000</td>\n      <td>0.000000</td>\n      <td>0.000000</td>\n      <td>0.000000</td>\n      <td>0.000000</td>\n      <td>0.000000</td>\n      <td>11378.000000</td>\n    </tr>\n    <tr>\n      <th>75%</th>\n      <td>-22.946725</td>\n      <td>-43.187085</td>\n      <td>6.000000</td>\n      <td>2.000000</td>\n      <td>2.000000</td>\n      <td>3.000000</td>\n      <td>2.000000</td>\n      <td>4.000000</td>\n      <td>1.125000e+03</td>\n      <td>6.000000</td>\n      <td>...</td>\n      <td>0.000000</td>\n      <td>0.000000</td>\n      <td>0.000000</td>\n      <td>1.000000</td>\n      <td>0.000000</td>\n      <td>0.000000</td>\n      <td>0.000000</td>\n      <td>0.000000</td>\n      <td>0.000000</td>\n      <td>12169.000000</td>\n    </tr>\n    <tr>\n      <th>max</th>\n      <td>-22.750380</td>\n      <td>-43.104060</td>\n      <td>160.000000</td>\n      <td>200.000000</td>\n      <td>20.000000</td>\n      <td>69.000000</td>\n      <td>25.000000</td>\n      <td>1123.000000</td>\n      <td>1.000000e+07</td>\n      <td>372.000000</td>\n      <td>...</td>\n      <td>1.000000</td>\n      <td>1.000000</td>\n      <td>1.000000</td>\n      <td>1.000000</td>\n      <td>1.000000</td>\n      <td>1.000000</td>\n      <td>1.000000</td>\n      <td>1.000000</td>\n      <td>1.000000</td>\n      <td>23625.000000</td>\n    </tr>\n  </tbody>\n</table>\n<p>8 rows × 188 columns</p>\n</div>"
     },
     "metadata": {},
     "execution_count": 5
    }
   ],
   "source": [
    "# Realizando a estatística descritiva\n",
    "\n",
    "df_airbnb.describe()"
   ]
  },
  {
   "cell_type": "code",
   "execution_count": 6,
   "metadata": {},
   "outputs": [],
   "source": [
    "# Eliminando de registros incompletos\n",
    "\n",
    "df_airbnb = df_airbnb.dropna()"
   ]
  },
  {
   "cell_type": "code",
   "execution_count": 7,
   "metadata": {},
   "outputs": [
    {
     "output_type": "execute_result",
     "data": {
      "text/plain": [
       "                         host_name  host_response_time  host_response_rate  \\\n",
       "id                                                                           \n",
       "17878                     Matthias      within an hour                1.00   \n",
       "25026                      Viviane        within a day                0.91   \n",
       "31560                       Renata      within an hour                1.00   \n",
       "35636                     Patricia      within an hour                1.00   \n",
       "35764     Patricia Miranda & Paulo      within an hour                1.00   \n",
       "...                            ...                 ...                 ...   \n",
       "40009653                       Lya  within a few hours                1.00   \n",
       "40025707            Marcos Antonio      within an hour                1.00   \n",
       "40033232                  Priscila  within a few hours                0.92   \n",
       "40050039                   Roberto  within a few hours                0.88   \n",
       "40064433              Raquel Grama  within a few hours                1.00   \n",
       "\n",
       "         host_is_superhost host_identity_verified neighbourhood    zipcode  \\\n",
       "id                                                                           \n",
       "17878                    t                      t    Copacabana  22020-050   \n",
       "25026                    f                      t    Copacabana  22060-020   \n",
       "31560                    t                      t       Ipanema  22410-003   \n",
       "35636                    t                      t       Ipanema  22081-020   \n",
       "35764                    t                      t    Copacabana  21031-300   \n",
       "...                    ...                    ...           ...        ...   \n",
       "40009653                 f                      f    Copacabana  22081-000   \n",
       "40025707                 f                      t    Copacabana  22040-001   \n",
       "40033232                 f                      t  Santa Teresa  20241-080   \n",
       "40050039                 f                      f    Copacabana  22040-010   \n",
       "40064433                 f                      f    Copacabana  22021-000   \n",
       "\n",
       "          latitude  longitude property_type  ... Wide_entrance_for_guests  \\\n",
       "id                                           ...                            \n",
       "17878    -22.96592  -43.17896   Condominium  ...                        0   \n",
       "25026    -22.97712  -43.19045     Apartment  ...                        0   \n",
       "31560    -22.98302  -43.21427     Apartment  ...                        0   \n",
       "35636    -22.98816  -43.19359     Apartment  ...                        0   \n",
       "35764    -22.98127  -43.19046          Loft  ...                        1   \n",
       "...            ...        ...           ...  ...                      ...   \n",
       "40009653 -22.98304  -43.19569     Apartment  ...                        0   \n",
       "40025707 -22.97132  -43.18929     Apartment  ...                        0   \n",
       "40033232 -22.91599  -43.17894     Apartment  ...                        0   \n",
       "40050039 -22.96768  -43.18330     Apartment  ...                        0   \n",
       "40064433 -22.97401  -43.18541     Apartment  ...                        0   \n",
       "\n",
       "          Wide_entryway  Wide_hallways  Wifi  Window_guards Wine_cooler  \\\n",
       "id                                                                        \n",
       "17878                 0              0     1              0           0   \n",
       "25026                 0              0     1              0           0   \n",
       "31560                 0              0     1              0           0   \n",
       "35636                 0              0     1              0           0   \n",
       "35764                 1              0     1              0           0   \n",
       "...                 ...            ...   ...            ...         ...   \n",
       "40009653              0              0     1              0           0   \n",
       "40025707              0              0     1              0           0   \n",
       "40033232              0              0     1              0           0   \n",
       "40050039              0              0     1              0           0   \n",
       "40064433              0              0     1              0           0   \n",
       "\n",
       "          _toilet  translation_missing:_en.hosting_amenity_49  \\\n",
       "id                                                              \n",
       "17878           0                                           0   \n",
       "25026           0                                           0   \n",
       "31560           0                                           1   \n",
       "35636           0                                           0   \n",
       "35764           0                                           0   \n",
       "...           ...                                         ...   \n",
       "40009653        0                                           0   \n",
       "40025707        0                                           0   \n",
       "40033232        0                                           0   \n",
       "40050039        0                                           0   \n",
       "40064433        0                                           0   \n",
       "\n",
       "          translation_missing:_en.hosting_amenity_50       m2  \n",
       "id                                                             \n",
       "17878                                              0  12169.0  \n",
       "25026                                              0  12169.0  \n",
       "31560                                              1  20908.0  \n",
       "35636                                              0  20908.0  \n",
       "35764                                              1  12169.0  \n",
       "...                                              ...      ...  \n",
       "40009653                                           0  12169.0  \n",
       "40025707                                           0  12169.0  \n",
       "40033232                                           0   7869.0  \n",
       "40050039                                           0  12169.0  \n",
       "40064433                                           0  12169.0  \n",
       "\n",
       "[9860 rows x 204 columns]"
      ],
      "text/html": "<div>\n<style scoped>\n    .dataframe tbody tr th:only-of-type {\n        vertical-align: middle;\n    }\n\n    .dataframe tbody tr th {\n        vertical-align: top;\n    }\n\n    .dataframe thead th {\n        text-align: right;\n    }\n</style>\n<table border=\"1\" class=\"dataframe\">\n  <thead>\n    <tr style=\"text-align: right;\">\n      <th></th>\n      <th>host_name</th>\n      <th>host_response_time</th>\n      <th>host_response_rate</th>\n      <th>host_is_superhost</th>\n      <th>host_identity_verified</th>\n      <th>neighbourhood</th>\n      <th>zipcode</th>\n      <th>latitude</th>\n      <th>longitude</th>\n      <th>property_type</th>\n      <th>...</th>\n      <th>Wide_entrance_for_guests</th>\n      <th>Wide_entryway</th>\n      <th>Wide_hallways</th>\n      <th>Wifi</th>\n      <th>Window_guards</th>\n      <th>Wine_cooler</th>\n      <th>_toilet</th>\n      <th>translation_missing:_en.hosting_amenity_49</th>\n      <th>translation_missing:_en.hosting_amenity_50</th>\n      <th>m2</th>\n    </tr>\n    <tr>\n      <th>id</th>\n      <th></th>\n      <th></th>\n      <th></th>\n      <th></th>\n      <th></th>\n      <th></th>\n      <th></th>\n      <th></th>\n      <th></th>\n      <th></th>\n      <th></th>\n      <th></th>\n      <th></th>\n      <th></th>\n      <th></th>\n      <th></th>\n      <th></th>\n      <th></th>\n      <th></th>\n      <th></th>\n      <th></th>\n    </tr>\n  </thead>\n  <tbody>\n    <tr>\n      <th>17878</th>\n      <td>Matthias</td>\n      <td>within an hour</td>\n      <td>1.00</td>\n      <td>t</td>\n      <td>t</td>\n      <td>Copacabana</td>\n      <td>22020-050</td>\n      <td>-22.96592</td>\n      <td>-43.17896</td>\n      <td>Condominium</td>\n      <td>...</td>\n      <td>0</td>\n      <td>0</td>\n      <td>0</td>\n      <td>1</td>\n      <td>0</td>\n      <td>0</td>\n      <td>0</td>\n      <td>0</td>\n      <td>0</td>\n      <td>12169.0</td>\n    </tr>\n    <tr>\n      <th>25026</th>\n      <td>Viviane</td>\n      <td>within a day</td>\n      <td>0.91</td>\n      <td>f</td>\n      <td>t</td>\n      <td>Copacabana</td>\n      <td>22060-020</td>\n      <td>-22.97712</td>\n      <td>-43.19045</td>\n      <td>Apartment</td>\n      <td>...</td>\n      <td>0</td>\n      <td>0</td>\n      <td>0</td>\n      <td>1</td>\n      <td>0</td>\n      <td>0</td>\n      <td>0</td>\n      <td>0</td>\n      <td>0</td>\n      <td>12169.0</td>\n    </tr>\n    <tr>\n      <th>31560</th>\n      <td>Renata</td>\n      <td>within an hour</td>\n      <td>1.00</td>\n      <td>t</td>\n      <td>t</td>\n      <td>Ipanema</td>\n      <td>22410-003</td>\n      <td>-22.98302</td>\n      <td>-43.21427</td>\n      <td>Apartment</td>\n      <td>...</td>\n      <td>0</td>\n      <td>0</td>\n      <td>0</td>\n      <td>1</td>\n      <td>0</td>\n      <td>0</td>\n      <td>0</td>\n      <td>1</td>\n      <td>1</td>\n      <td>20908.0</td>\n    </tr>\n    <tr>\n      <th>35636</th>\n      <td>Patricia</td>\n      <td>within an hour</td>\n      <td>1.00</td>\n      <td>t</td>\n      <td>t</td>\n      <td>Ipanema</td>\n      <td>22081-020</td>\n      <td>-22.98816</td>\n      <td>-43.19359</td>\n      <td>Apartment</td>\n      <td>...</td>\n      <td>0</td>\n      <td>0</td>\n      <td>0</td>\n      <td>1</td>\n      <td>0</td>\n      <td>0</td>\n      <td>0</td>\n      <td>0</td>\n      <td>0</td>\n      <td>20908.0</td>\n    </tr>\n    <tr>\n      <th>35764</th>\n      <td>Patricia Miranda &amp; Paulo</td>\n      <td>within an hour</td>\n      <td>1.00</td>\n      <td>t</td>\n      <td>t</td>\n      <td>Copacabana</td>\n      <td>21031-300</td>\n      <td>-22.98127</td>\n      <td>-43.19046</td>\n      <td>Loft</td>\n      <td>...</td>\n      <td>1</td>\n      <td>1</td>\n      <td>0</td>\n      <td>1</td>\n      <td>0</td>\n      <td>0</td>\n      <td>0</td>\n      <td>0</td>\n      <td>1</td>\n      <td>12169.0</td>\n    </tr>\n    <tr>\n      <th>...</th>\n      <td>...</td>\n      <td>...</td>\n      <td>...</td>\n      <td>...</td>\n      <td>...</td>\n      <td>...</td>\n      <td>...</td>\n      <td>...</td>\n      <td>...</td>\n      <td>...</td>\n      <td>...</td>\n      <td>...</td>\n      <td>...</td>\n      <td>...</td>\n      <td>...</td>\n      <td>...</td>\n      <td>...</td>\n      <td>...</td>\n      <td>...</td>\n      <td>...</td>\n      <td>...</td>\n    </tr>\n    <tr>\n      <th>40009653</th>\n      <td>Lya</td>\n      <td>within a few hours</td>\n      <td>1.00</td>\n      <td>f</td>\n      <td>f</td>\n      <td>Copacabana</td>\n      <td>22081-000</td>\n      <td>-22.98304</td>\n      <td>-43.19569</td>\n      <td>Apartment</td>\n      <td>...</td>\n      <td>0</td>\n      <td>0</td>\n      <td>0</td>\n      <td>1</td>\n      <td>0</td>\n      <td>0</td>\n      <td>0</td>\n      <td>0</td>\n      <td>0</td>\n      <td>12169.0</td>\n    </tr>\n    <tr>\n      <th>40025707</th>\n      <td>Marcos Antonio</td>\n      <td>within an hour</td>\n      <td>1.00</td>\n      <td>f</td>\n      <td>t</td>\n      <td>Copacabana</td>\n      <td>22040-001</td>\n      <td>-22.97132</td>\n      <td>-43.18929</td>\n      <td>Apartment</td>\n      <td>...</td>\n      <td>0</td>\n      <td>0</td>\n      <td>0</td>\n      <td>1</td>\n      <td>0</td>\n      <td>0</td>\n      <td>0</td>\n      <td>0</td>\n      <td>0</td>\n      <td>12169.0</td>\n    </tr>\n    <tr>\n      <th>40033232</th>\n      <td>Priscila</td>\n      <td>within a few hours</td>\n      <td>0.92</td>\n      <td>f</td>\n      <td>t</td>\n      <td>Santa Teresa</td>\n      <td>20241-080</td>\n      <td>-22.91599</td>\n      <td>-43.17894</td>\n      <td>Apartment</td>\n      <td>...</td>\n      <td>0</td>\n      <td>0</td>\n      <td>0</td>\n      <td>1</td>\n      <td>0</td>\n      <td>0</td>\n      <td>0</td>\n      <td>0</td>\n      <td>0</td>\n      <td>7869.0</td>\n    </tr>\n    <tr>\n      <th>40050039</th>\n      <td>Roberto</td>\n      <td>within a few hours</td>\n      <td>0.88</td>\n      <td>f</td>\n      <td>f</td>\n      <td>Copacabana</td>\n      <td>22040-010</td>\n      <td>-22.96768</td>\n      <td>-43.18330</td>\n      <td>Apartment</td>\n      <td>...</td>\n      <td>0</td>\n      <td>0</td>\n      <td>0</td>\n      <td>1</td>\n      <td>0</td>\n      <td>0</td>\n      <td>0</td>\n      <td>0</td>\n      <td>0</td>\n      <td>12169.0</td>\n    </tr>\n    <tr>\n      <th>40064433</th>\n      <td>Raquel Grama</td>\n      <td>within a few hours</td>\n      <td>1.00</td>\n      <td>f</td>\n      <td>f</td>\n      <td>Copacabana</td>\n      <td>22021-000</td>\n      <td>-22.97401</td>\n      <td>-43.18541</td>\n      <td>Apartment</td>\n      <td>...</td>\n      <td>0</td>\n      <td>0</td>\n      <td>0</td>\n      <td>1</td>\n      <td>0</td>\n      <td>0</td>\n      <td>0</td>\n      <td>0</td>\n      <td>0</td>\n      <td>12169.0</td>\n    </tr>\n  </tbody>\n</table>\n<p>9860 rows × 204 columns</p>\n</div>"
     },
     "metadata": {},
     "execution_count": 7
    }
   ],
   "source": [
    "# Formatando os atributos\n",
    "\n",
    "df_airbnb['host_response_rate'] = df_airbnb.host_response_rate.str.rstrip('%').astype('float') / 100\n",
    "df_airbnb['price'] = df_airbnb.price.str.lstrip('$').str.replace(',','').astype('float')\n",
    "df_airbnb['security_deposit'] = df_airbnb.security_deposit.str.lstrip('$').str.replace(',','').astype('float')\n",
    "df_airbnb['cleaning_fee'] = df_airbnb.cleaning_fee.str.lstrip('$').str.replace(',','').astype('float')\n",
    "df_airbnb['extra_people'] = df_airbnb.extra_people.str.lstrip('$').str.replace(',','').astype('float')\n",
    "df_airbnb['bedrooms'] = df_airbnb['bedrooms'].astype(int)\n",
    "df_airbnb.round({\"review_scores_rating\":2,\"review_scores_accuracy\":2,\"review_scores_cleanliness\":2,\"review_scores_checkin\":2,\"revireview_scores_communication\":2,\"review_scores_location\":2,\"review_scores_value\":2,\"reviews_per_month\":2})\n",
    "df_airbnb.round({\"latitude\":6, \"longitude\":6})"
   ]
  },
  {
   "source": [
    "## Exibindo o dataframe após o processamento"
   ],
   "cell_type": "markdown",
   "metadata": {}
  },
  {
   "cell_type": "code",
   "execution_count": 8,
   "metadata": {},
   "outputs": [
    {
     "output_type": "execute_result",
     "data": {
      "text/plain": [
       "                         host_name  host_response_time  host_response_rate  \\\n",
       "id                                                                           \n",
       "17878                     Matthias      within an hour                1.00   \n",
       "25026                      Viviane        within a day                0.91   \n",
       "31560                       Renata      within an hour                1.00   \n",
       "35636                     Patricia      within an hour                1.00   \n",
       "35764     Patricia Miranda & Paulo      within an hour                1.00   \n",
       "...                            ...                 ...                 ...   \n",
       "40009653                       Lya  within a few hours                1.00   \n",
       "40025707            Marcos Antonio      within an hour                1.00   \n",
       "40033232                  Priscila  within a few hours                0.92   \n",
       "40050039                   Roberto  within a few hours                0.88   \n",
       "40064433              Raquel Grama  within a few hours                1.00   \n",
       "\n",
       "         host_is_superhost host_identity_verified neighbourhood    zipcode  \\\n",
       "id                                                                           \n",
       "17878                    t                      t    Copacabana  22020-050   \n",
       "25026                    f                      t    Copacabana  22060-020   \n",
       "31560                    t                      t       Ipanema  22410-003   \n",
       "35636                    t                      t       Ipanema  22081-020   \n",
       "35764                    t                      t    Copacabana  21031-300   \n",
       "...                    ...                    ...           ...        ...   \n",
       "40009653                 f                      f    Copacabana  22081-000   \n",
       "40025707                 f                      t    Copacabana  22040-001   \n",
       "40033232                 f                      t  Santa Teresa  20241-080   \n",
       "40050039                 f                      f    Copacabana  22040-010   \n",
       "40064433                 f                      f    Copacabana  22021-000   \n",
       "\n",
       "          latitude  longitude property_type  ... Wide_entrance_for_guests  \\\n",
       "id                                           ...                            \n",
       "17878    -22.96592  -43.17896   Condominium  ...                        0   \n",
       "25026    -22.97712  -43.19045     Apartment  ...                        0   \n",
       "31560    -22.98302  -43.21427     Apartment  ...                        0   \n",
       "35636    -22.98816  -43.19359     Apartment  ...                        0   \n",
       "35764    -22.98127  -43.19046          Loft  ...                        1   \n",
       "...            ...        ...           ...  ...                      ...   \n",
       "40009653 -22.98304  -43.19569     Apartment  ...                        0   \n",
       "40025707 -22.97132  -43.18929     Apartment  ...                        0   \n",
       "40033232 -22.91599  -43.17894     Apartment  ...                        0   \n",
       "40050039 -22.96768  -43.18330     Apartment  ...                        0   \n",
       "40064433 -22.97401  -43.18541     Apartment  ...                        0   \n",
       "\n",
       "          Wide_entryway  Wide_hallways  Wifi  Window_guards Wine_cooler  \\\n",
       "id                                                                        \n",
       "17878                 0              0     1              0           0   \n",
       "25026                 0              0     1              0           0   \n",
       "31560                 0              0     1              0           0   \n",
       "35636                 0              0     1              0           0   \n",
       "35764                 1              0     1              0           0   \n",
       "...                 ...            ...   ...            ...         ...   \n",
       "40009653              0              0     1              0           0   \n",
       "40025707              0              0     1              0           0   \n",
       "40033232              0              0     1              0           0   \n",
       "40050039              0              0     1              0           0   \n",
       "40064433              0              0     1              0           0   \n",
       "\n",
       "          _toilet  translation_missing:_en.hosting_amenity_49  \\\n",
       "id                                                              \n",
       "17878           0                                           0   \n",
       "25026           0                                           0   \n",
       "31560           0                                           1   \n",
       "35636           0                                           0   \n",
       "35764           0                                           0   \n",
       "...           ...                                         ...   \n",
       "40009653        0                                           0   \n",
       "40025707        0                                           0   \n",
       "40033232        0                                           0   \n",
       "40050039        0                                           0   \n",
       "40064433        0                                           0   \n",
       "\n",
       "          translation_missing:_en.hosting_amenity_50       m2  \n",
       "id                                                             \n",
       "17878                                              0  12169.0  \n",
       "25026                                              0  12169.0  \n",
       "31560                                              1  20908.0  \n",
       "35636                                              0  20908.0  \n",
       "35764                                              1  12169.0  \n",
       "...                                              ...      ...  \n",
       "40009653                                           0  12169.0  \n",
       "40025707                                           0  12169.0  \n",
       "40033232                                           0   7869.0  \n",
       "40050039                                           0  12169.0  \n",
       "40064433                                           0  12169.0  \n",
       "\n",
       "[9860 rows x 204 columns]"
      ],
      "text/html": "<div>\n<style scoped>\n    .dataframe tbody tr th:only-of-type {\n        vertical-align: middle;\n    }\n\n    .dataframe tbody tr th {\n        vertical-align: top;\n    }\n\n    .dataframe thead th {\n        text-align: right;\n    }\n</style>\n<table border=\"1\" class=\"dataframe\">\n  <thead>\n    <tr style=\"text-align: right;\">\n      <th></th>\n      <th>host_name</th>\n      <th>host_response_time</th>\n      <th>host_response_rate</th>\n      <th>host_is_superhost</th>\n      <th>host_identity_verified</th>\n      <th>neighbourhood</th>\n      <th>zipcode</th>\n      <th>latitude</th>\n      <th>longitude</th>\n      <th>property_type</th>\n      <th>...</th>\n      <th>Wide_entrance_for_guests</th>\n      <th>Wide_entryway</th>\n      <th>Wide_hallways</th>\n      <th>Wifi</th>\n      <th>Window_guards</th>\n      <th>Wine_cooler</th>\n      <th>_toilet</th>\n      <th>translation_missing:_en.hosting_amenity_49</th>\n      <th>translation_missing:_en.hosting_amenity_50</th>\n      <th>m2</th>\n    </tr>\n    <tr>\n      <th>id</th>\n      <th></th>\n      <th></th>\n      <th></th>\n      <th></th>\n      <th></th>\n      <th></th>\n      <th></th>\n      <th></th>\n      <th></th>\n      <th></th>\n      <th></th>\n      <th></th>\n      <th></th>\n      <th></th>\n      <th></th>\n      <th></th>\n      <th></th>\n      <th></th>\n      <th></th>\n      <th></th>\n      <th></th>\n    </tr>\n  </thead>\n  <tbody>\n    <tr>\n      <th>17878</th>\n      <td>Matthias</td>\n      <td>within an hour</td>\n      <td>1.00</td>\n      <td>t</td>\n      <td>t</td>\n      <td>Copacabana</td>\n      <td>22020-050</td>\n      <td>-22.96592</td>\n      <td>-43.17896</td>\n      <td>Condominium</td>\n      <td>...</td>\n      <td>0</td>\n      <td>0</td>\n      <td>0</td>\n      <td>1</td>\n      <td>0</td>\n      <td>0</td>\n      <td>0</td>\n      <td>0</td>\n      <td>0</td>\n      <td>12169.0</td>\n    </tr>\n    <tr>\n      <th>25026</th>\n      <td>Viviane</td>\n      <td>within a day</td>\n      <td>0.91</td>\n      <td>f</td>\n      <td>t</td>\n      <td>Copacabana</td>\n      <td>22060-020</td>\n      <td>-22.97712</td>\n      <td>-43.19045</td>\n      <td>Apartment</td>\n      <td>...</td>\n      <td>0</td>\n      <td>0</td>\n      <td>0</td>\n      <td>1</td>\n      <td>0</td>\n      <td>0</td>\n      <td>0</td>\n      <td>0</td>\n      <td>0</td>\n      <td>12169.0</td>\n    </tr>\n    <tr>\n      <th>31560</th>\n      <td>Renata</td>\n      <td>within an hour</td>\n      <td>1.00</td>\n      <td>t</td>\n      <td>t</td>\n      <td>Ipanema</td>\n      <td>22410-003</td>\n      <td>-22.98302</td>\n      <td>-43.21427</td>\n      <td>Apartment</td>\n      <td>...</td>\n      <td>0</td>\n      <td>0</td>\n      <td>0</td>\n      <td>1</td>\n      <td>0</td>\n      <td>0</td>\n      <td>0</td>\n      <td>1</td>\n      <td>1</td>\n      <td>20908.0</td>\n    </tr>\n    <tr>\n      <th>35636</th>\n      <td>Patricia</td>\n      <td>within an hour</td>\n      <td>1.00</td>\n      <td>t</td>\n      <td>t</td>\n      <td>Ipanema</td>\n      <td>22081-020</td>\n      <td>-22.98816</td>\n      <td>-43.19359</td>\n      <td>Apartment</td>\n      <td>...</td>\n      <td>0</td>\n      <td>0</td>\n      <td>0</td>\n      <td>1</td>\n      <td>0</td>\n      <td>0</td>\n      <td>0</td>\n      <td>0</td>\n      <td>0</td>\n      <td>20908.0</td>\n    </tr>\n    <tr>\n      <th>35764</th>\n      <td>Patricia Miranda &amp; Paulo</td>\n      <td>within an hour</td>\n      <td>1.00</td>\n      <td>t</td>\n      <td>t</td>\n      <td>Copacabana</td>\n      <td>21031-300</td>\n      <td>-22.98127</td>\n      <td>-43.19046</td>\n      <td>Loft</td>\n      <td>...</td>\n      <td>1</td>\n      <td>1</td>\n      <td>0</td>\n      <td>1</td>\n      <td>0</td>\n      <td>0</td>\n      <td>0</td>\n      <td>0</td>\n      <td>1</td>\n      <td>12169.0</td>\n    </tr>\n    <tr>\n      <th>...</th>\n      <td>...</td>\n      <td>...</td>\n      <td>...</td>\n      <td>...</td>\n      <td>...</td>\n      <td>...</td>\n      <td>...</td>\n      <td>...</td>\n      <td>...</td>\n      <td>...</td>\n      <td>...</td>\n      <td>...</td>\n      <td>...</td>\n      <td>...</td>\n      <td>...</td>\n      <td>...</td>\n      <td>...</td>\n      <td>...</td>\n      <td>...</td>\n      <td>...</td>\n      <td>...</td>\n    </tr>\n    <tr>\n      <th>40009653</th>\n      <td>Lya</td>\n      <td>within a few hours</td>\n      <td>1.00</td>\n      <td>f</td>\n      <td>f</td>\n      <td>Copacabana</td>\n      <td>22081-000</td>\n      <td>-22.98304</td>\n      <td>-43.19569</td>\n      <td>Apartment</td>\n      <td>...</td>\n      <td>0</td>\n      <td>0</td>\n      <td>0</td>\n      <td>1</td>\n      <td>0</td>\n      <td>0</td>\n      <td>0</td>\n      <td>0</td>\n      <td>0</td>\n      <td>12169.0</td>\n    </tr>\n    <tr>\n      <th>40025707</th>\n      <td>Marcos Antonio</td>\n      <td>within an hour</td>\n      <td>1.00</td>\n      <td>f</td>\n      <td>t</td>\n      <td>Copacabana</td>\n      <td>22040-001</td>\n      <td>-22.97132</td>\n      <td>-43.18929</td>\n      <td>Apartment</td>\n      <td>...</td>\n      <td>0</td>\n      <td>0</td>\n      <td>0</td>\n      <td>1</td>\n      <td>0</td>\n      <td>0</td>\n      <td>0</td>\n      <td>0</td>\n      <td>0</td>\n      <td>12169.0</td>\n    </tr>\n    <tr>\n      <th>40033232</th>\n      <td>Priscila</td>\n      <td>within a few hours</td>\n      <td>0.92</td>\n      <td>f</td>\n      <td>t</td>\n      <td>Santa Teresa</td>\n      <td>20241-080</td>\n      <td>-22.91599</td>\n      <td>-43.17894</td>\n      <td>Apartment</td>\n      <td>...</td>\n      <td>0</td>\n      <td>0</td>\n      <td>0</td>\n      <td>1</td>\n      <td>0</td>\n      <td>0</td>\n      <td>0</td>\n      <td>0</td>\n      <td>0</td>\n      <td>7869.0</td>\n    </tr>\n    <tr>\n      <th>40050039</th>\n      <td>Roberto</td>\n      <td>within a few hours</td>\n      <td>0.88</td>\n      <td>f</td>\n      <td>f</td>\n      <td>Copacabana</td>\n      <td>22040-010</td>\n      <td>-22.96768</td>\n      <td>-43.18330</td>\n      <td>Apartment</td>\n      <td>...</td>\n      <td>0</td>\n      <td>0</td>\n      <td>0</td>\n      <td>1</td>\n      <td>0</td>\n      <td>0</td>\n      <td>0</td>\n      <td>0</td>\n      <td>0</td>\n      <td>12169.0</td>\n    </tr>\n    <tr>\n      <th>40064433</th>\n      <td>Raquel Grama</td>\n      <td>within a few hours</td>\n      <td>1.00</td>\n      <td>f</td>\n      <td>f</td>\n      <td>Copacabana</td>\n      <td>22021-000</td>\n      <td>-22.97401</td>\n      <td>-43.18541</td>\n      <td>Apartment</td>\n      <td>...</td>\n      <td>0</td>\n      <td>0</td>\n      <td>0</td>\n      <td>1</td>\n      <td>0</td>\n      <td>0</td>\n      <td>0</td>\n      <td>0</td>\n      <td>0</td>\n      <td>12169.0</td>\n    </tr>\n  </tbody>\n</table>\n<p>9860 rows × 204 columns</p>\n</div>"
     },
     "metadata": {},
     "execution_count": 8
    }
   ],
   "source": [
    "df_airbnb"
   ]
  },
  {
   "cell_type": "code",
   "execution_count": 9,
   "metadata": {},
   "outputs": [
    {
     "output_type": "execute_result",
     "data": {
      "text/plain": [
       "       host_response_rate     latitude    longitude  accommodates  \\\n",
       "count         9860.000000  9860.000000  9860.000000   9860.000000   \n",
       "mean             0.918131   -22.970369   -43.230659      4.232657   \n",
       "std              0.176144     0.028152     0.080292      2.334539   \n",
       "min              0.000000   -23.072620   -43.567640      1.000000   \n",
       "25%              0.900000   -22.984620   -43.224830      2.000000   \n",
       "50%              1.000000   -22.975110   -43.192810      4.000000   \n",
       "75%              1.000000   -22.962720   -43.185080      5.000000   \n",
       "max              1.000000   -22.806570   -43.159080     25.000000   \n",
       "\n",
       "         bathrooms     bedrooms         beds         price  security_deposit  \\\n",
       "count  9860.000000  9860.000000  9860.000000   9860.000000       9860.000000   \n",
       "mean      1.597363     1.568154     2.639249    345.837120        654.215416   \n",
       "std       0.888044     0.995130     1.963967    677.173787       1360.142918   \n",
       "min       0.000000     0.000000     0.000000      0.000000          0.000000   \n",
       "25%       1.000000     1.000000     1.000000    139.000000          0.000000   \n",
       "50%       1.000000     1.000000     2.000000    210.000000        398.000000   \n",
       "75%       2.000000     2.000000     3.000000    361.000000        800.000000   \n",
       "max      15.000000    15.000000    35.000000  31398.000000      20991.000000   \n",
       "\n",
       "       cleaning_fee  ...  Wide_entrance_for_guests  Wide_entryway  \\\n",
       "count   9860.000000  ...               9860.000000    9860.000000   \n",
       "mean     145.861562  ...                  0.134787       0.083874   \n",
       "std      102.364730  ...                  0.341513       0.277213   \n",
       "min        0.000000  ...                  0.000000       0.000000   \n",
       "25%       90.000000  ...                  0.000000       0.000000   \n",
       "50%      150.000000  ...                  0.000000       0.000000   \n",
       "75%      190.000000  ...                  0.000000       0.000000   \n",
       "max     1469.000000  ...                  1.000000       1.000000   \n",
       "\n",
       "       Wide_hallways         Wifi  Window_guards  Wine_cooler      _toilet  \\\n",
       "count    9860.000000  9860.000000    9860.000000  9860.000000  9860.000000   \n",
       "mean        0.124949     0.941176       0.057302     0.000406     0.030122   \n",
       "std         0.330678     0.235306       0.232431     0.020138     0.170931   \n",
       "min         0.000000     0.000000       0.000000     0.000000     0.000000   \n",
       "25%         0.000000     1.000000       0.000000     0.000000     0.000000   \n",
       "50%         0.000000     1.000000       0.000000     0.000000     0.000000   \n",
       "75%         0.000000     1.000000       0.000000     0.000000     0.000000   \n",
       "max         1.000000     1.000000       1.000000     1.000000     1.000000   \n",
       "\n",
       "       translation_missing:_en.hosting_amenity_49  \\\n",
       "count                                 9860.000000   \n",
       "mean                                     0.094726   \n",
       "std                                      0.292851   \n",
       "min                                      0.000000   \n",
       "25%                                      0.000000   \n",
       "50%                                      0.000000   \n",
       "75%                                      0.000000   \n",
       "max                                      1.000000   \n",
       "\n",
       "       translation_missing:_en.hosting_amenity_50            m2  \n",
       "count                                 9860.000000   9860.000000  \n",
       "mean                                     0.138844  12595.971805  \n",
       "std                                      0.345801   5178.585970  \n",
       "min                                      0.000000    490.000000  \n",
       "25%                                      0.000000   9334.000000  \n",
       "50%                                      0.000000  12169.000000  \n",
       "75%                                      0.000000  12169.000000  \n",
       "max                                      1.000000  23625.000000  \n",
       "\n",
       "[8 rows x 193 columns]"
      ],
      "text/html": "<div>\n<style scoped>\n    .dataframe tbody tr th:only-of-type {\n        vertical-align: middle;\n    }\n\n    .dataframe tbody tr th {\n        vertical-align: top;\n    }\n\n    .dataframe thead th {\n        text-align: right;\n    }\n</style>\n<table border=\"1\" class=\"dataframe\">\n  <thead>\n    <tr style=\"text-align: right;\">\n      <th></th>\n      <th>host_response_rate</th>\n      <th>latitude</th>\n      <th>longitude</th>\n      <th>accommodates</th>\n      <th>bathrooms</th>\n      <th>bedrooms</th>\n      <th>beds</th>\n      <th>price</th>\n      <th>security_deposit</th>\n      <th>cleaning_fee</th>\n      <th>...</th>\n      <th>Wide_entrance_for_guests</th>\n      <th>Wide_entryway</th>\n      <th>Wide_hallways</th>\n      <th>Wifi</th>\n      <th>Window_guards</th>\n      <th>Wine_cooler</th>\n      <th>_toilet</th>\n      <th>translation_missing:_en.hosting_amenity_49</th>\n      <th>translation_missing:_en.hosting_amenity_50</th>\n      <th>m2</th>\n    </tr>\n  </thead>\n  <tbody>\n    <tr>\n      <th>count</th>\n      <td>9860.000000</td>\n      <td>9860.000000</td>\n      <td>9860.000000</td>\n      <td>9860.000000</td>\n      <td>9860.000000</td>\n      <td>9860.000000</td>\n      <td>9860.000000</td>\n      <td>9860.000000</td>\n      <td>9860.000000</td>\n      <td>9860.000000</td>\n      <td>...</td>\n      <td>9860.000000</td>\n      <td>9860.000000</td>\n      <td>9860.000000</td>\n      <td>9860.000000</td>\n      <td>9860.000000</td>\n      <td>9860.000000</td>\n      <td>9860.000000</td>\n      <td>9860.000000</td>\n      <td>9860.000000</td>\n      <td>9860.000000</td>\n    </tr>\n    <tr>\n      <th>mean</th>\n      <td>0.918131</td>\n      <td>-22.970369</td>\n      <td>-43.230659</td>\n      <td>4.232657</td>\n      <td>1.597363</td>\n      <td>1.568154</td>\n      <td>2.639249</td>\n      <td>345.837120</td>\n      <td>654.215416</td>\n      <td>145.861562</td>\n      <td>...</td>\n      <td>0.134787</td>\n      <td>0.083874</td>\n      <td>0.124949</td>\n      <td>0.941176</td>\n      <td>0.057302</td>\n      <td>0.000406</td>\n      <td>0.030122</td>\n      <td>0.094726</td>\n      <td>0.138844</td>\n      <td>12595.971805</td>\n    </tr>\n    <tr>\n      <th>std</th>\n      <td>0.176144</td>\n      <td>0.028152</td>\n      <td>0.080292</td>\n      <td>2.334539</td>\n      <td>0.888044</td>\n      <td>0.995130</td>\n      <td>1.963967</td>\n      <td>677.173787</td>\n      <td>1360.142918</td>\n      <td>102.364730</td>\n      <td>...</td>\n      <td>0.341513</td>\n      <td>0.277213</td>\n      <td>0.330678</td>\n      <td>0.235306</td>\n      <td>0.232431</td>\n      <td>0.020138</td>\n      <td>0.170931</td>\n      <td>0.292851</td>\n      <td>0.345801</td>\n      <td>5178.585970</td>\n    </tr>\n    <tr>\n      <th>min</th>\n      <td>0.000000</td>\n      <td>-23.072620</td>\n      <td>-43.567640</td>\n      <td>1.000000</td>\n      <td>0.000000</td>\n      <td>0.000000</td>\n      <td>0.000000</td>\n      <td>0.000000</td>\n      <td>0.000000</td>\n      <td>0.000000</td>\n      <td>...</td>\n      <td>0.000000</td>\n      <td>0.000000</td>\n      <td>0.000000</td>\n      <td>0.000000</td>\n      <td>0.000000</td>\n      <td>0.000000</td>\n      <td>0.000000</td>\n      <td>0.000000</td>\n      <td>0.000000</td>\n      <td>490.000000</td>\n    </tr>\n    <tr>\n      <th>25%</th>\n      <td>0.900000</td>\n      <td>-22.984620</td>\n      <td>-43.224830</td>\n      <td>2.000000</td>\n      <td>1.000000</td>\n      <td>1.000000</td>\n      <td>1.000000</td>\n      <td>139.000000</td>\n      <td>0.000000</td>\n      <td>90.000000</td>\n      <td>...</td>\n      <td>0.000000</td>\n      <td>0.000000</td>\n      <td>0.000000</td>\n      <td>1.000000</td>\n      <td>0.000000</td>\n      <td>0.000000</td>\n      <td>0.000000</td>\n      <td>0.000000</td>\n      <td>0.000000</td>\n      <td>9334.000000</td>\n    </tr>\n    <tr>\n      <th>50%</th>\n      <td>1.000000</td>\n      <td>-22.975110</td>\n      <td>-43.192810</td>\n      <td>4.000000</td>\n      <td>1.000000</td>\n      <td>1.000000</td>\n      <td>2.000000</td>\n      <td>210.000000</td>\n      <td>398.000000</td>\n      <td>150.000000</td>\n      <td>...</td>\n      <td>0.000000</td>\n      <td>0.000000</td>\n      <td>0.000000</td>\n      <td>1.000000</td>\n      <td>0.000000</td>\n      <td>0.000000</td>\n      <td>0.000000</td>\n      <td>0.000000</td>\n      <td>0.000000</td>\n      <td>12169.000000</td>\n    </tr>\n    <tr>\n      <th>75%</th>\n      <td>1.000000</td>\n      <td>-22.962720</td>\n      <td>-43.185080</td>\n      <td>5.000000</td>\n      <td>2.000000</td>\n      <td>2.000000</td>\n      <td>3.000000</td>\n      <td>361.000000</td>\n      <td>800.000000</td>\n      <td>190.000000</td>\n      <td>...</td>\n      <td>0.000000</td>\n      <td>0.000000</td>\n      <td>0.000000</td>\n      <td>1.000000</td>\n      <td>0.000000</td>\n      <td>0.000000</td>\n      <td>0.000000</td>\n      <td>0.000000</td>\n      <td>0.000000</td>\n      <td>12169.000000</td>\n    </tr>\n    <tr>\n      <th>max</th>\n      <td>1.000000</td>\n      <td>-22.806570</td>\n      <td>-43.159080</td>\n      <td>25.000000</td>\n      <td>15.000000</td>\n      <td>15.000000</td>\n      <td>35.000000</td>\n      <td>31398.000000</td>\n      <td>20991.000000</td>\n      <td>1469.000000</td>\n      <td>...</td>\n      <td>1.000000</td>\n      <td>1.000000</td>\n      <td>1.000000</td>\n      <td>1.000000</td>\n      <td>1.000000</td>\n      <td>1.000000</td>\n      <td>1.000000</td>\n      <td>1.000000</td>\n      <td>1.000000</td>\n      <td>23625.000000</td>\n    </tr>\n  </tbody>\n</table>\n<p>8 rows × 193 columns</p>\n</div>"
     },
     "metadata": {},
     "execution_count": 9
    }
   ],
   "source": [
    "df_airbnb.describe()"
   ]
  },
  {
   "cell_type": "markdown",
   "metadata": {},
   "source": [
    "## Salvando o dataframe resultante para as próximas etapas"
   ]
  },
  {
   "cell_type": "code",
   "execution_count": 10,
   "metadata": {},
   "outputs": [],
   "source": [
    "df_airbnb.to_csv('airbnb.csv')"
   ]
  }
 ],
 "metadata": {
  "kernelspec": {
   "display_name": "Python 3",
   "language": "python",
   "name": "python3"
  },
  "language_info": {
   "codemirror_mode": {
    "name": "ipython",
    "version": 3
   },
   "file_extension": ".py",
   "mimetype": "text/x-python",
   "name": "python",
   "nbconvert_exporter": "python",
   "pygments_lexer": "ipython3",
   "version": "3.8.3-final"
  }
 },
 "nbformat": 4,
 "nbformat_minor": 4
}