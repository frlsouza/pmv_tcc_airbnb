{
 "cells": [
  {
   "cell_type": "markdown",
   "metadata": {},
   "source": [
    "## Importando as bibliotecas"
   ]
  },
  {
   "cell_type": "code",
   "execution_count": 1,
   "metadata": {},
   "outputs": [],
   "source": [
    "import pandas as pd\n",
    "import numpy as np\n",
    "from sklearn.preprocessing import MultiLabelBinarizer"
   ]
  },
  {
   "cell_type": "markdown",
   "metadata": {},
   "source": [
    "## Lendo as fontes de dados"
   ]
  },
  {
   "cell_type": "code",
   "execution_count": 2,
   "metadata": {},
   "outputs": [
    {
     "output_type": "stream",
     "name": "stdout",
     "text": [
      "Total de registros carregados: 33715\n"
     ]
    },
    {
     "output_type": "execute_result",
     "data": {
      "text/plain": [
       "                      host_name host_response_time host_response_rate  \\\n",
       "id                                                                      \n",
       "17878                  Matthias     within an hour               100%   \n",
       "25026                   Viviane       within a day                91%   \n",
       "31560                    Renata     within an hour               100%   \n",
       "35636                  Patricia     within an hour               100%   \n",
       "35764  Patricia Miranda & Paulo     within an hour               100%   \n",
       "\n",
       "      host_is_superhost host_identity_verified neighbourhood    zipcode  \\\n",
       "id                                                                        \n",
       "17878                 t                      t    Copacabana  22020-050   \n",
       "25026                 f                      t    Copacabana  22060-020   \n",
       "31560                 t                      t       Ipanema  22410-003   \n",
       "35636                 t                      t       Ipanema  22081-020   \n",
       "35764                 t                      t    Copacabana  21031-300   \n",
       "\n",
       "       latitude  longitude property_type  ... review_scores_accuracy  \\\n",
       "id                                        ...                          \n",
       "17878 -22.96592  -43.17896   Condominium  ...                    9.0   \n",
       "25026 -22.97712  -43.19045     Apartment  ...                    9.0   \n",
       "31560 -22.98302  -43.21427     Apartment  ...                   10.0   \n",
       "35636 -22.98816  -43.19359     Apartment  ...                   10.0   \n",
       "35764 -22.98127  -43.19046          Loft  ...                   10.0   \n",
       "\n",
       "       review_scores_cleanliness  review_scores_checkin  \\\n",
       "id                                                        \n",
       "17878                       10.0                   10.0   \n",
       "25026                       10.0                    9.0   \n",
       "31560                       10.0                   10.0   \n",
       "35636                        9.0                   10.0   \n",
       "35764                       10.0                   10.0   \n",
       "\n",
       "       review_scores_communication  review_scores_location  \\\n",
       "id                                                           \n",
       "17878                         10.0                    10.0   \n",
       "25026                         10.0                    10.0   \n",
       "31560                         10.0                    10.0   \n",
       "35636                         10.0                    10.0   \n",
       "35764                         10.0                    10.0   \n",
       "\n",
       "      review_scores_value instant_bookable          cancellation_policy  \\\n",
       "id                                                                        \n",
       "17878                 9.0                t  strict_14_with_grace_period   \n",
       "25026                 9.0                f  strict_14_with_grace_period   \n",
       "31560                10.0                t  strict_14_with_grace_period   \n",
       "35636                 9.0                f  strict_14_with_grace_period   \n",
       "35764                10.0                f  strict_14_with_grace_period   \n",
       "\n",
       "      calculated_host_listings_count reviews_per_month  \n",
       "id                                                      \n",
       "17878                              1              2.13  \n",
       "25026                              3              2.04  \n",
       "31560                              1              2.38  \n",
       "35636                              1              2.28  \n",
       "35764                              1              2.84  \n",
       "\n",
       "[5 rows x 36 columns]"
      ],
      "text/html": "<div>\n<style scoped>\n    .dataframe tbody tr th:only-of-type {\n        vertical-align: middle;\n    }\n\n    .dataframe tbody tr th {\n        vertical-align: top;\n    }\n\n    .dataframe thead th {\n        text-align: right;\n    }\n</style>\n<table border=\"1\" class=\"dataframe\">\n  <thead>\n    <tr style=\"text-align: right;\">\n      <th></th>\n      <th>host_name</th>\n      <th>host_response_time</th>\n      <th>host_response_rate</th>\n      <th>host_is_superhost</th>\n      <th>host_identity_verified</th>\n      <th>neighbourhood</th>\n      <th>zipcode</th>\n      <th>latitude</th>\n      <th>longitude</th>\n      <th>property_type</th>\n      <th>...</th>\n      <th>review_scores_accuracy</th>\n      <th>review_scores_cleanliness</th>\n      <th>review_scores_checkin</th>\n      <th>review_scores_communication</th>\n      <th>review_scores_location</th>\n      <th>review_scores_value</th>\n      <th>instant_bookable</th>\n      <th>cancellation_policy</th>\n      <th>calculated_host_listings_count</th>\n      <th>reviews_per_month</th>\n    </tr>\n    <tr>\n      <th>id</th>\n      <th></th>\n      <th></th>\n      <th></th>\n      <th></th>\n      <th></th>\n      <th></th>\n      <th></th>\n      <th></th>\n      <th></th>\n      <th></th>\n      <th></th>\n      <th></th>\n      <th></th>\n      <th></th>\n      <th></th>\n      <th></th>\n      <th></th>\n      <th></th>\n      <th></th>\n      <th></th>\n      <th></th>\n    </tr>\n  </thead>\n  <tbody>\n    <tr>\n      <th>17878</th>\n      <td>Matthias</td>\n      <td>within an hour</td>\n      <td>100%</td>\n      <td>t</td>\n      <td>t</td>\n      <td>Copacabana</td>\n      <td>22020-050</td>\n      <td>-22.96592</td>\n      <td>-43.17896</td>\n      <td>Condominium</td>\n      <td>...</td>\n      <td>9.0</td>\n      <td>10.0</td>\n      <td>10.0</td>\n      <td>10.0</td>\n      <td>10.0</td>\n      <td>9.0</td>\n      <td>t</td>\n      <td>strict_14_with_grace_period</td>\n      <td>1</td>\n      <td>2.13</td>\n    </tr>\n    <tr>\n      <th>25026</th>\n      <td>Viviane</td>\n      <td>within a day</td>\n      <td>91%</td>\n      <td>f</td>\n      <td>t</td>\n      <td>Copacabana</td>\n      <td>22060-020</td>\n      <td>-22.97712</td>\n      <td>-43.19045</td>\n      <td>Apartment</td>\n      <td>...</td>\n      <td>9.0</td>\n      <td>10.0</td>\n      <td>9.0</td>\n      <td>10.0</td>\n      <td>10.0</td>\n      <td>9.0</td>\n      <td>f</td>\n      <td>strict_14_with_grace_period</td>\n      <td>3</td>\n      <td>2.04</td>\n    </tr>\n    <tr>\n      <th>31560</th>\n      <td>Renata</td>\n      <td>within an hour</td>\n      <td>100%</td>\n      <td>t</td>\n      <td>t</td>\n      <td>Ipanema</td>\n      <td>22410-003</td>\n      <td>-22.98302</td>\n      <td>-43.21427</td>\n      <td>Apartment</td>\n      <td>...</td>\n      <td>10.0</td>\n      <td>10.0</td>\n      <td>10.0</td>\n      <td>10.0</td>\n      <td>10.0</td>\n      <td>10.0</td>\n      <td>t</td>\n      <td>strict_14_with_grace_period</td>\n      <td>1</td>\n      <td>2.38</td>\n    </tr>\n    <tr>\n      <th>35636</th>\n      <td>Patricia</td>\n      <td>within an hour</td>\n      <td>100%</td>\n      <td>t</td>\n      <td>t</td>\n      <td>Ipanema</td>\n      <td>22081-020</td>\n      <td>-22.98816</td>\n      <td>-43.19359</td>\n      <td>Apartment</td>\n      <td>...</td>\n      <td>10.0</td>\n      <td>9.0</td>\n      <td>10.0</td>\n      <td>10.0</td>\n      <td>10.0</td>\n      <td>9.0</td>\n      <td>f</td>\n      <td>strict_14_with_grace_period</td>\n      <td>1</td>\n      <td>2.28</td>\n    </tr>\n    <tr>\n      <th>35764</th>\n      <td>Patricia Miranda &amp; Paulo</td>\n      <td>within an hour</td>\n      <td>100%</td>\n      <td>t</td>\n      <td>t</td>\n      <td>Copacabana</td>\n      <td>21031-300</td>\n      <td>-22.98127</td>\n      <td>-43.19046</td>\n      <td>Loft</td>\n      <td>...</td>\n      <td>10.0</td>\n      <td>10.0</td>\n      <td>10.0</td>\n      <td>10.0</td>\n      <td>10.0</td>\n      <td>10.0</td>\n      <td>f</td>\n      <td>strict_14_with_grace_period</td>\n      <td>1</td>\n      <td>2.84</td>\n    </tr>\n  </tbody>\n</table>\n<p>5 rows × 36 columns</p>\n</div>"
     },
     "metadata": {},
     "execution_count": 2
    }
   ],
   "source": [
    "# Listings -> df_anuncios e df_amenities\n",
    "\n",
    "df_listings = pd.read_csv('listings.csv', index_col='id', engine='python', sep =',', encoding=\"utf-8\")\n",
    "df_listings = df_listings[['host_name', 'host_response_time', 'host_response_rate', 'host_is_superhost', 'host_identity_verified', 'neighbourhood', 'zipcode', 'latitude', 'longitude', 'property_type', 'room_type', 'accommodates', 'bathrooms', 'bedrooms', 'beds', 'bed_type', 'amenities', 'price', 'security_deposit', 'cleaning_fee', 'guests_included', 'extra_people', 'minimum_nights', 'maximum_nights', 'number_of_reviews', 'review_scores_rating', 'review_scores_accuracy', 'review_scores_cleanliness', 'review_scores_checkin', 'review_scores_communication', 'review_scores_location', 'review_scores_value', 'instant_bookable', 'cancellation_policy', 'calculated_host_listings_count', 'reviews_per_month']]\n",
    "print('Total de registros carregados:',len(df_listings))\n",
    "df_listings.head()"
   ]
  },
  {
   "cell_type": "code",
   "execution_count": 3,
   "metadata": {},
   "outputs": [
    {
     "output_type": "execute_result",
     "data": {
      "text/plain": [
       "  neighbourhood     m2\n",
       "0       Ipanema  20908\n",
       "1    Copacabana  12169\n",
       "2          Leme  12211\n",
       "3        Catete  10486\n",
       "4          Lapa   3277"
      ],
      "text/html": "<div>\n<style scoped>\n    .dataframe tbody tr th:only-of-type {\n        vertical-align: middle;\n    }\n\n    .dataframe tbody tr th {\n        vertical-align: top;\n    }\n\n    .dataframe thead th {\n        text-align: right;\n    }\n</style>\n<table border=\"1\" class=\"dataframe\">\n  <thead>\n    <tr style=\"text-align: right;\">\n      <th></th>\n      <th>neighbourhood</th>\n      <th>m2</th>\n    </tr>\n  </thead>\n  <tbody>\n    <tr>\n      <th>0</th>\n      <td>Ipanema</td>\n      <td>20908</td>\n    </tr>\n    <tr>\n      <th>1</th>\n      <td>Copacabana</td>\n      <td>12169</td>\n    </tr>\n    <tr>\n      <th>2</th>\n      <td>Leme</td>\n      <td>12211</td>\n    </tr>\n    <tr>\n      <th>3</th>\n      <td>Catete</td>\n      <td>10486</td>\n    </tr>\n    <tr>\n      <th>4</th>\n      <td>Lapa</td>\n      <td>3277</td>\n    </tr>\n  </tbody>\n</table>\n</div>"
     },
     "metadata": {},
     "execution_count": 3
    }
   ],
   "source": [
    "# Metro Quadrado -> df_metro_quadrado\n",
    "\n",
    "# Estimativa do valor do metro quadrado por bairro\n",
    "# Fonte: prefeitura do RJ - http://www2.rio.rj.gov.br/smf/siam/logradouro.asp\n",
    "\n",
    "metro_quadrado = {\n",
    "    'Ipanema':20908,'Copacabana':12169,'Leme':12211,'Catete':10486,'Lapa':3277,\n",
    "    'Barra da Tijuca':9334,'Inhaúma':1484,'Leblon':23625,'Vila Kosmos':1541,'Botafogo':11378,\n",
    "    'Recreio dos Bandeirantes':6120,'Tijuca':6193,'Glória':9264,'Laranjeiras':9687,'Santa Teresa':7869, \n",
    "    'Engenho de Dentro':2049,'Centro':7660,'Jardim Botânico':14269,'Joá':7973,'Vidigal':1749,\n",
    "    'Flamengo':11099,'Gávea':13814,'Rio Comprido':1670,'Engenho Novo':3553,'Humaitá':11684, \n",
    "    'São Cristóvão':1812,'Cosme Velho':8460,'Vila Isabel':5085,'Maracanã':2297,'Andaraí':4961, \n",
    "    'Saúde':1813,'Benfica':1272,'Lagoa':15616,'Méier':2727,'Marechal Hermes':1213, \n",
    "    'Penha':1734,'São Conrado':12211,'Urca':11661,'Todos os Santos':2281,'Grajaú':4995, \n",
    "    'Lins de Vasconcelos':863,'Parque Anchieta':855,'Del Castilho':1621,'Estacio': 1688,'Cachambi':1475,\n",
    "    'Praça da Bandeira':2285,'Gamboa':1666,'Vaz Lobo':1184,'Irajá':1204,'Olaria':1813, \n",
    "    'Madureira':1573,'Bonsucesso':1815,'Rocha':1740,'Quintino Bocaiúva':1372,'Vila da Penha':1987,\n",
    "    'Tomás Coelho':1199,'Bento Ribeiro':1499,'Abolição': 1635,'Brás de Pina': 1341,'Riachuelo':1797, \n",
    "    'Guadalupe':1171,'Parada de Lucas':1062,'Grumari':2601,'Rocinha':1531,'Encantado':1641, \n",
    "    'Cordovil':1249,'Barra de Guaratiba':1401,'Cidade Nova':2422,'Maria da Graça':1738,'Piedade':1547, \n",
    "    'Oswaldo Cruz':1305,'Santo Cristo':1526,'Penha Circular': 1566,'Higienópolis':1831,'Catumbi':1158, \n",
    "    'Engenho da Rainha':1169,'Pilares':1577,'Ramos':1512,'Cascadura':1501,'Sampaio':1698, \n",
    "    'Barros filho':744,'Jacaré':1229,'Rocha Miranda':1331,'Caju':866,'Colégio':1070, \n",
    "    'Coelho Neto':1084,'Mangueira':490,'Ricardo de Albuquerque':1010,'Anchieta':965,'Manguinhos':439,\n",
    "    'Pavuna':2193,'Vigário Geral':1025,'Vincente de Carvalho':1272,'Honório Gurgel':3063,'Cavalcante':981, \n",
    "    'Deodoro':999,'Complexo do Alemão':544\n",
    "}\n",
    "pd.DataFrame(data=list(metro_quadrado.items()),columns=['neighbourhood','m2']).head()"
   ]
  },
  {
   "cell_type": "markdown",
   "metadata": {},
   "source": [
    "## Gerando os dataframes"
   ]
  },
  {
   "cell_type": "code",
   "execution_count": 4,
   "metadata": {},
   "outputs": [
    {
     "output_type": "execute_result",
     "data": {
      "text/plain": [
       "                      host_name host_response_time host_response_rate  \\\n",
       "id                                                                      \n",
       "17878                  Matthias     within an hour               100%   \n",
       "25026                   Viviane       within a day                91%   \n",
       "31560                    Renata     within an hour               100%   \n",
       "35636                  Patricia     within an hour               100%   \n",
       "35764  Patricia Miranda & Paulo     within an hour               100%   \n",
       "\n",
       "      host_is_superhost host_identity_verified neighbourhood    zipcode  \\\n",
       "id                                                                        \n",
       "17878                 t                      t    Copacabana  22020-050   \n",
       "25026                 f                      t    Copacabana  22060-020   \n",
       "31560                 t                      t       Ipanema  22410-003   \n",
       "35636                 t                      t       Ipanema  22081-020   \n",
       "35764                 t                      t    Copacabana  21031-300   \n",
       "\n",
       "       latitude  longitude property_type  ... review_scores_accuracy  \\\n",
       "id                                        ...                          \n",
       "17878 -22.96592  -43.17896   Condominium  ...                    9.0   \n",
       "25026 -22.97712  -43.19045     Apartment  ...                    9.0   \n",
       "31560 -22.98302  -43.21427     Apartment  ...                   10.0   \n",
       "35636 -22.98816  -43.19359     Apartment  ...                   10.0   \n",
       "35764 -22.98127  -43.19046          Loft  ...                   10.0   \n",
       "\n",
       "       review_scores_cleanliness  review_scores_checkin  \\\n",
       "id                                                        \n",
       "17878                       10.0                   10.0   \n",
       "25026                       10.0                    9.0   \n",
       "31560                       10.0                   10.0   \n",
       "35636                        9.0                   10.0   \n",
       "35764                       10.0                   10.0   \n",
       "\n",
       "       review_scores_communication  review_scores_location  \\\n",
       "id                                                           \n",
       "17878                         10.0                    10.0   \n",
       "25026                         10.0                    10.0   \n",
       "31560                         10.0                    10.0   \n",
       "35636                         10.0                    10.0   \n",
       "35764                         10.0                    10.0   \n",
       "\n",
       "      review_scores_value instant_bookable          cancellation_policy  \\\n",
       "id                                                                        \n",
       "17878                 9.0                t  strict_14_with_grace_period   \n",
       "25026                 9.0                f  strict_14_with_grace_period   \n",
       "31560                10.0                t  strict_14_with_grace_period   \n",
       "35636                 9.0                f  strict_14_with_grace_period   \n",
       "35764                10.0                f  strict_14_with_grace_period   \n",
       "\n",
       "      calculated_host_listings_count  reviews_per_month  \n",
       "id                                                       \n",
       "17878                              1               2.13  \n",
       "25026                              3               2.04  \n",
       "31560                              1               2.38  \n",
       "35636                              1               2.28  \n",
       "35764                              1               2.84  \n",
       "\n",
       "[5 rows x 35 columns]"
      ],
      "text/html": "<div>\n<style scoped>\n    .dataframe tbody tr th:only-of-type {\n        vertical-align: middle;\n    }\n\n    .dataframe tbody tr th {\n        vertical-align: top;\n    }\n\n    .dataframe thead th {\n        text-align: right;\n    }\n</style>\n<table border=\"1\" class=\"dataframe\">\n  <thead>\n    <tr style=\"text-align: right;\">\n      <th></th>\n      <th>host_name</th>\n      <th>host_response_time</th>\n      <th>host_response_rate</th>\n      <th>host_is_superhost</th>\n      <th>host_identity_verified</th>\n      <th>neighbourhood</th>\n      <th>zipcode</th>\n      <th>latitude</th>\n      <th>longitude</th>\n      <th>property_type</th>\n      <th>...</th>\n      <th>review_scores_accuracy</th>\n      <th>review_scores_cleanliness</th>\n      <th>review_scores_checkin</th>\n      <th>review_scores_communication</th>\n      <th>review_scores_location</th>\n      <th>review_scores_value</th>\n      <th>instant_bookable</th>\n      <th>cancellation_policy</th>\n      <th>calculated_host_listings_count</th>\n      <th>reviews_per_month</th>\n    </tr>\n    <tr>\n      <th>id</th>\n      <th></th>\n      <th></th>\n      <th></th>\n      <th></th>\n      <th></th>\n      <th></th>\n      <th></th>\n      <th></th>\n      <th></th>\n      <th></th>\n      <th></th>\n      <th></th>\n      <th></th>\n      <th></th>\n      <th></th>\n      <th></th>\n      <th></th>\n      <th></th>\n      <th></th>\n      <th></th>\n      <th></th>\n    </tr>\n  </thead>\n  <tbody>\n    <tr>\n      <th>17878</th>\n      <td>Matthias</td>\n      <td>within an hour</td>\n      <td>100%</td>\n      <td>t</td>\n      <td>t</td>\n      <td>Copacabana</td>\n      <td>22020-050</td>\n      <td>-22.96592</td>\n      <td>-43.17896</td>\n      <td>Condominium</td>\n      <td>...</td>\n      <td>9.0</td>\n      <td>10.0</td>\n      <td>10.0</td>\n      <td>10.0</td>\n      <td>10.0</td>\n      <td>9.0</td>\n      <td>t</td>\n      <td>strict_14_with_grace_period</td>\n      <td>1</td>\n      <td>2.13</td>\n    </tr>\n    <tr>\n      <th>25026</th>\n      <td>Viviane</td>\n      <td>within a day</td>\n      <td>91%</td>\n      <td>f</td>\n      <td>t</td>\n      <td>Copacabana</td>\n      <td>22060-020</td>\n      <td>-22.97712</td>\n      <td>-43.19045</td>\n      <td>Apartment</td>\n      <td>...</td>\n      <td>9.0</td>\n      <td>10.0</td>\n      <td>9.0</td>\n      <td>10.0</td>\n      <td>10.0</td>\n      <td>9.0</td>\n      <td>f</td>\n      <td>strict_14_with_grace_period</td>\n      <td>3</td>\n      <td>2.04</td>\n    </tr>\n    <tr>\n      <th>31560</th>\n      <td>Renata</td>\n      <td>within an hour</td>\n      <td>100%</td>\n      <td>t</td>\n      <td>t</td>\n      <td>Ipanema</td>\n      <td>22410-003</td>\n      <td>-22.98302</td>\n      <td>-43.21427</td>\n      <td>Apartment</td>\n      <td>...</td>\n      <td>10.0</td>\n      <td>10.0</td>\n      <td>10.0</td>\n      <td>10.0</td>\n      <td>10.0</td>\n      <td>10.0</td>\n      <td>t</td>\n      <td>strict_14_with_grace_period</td>\n      <td>1</td>\n      <td>2.38</td>\n    </tr>\n    <tr>\n      <th>35636</th>\n      <td>Patricia</td>\n      <td>within an hour</td>\n      <td>100%</td>\n      <td>t</td>\n      <td>t</td>\n      <td>Ipanema</td>\n      <td>22081-020</td>\n      <td>-22.98816</td>\n      <td>-43.19359</td>\n      <td>Apartment</td>\n      <td>...</td>\n      <td>10.0</td>\n      <td>9.0</td>\n      <td>10.0</td>\n      <td>10.0</td>\n      <td>10.0</td>\n      <td>9.0</td>\n      <td>f</td>\n      <td>strict_14_with_grace_period</td>\n      <td>1</td>\n      <td>2.28</td>\n    </tr>\n    <tr>\n      <th>35764</th>\n      <td>Patricia Miranda &amp; Paulo</td>\n      <td>within an hour</td>\n      <td>100%</td>\n      <td>t</td>\n      <td>t</td>\n      <td>Copacabana</td>\n      <td>21031-300</td>\n      <td>-22.98127</td>\n      <td>-43.19046</td>\n      <td>Loft</td>\n      <td>...</td>\n      <td>10.0</td>\n      <td>10.0</td>\n      <td>10.0</td>\n      <td>10.0</td>\n      <td>10.0</td>\n      <td>10.0</td>\n      <td>f</td>\n      <td>strict_14_with_grace_period</td>\n      <td>1</td>\n      <td>2.84</td>\n    </tr>\n  </tbody>\n</table>\n<p>5 rows × 35 columns</p>\n</div>"
     },
     "metadata": {},
     "execution_count": 4
    }
   ],
   "source": [
    "# Gerando df_anuncios\n",
    "\n",
    "df_anuncios = df_listings.drop('amenities', axis=1)\n",
    "df_anuncios.head()"
   ]
  },
  {
   "cell_type": "code",
   "execution_count": 5,
   "metadata": {},
   "outputs": [
    {
     "output_type": "execute_result",
     "data": {
      "text/plain": [
       "       24-hour_check-in  Accessible-height_bed  Accessible-height_toilet  \\\n",
       "id                                                                         \n",
       "17878                 1                      0                         0   \n",
       "25026                 0                      0                         0   \n",
       "31560                 0                      0                         0   \n",
       "35636                 0                      0                         0   \n",
       "35764                 0                      1                         1   \n",
       "\n",
       "       Air_conditioning  Amazon_Echo  BBQ_grill  Baby_bath  Baby_monitor  \\\n",
       "id                                                                         \n",
       "17878                 1            0          0          0             0   \n",
       "25026                 1            0          0          0             0   \n",
       "31560                 1            0          0          0             0   \n",
       "35636                 1            0          0          0             0   \n",
       "35764                 1            0          0          0             0   \n",
       "\n",
       "       Babysitter_recommendations  Balcony  ...  Wide_entrance  \\\n",
       "id                                          ...                  \n",
       "17878                           0        0  ...              0   \n",
       "25026                           0        0  ...              0   \n",
       "31560                           0        0  ...              0   \n",
       "35636                           0        0  ...              0   \n",
       "35764                           0        0  ...              0   \n",
       "\n",
       "       Wide_entrance_for_guests  Wide_entryway  Wide_hallways  Wifi  \\\n",
       "id                                                                    \n",
       "17878                         0              0              0     1   \n",
       "25026                         0              0              0     1   \n",
       "31560                         0              0              0     1   \n",
       "35636                         0              0              0     1   \n",
       "35764                         1              1              0     1   \n",
       "\n",
       "       Window_guards  Wine_cooler  _toilet  \\\n",
       "id                                           \n",
       "17878              0            0        0   \n",
       "25026              0            0        0   \n",
       "31560              0            0        0   \n",
       "35636              0            0        0   \n",
       "35764              0            0        0   \n",
       "\n",
       "       translation_missing:_en.hosting_amenity_49  \\\n",
       "id                                                  \n",
       "17878                                           0   \n",
       "25026                                           0   \n",
       "31560                                           1   \n",
       "35636                                           0   \n",
       "35764                                           0   \n",
       "\n",
       "       translation_missing:_en.hosting_amenity_50  \n",
       "id                                                 \n",
       "17878                                           0  \n",
       "25026                                           0  \n",
       "31560                                           1  \n",
       "35636                                           0  \n",
       "35764                                           1  \n",
       "\n",
       "[5 rows x 168 columns]"
      ],
      "text/html": "<div>\n<style scoped>\n    .dataframe tbody tr th:only-of-type {\n        vertical-align: middle;\n    }\n\n    .dataframe tbody tr th {\n        vertical-align: top;\n    }\n\n    .dataframe thead th {\n        text-align: right;\n    }\n</style>\n<table border=\"1\" class=\"dataframe\">\n  <thead>\n    <tr style=\"text-align: right;\">\n      <th></th>\n      <th>24-hour_check-in</th>\n      <th>Accessible-height_bed</th>\n      <th>Accessible-height_toilet</th>\n      <th>Air_conditioning</th>\n      <th>Amazon_Echo</th>\n      <th>BBQ_grill</th>\n      <th>Baby_bath</th>\n      <th>Baby_monitor</th>\n      <th>Babysitter_recommendations</th>\n      <th>Balcony</th>\n      <th>...</th>\n      <th>Wide_entrance</th>\n      <th>Wide_entrance_for_guests</th>\n      <th>Wide_entryway</th>\n      <th>Wide_hallways</th>\n      <th>Wifi</th>\n      <th>Window_guards</th>\n      <th>Wine_cooler</th>\n      <th>_toilet</th>\n      <th>translation_missing:_en.hosting_amenity_49</th>\n      <th>translation_missing:_en.hosting_amenity_50</th>\n    </tr>\n    <tr>\n      <th>id</th>\n      <th></th>\n      <th></th>\n      <th></th>\n      <th></th>\n      <th></th>\n      <th></th>\n      <th></th>\n      <th></th>\n      <th></th>\n      <th></th>\n      <th></th>\n      <th></th>\n      <th></th>\n      <th></th>\n      <th></th>\n      <th></th>\n      <th></th>\n      <th></th>\n      <th></th>\n      <th></th>\n      <th></th>\n    </tr>\n  </thead>\n  <tbody>\n    <tr>\n      <th>17878</th>\n      <td>1</td>\n      <td>0</td>\n      <td>0</td>\n      <td>1</td>\n      <td>0</td>\n      <td>0</td>\n      <td>0</td>\n      <td>0</td>\n      <td>0</td>\n      <td>0</td>\n      <td>...</td>\n      <td>0</td>\n      <td>0</td>\n      <td>0</td>\n      <td>0</td>\n      <td>1</td>\n      <td>0</td>\n      <td>0</td>\n      <td>0</td>\n      <td>0</td>\n      <td>0</td>\n    </tr>\n    <tr>\n      <th>25026</th>\n      <td>0</td>\n      <td>0</td>\n      <td>0</td>\n      <td>1</td>\n      <td>0</td>\n      <td>0</td>\n      <td>0</td>\n      <td>0</td>\n      <td>0</td>\n      <td>0</td>\n      <td>...</td>\n      <td>0</td>\n      <td>0</td>\n      <td>0</td>\n      <td>0</td>\n      <td>1</td>\n      <td>0</td>\n      <td>0</td>\n      <td>0</td>\n      <td>0</td>\n      <td>0</td>\n    </tr>\n    <tr>\n      <th>31560</th>\n      <td>0</td>\n      <td>0</td>\n      <td>0</td>\n      <td>1</td>\n      <td>0</td>\n      <td>0</td>\n      <td>0</td>\n      <td>0</td>\n      <td>0</td>\n      <td>0</td>\n      <td>...</td>\n      <td>0</td>\n      <td>0</td>\n      <td>0</td>\n      <td>0</td>\n      <td>1</td>\n      <td>0</td>\n      <td>0</td>\n      <td>0</td>\n      <td>1</td>\n      <td>1</td>\n    </tr>\n    <tr>\n      <th>35636</th>\n      <td>0</td>\n      <td>0</td>\n      <td>0</td>\n      <td>1</td>\n      <td>0</td>\n      <td>0</td>\n      <td>0</td>\n      <td>0</td>\n      <td>0</td>\n      <td>0</td>\n      <td>...</td>\n      <td>0</td>\n      <td>0</td>\n      <td>0</td>\n      <td>0</td>\n      <td>1</td>\n      <td>0</td>\n      <td>0</td>\n      <td>0</td>\n      <td>0</td>\n      <td>0</td>\n    </tr>\n    <tr>\n      <th>35764</th>\n      <td>0</td>\n      <td>1</td>\n      <td>1</td>\n      <td>1</td>\n      <td>0</td>\n      <td>0</td>\n      <td>0</td>\n      <td>0</td>\n      <td>0</td>\n      <td>0</td>\n      <td>...</td>\n      <td>0</td>\n      <td>1</td>\n      <td>1</td>\n      <td>0</td>\n      <td>1</td>\n      <td>0</td>\n      <td>0</td>\n      <td>0</td>\n      <td>0</td>\n      <td>1</td>\n    </tr>\n  </tbody>\n</table>\n<p>5 rows × 168 columns</p>\n</div>"
     },
     "metadata": {},
     "execution_count": 5
    }
   ],
   "source": [
    "# Gerando df_amenities\n",
    "\n",
    "df_amenities = df_listings['amenities']\n",
    "df_amenities = df_amenities.str.strip('}{').str.replace(' ', '_').str.replace('\"', '').str.split(',')\n",
    "mlb = MultiLabelBinarizer()\n",
    "df_amenities = pd.DataFrame(\n",
    "        mlb.fit_transform(df_amenities),\n",
    "        index=df_amenities.index,\n",
    "        columns=mlb.classes_)\n",
    "df_amenities.drop(columns='', inplace=True)\n",
    "df_amenities.head()"
   ]
  },
  {
   "cell_type": "code",
   "execution_count": 6,
   "metadata": {},
   "outputs": [
    {
     "output_type": "execute_result",
     "data": {
      "text/plain": [
       "                  m2\n",
       "neighbourhood       \n",
       "Ipanema        20908\n",
       "Copacabana     12169\n",
       "Leme           12211\n",
       "Catete         10486\n",
       "Lapa            3277"
      ],
      "text/html": "<div>\n<style scoped>\n    .dataframe tbody tr th:only-of-type {\n        vertical-align: middle;\n    }\n\n    .dataframe tbody tr th {\n        vertical-align: top;\n    }\n\n    .dataframe thead th {\n        text-align: right;\n    }\n</style>\n<table border=\"1\" class=\"dataframe\">\n  <thead>\n    <tr style=\"text-align: right;\">\n      <th></th>\n      <th>m2</th>\n    </tr>\n    <tr>\n      <th>neighbourhood</th>\n      <th></th>\n    </tr>\n  </thead>\n  <tbody>\n    <tr>\n      <th>Ipanema</th>\n      <td>20908</td>\n    </tr>\n    <tr>\n      <th>Copacabana</th>\n      <td>12169</td>\n    </tr>\n    <tr>\n      <th>Leme</th>\n      <td>12211</td>\n    </tr>\n    <tr>\n      <th>Catete</th>\n      <td>10486</td>\n    </tr>\n    <tr>\n      <th>Lapa</th>\n      <td>3277</td>\n    </tr>\n  </tbody>\n</table>\n</div>"
     },
     "metadata": {},
     "execution_count": 6
    }
   ],
   "source": [
    "# Gerando df_metro_quadrado\n",
    "\n",
    "df_metro_quadrado = pd.DataFrame(data=list(metro_quadrado.items()),columns=['neighbourhood','m2'])\n",
    "df_metro_quadrado = df_metro_quadrado.set_index('neighbourhood')\n",
    "df_metro_quadrado.head()"
   ]
  },
  {
   "cell_type": "markdown",
   "metadata": {},
   "source": [
    "## Salvando os dataframes resultantes para as próximas etapas"
   ]
  },
  {
   "cell_type": "code",
   "execution_count": 7,
   "metadata": {},
   "outputs": [],
   "source": [
    "df_anuncios.to_csv('anuncios.csv')"
   ]
  },
  {
   "cell_type": "code",
   "execution_count": 8,
   "metadata": {},
   "outputs": [],
   "source": [
    "df_amenities.to_csv('amenities.csv')"
   ]
  },
  {
   "cell_type": "code",
   "execution_count": 9,
   "metadata": {},
   "outputs": [],
   "source": [
    "df_metro_quadrado.to_csv('metro_quadrado.csv')"
   ]
  },
  {
   "cell_type": "code",
   "execution_count": null,
   "metadata": {},
   "outputs": [],
   "source": []
  }
 ],
 "metadata": {
  "kernelspec": {
   "display_name": "Python 3",
   "language": "python",
   "name": "python3"
  },
  "language_info": {
   "codemirror_mode": {
    "name": "ipython",
    "version": 3
   },
   "file_extension": ".py",
   "mimetype": "text/x-python",
   "name": "python",
   "nbconvert_exporter": "python",
   "pygments_lexer": "ipython3",
   "version": "3.8.3-final"
  }
 },
 "nbformat": 4,
 "nbformat_minor": 4
}