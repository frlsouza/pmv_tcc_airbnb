{
 "cells": [
  {
   "cell_type": "markdown",
   "metadata": {},
   "source": [
    "## Importando as bibliotecas"
   ]
  },
  {
   "cell_type": "code",
   "execution_count": 1,
   "metadata": {},
   "outputs": [],
   "source": [
    "import pandas as pd\n",
    "import numpy as np\n",
    "from sklearn.preprocessing import MultiLabelBinarizer"
   ]
  },
  {
   "cell_type": "markdown",
   "metadata": {},
   "source": [
    "## Lendo as fontes de dados"
   ]
  },
  {
   "cell_type": "code",
   "execution_count": 2,
   "metadata": {},
   "outputs": [
    {
     "output_type": "execute_result",
     "data": {
      "text/plain": [
       "                         host_name  host_response_time host_response_rate  \\\n",
       "id                                                                          \n",
       "17878                     Matthias      within an hour               100%   \n",
       "25026                      Viviane        within a day                91%   \n",
       "31560                       Renata      within an hour               100%   \n",
       "35636                     Patricia      within an hour               100%   \n",
       "35764     Patricia Miranda & Paulo      within an hour               100%   \n",
       "...                            ...                 ...                ...   \n",
       "40289331                      Luis                 NaN                NaN   \n",
       "40289841                Christiane                 NaN                NaN   \n",
       "40290087                   Poliane  within a few hours                92%   \n",
       "40290464                    Rafael      within an hour               100%   \n",
       "40290908                   Larissa                 NaN                NaN   \n",
       "\n",
       "         host_is_superhost host_identity_verified neighbourhood    zipcode  \\\n",
       "id                                                                           \n",
       "17878                    t                      t    Copacabana  22020-050   \n",
       "25026                    f                      t    Copacabana  22060-020   \n",
       "31560                    t                      t       Ipanema  22410-003   \n",
       "35636                    t                      t       Ipanema  22081-020   \n",
       "35764                    t                      t    Copacabana  21031-300   \n",
       "...                    ...                    ...           ...        ...   \n",
       "40289331                 f                      f           NaN  22640-100   \n",
       "40289841                 f                      f           NaN  20241-260   \n",
       "40290087                 f                      f           NaN   22021010   \n",
       "40290464                 f                      f           NaN  22410-003   \n",
       "40290908                 f                      f           NaN  22011-001   \n",
       "\n",
       "          latitude  longitude property_type  ... review_scores_accuracy  \\\n",
       "id                                           ...                          \n",
       "17878    -22.96592  -43.17896   Condominium  ...                    9.0   \n",
       "25026    -22.97712  -43.19045     Apartment  ...                    9.0   \n",
       "31560    -22.98302  -43.21427     Apartment  ...                   10.0   \n",
       "35636    -22.98816  -43.19359     Apartment  ...                   10.0   \n",
       "35764    -22.98127  -43.19046          Loft  ...                   10.0   \n",
       "...            ...        ...           ...  ...                    ...   \n",
       "40289331 -23.00629  -43.31821          Loft  ...                    NaN   \n",
       "40289841 -22.92799  -43.19134          Loft  ...                    NaN   \n",
       "40290087 -22.96303  -43.17778          Loft  ...                    NaN   \n",
       "40290464 -22.98503  -43.19928          Loft  ...                    NaN   \n",
       "40290908 -22.96200  -43.17657     Apartment  ...                    NaN   \n",
       "\n",
       "          review_scores_cleanliness  review_scores_checkin  \\\n",
       "id                                                           \n",
       "17878                          10.0                   10.0   \n",
       "25026                          10.0                    9.0   \n",
       "31560                          10.0                   10.0   \n",
       "35636                           9.0                   10.0   \n",
       "35764                          10.0                   10.0   \n",
       "...                             ...                    ...   \n",
       "40289331                        NaN                    NaN   \n",
       "40289841                        NaN                    NaN   \n",
       "40290087                        NaN                    NaN   \n",
       "40290464                        NaN                    NaN   \n",
       "40290908                        NaN                    NaN   \n",
       "\n",
       "          review_scores_communication  review_scores_location  \\\n",
       "id                                                              \n",
       "17878                            10.0                    10.0   \n",
       "25026                            10.0                    10.0   \n",
       "31560                            10.0                    10.0   \n",
       "35636                            10.0                    10.0   \n",
       "35764                            10.0                    10.0   \n",
       "...                               ...                     ...   \n",
       "40289331                          NaN                     NaN   \n",
       "40289841                          NaN                     NaN   \n",
       "40290087                          NaN                     NaN   \n",
       "40290464                          NaN                     NaN   \n",
       "40290908                          NaN                     NaN   \n",
       "\n",
       "         review_scores_value instant_bookable          cancellation_policy  \\\n",
       "id                                                                           \n",
       "17878                    9.0                t  strict_14_with_grace_period   \n",
       "25026                    9.0                f  strict_14_with_grace_period   \n",
       "31560                   10.0                t  strict_14_with_grace_period   \n",
       "35636                    9.0                f  strict_14_with_grace_period   \n",
       "35764                   10.0                f  strict_14_with_grace_period   \n",
       "...                      ...              ...                          ...   \n",
       "40289331                 NaN                t                     moderate   \n",
       "40289841                 NaN                t                     flexible   \n",
       "40290087                 NaN                t  strict_14_with_grace_period   \n",
       "40290464                 NaN                t                     moderate   \n",
       "40290908                 NaN                t                     moderate   \n",
       "\n",
       "         calculated_host_listings_count reviews_per_month  \n",
       "id                                                         \n",
       "17878                                 1              2.13  \n",
       "25026                                 3              2.04  \n",
       "31560                                 1              2.38  \n",
       "35636                                 1              2.28  \n",
       "35764                                 1              2.84  \n",
       "...                                 ...               ...  \n",
       "40289331                              1               NaN  \n",
       "40289841                              1               NaN  \n",
       "40290087                              2               NaN  \n",
       "40290464                              1              1.00  \n",
       "40290908                              1               NaN  \n",
       "\n",
       "[33715 rows x 36 columns]"
      ],
      "text/html": "<div>\n<style scoped>\n    .dataframe tbody tr th:only-of-type {\n        vertical-align: middle;\n    }\n\n    .dataframe tbody tr th {\n        vertical-align: top;\n    }\n\n    .dataframe thead th {\n        text-align: right;\n    }\n</style>\n<table border=\"1\" class=\"dataframe\">\n  <thead>\n    <tr style=\"text-align: right;\">\n      <th></th>\n      <th>host_name</th>\n      <th>host_response_time</th>\n      <th>host_response_rate</th>\n      <th>host_is_superhost</th>\n      <th>host_identity_verified</th>\n      <th>neighbourhood</th>\n      <th>zipcode</th>\n      <th>latitude</th>\n      <th>longitude</th>\n      <th>property_type</th>\n      <th>...</th>\n      <th>review_scores_accuracy</th>\n      <th>review_scores_cleanliness</th>\n      <th>review_scores_checkin</th>\n      <th>review_scores_communication</th>\n      <th>review_scores_location</th>\n      <th>review_scores_value</th>\n      <th>instant_bookable</th>\n      <th>cancellation_policy</th>\n      <th>calculated_host_listings_count</th>\n      <th>reviews_per_month</th>\n    </tr>\n    <tr>\n      <th>id</th>\n      <th></th>\n      <th></th>\n      <th></th>\n      <th></th>\n      <th></th>\n      <th></th>\n      <th></th>\n      <th></th>\n      <th></th>\n      <th></th>\n      <th></th>\n      <th></th>\n      <th></th>\n      <th></th>\n      <th></th>\n      <th></th>\n      <th></th>\n      <th></th>\n      <th></th>\n      <th></th>\n      <th></th>\n    </tr>\n  </thead>\n  <tbody>\n    <tr>\n      <th>17878</th>\n      <td>Matthias</td>\n      <td>within an hour</td>\n      <td>100%</td>\n      <td>t</td>\n      <td>t</td>\n      <td>Copacabana</td>\n      <td>22020-050</td>\n      <td>-22.96592</td>\n      <td>-43.17896</td>\n      <td>Condominium</td>\n      <td>...</td>\n      <td>9.0</td>\n      <td>10.0</td>\n      <td>10.0</td>\n      <td>10.0</td>\n      <td>10.0</td>\n      <td>9.0</td>\n      <td>t</td>\n      <td>strict_14_with_grace_period</td>\n      <td>1</td>\n      <td>2.13</td>\n    </tr>\n    <tr>\n      <th>25026</th>\n      <td>Viviane</td>\n      <td>within a day</td>\n      <td>91%</td>\n      <td>f</td>\n      <td>t</td>\n      <td>Copacabana</td>\n      <td>22060-020</td>\n      <td>-22.97712</td>\n      <td>-43.19045</td>\n      <td>Apartment</td>\n      <td>...</td>\n      <td>9.0</td>\n      <td>10.0</td>\n      <td>9.0</td>\n      <td>10.0</td>\n      <td>10.0</td>\n      <td>9.0</td>\n      <td>f</td>\n      <td>strict_14_with_grace_period</td>\n      <td>3</td>\n      <td>2.04</td>\n    </tr>\n    <tr>\n      <th>31560</th>\n      <td>Renata</td>\n      <td>within an hour</td>\n      <td>100%</td>\n      <td>t</td>\n      <td>t</td>\n      <td>Ipanema</td>\n      <td>22410-003</td>\n      <td>-22.98302</td>\n      <td>-43.21427</td>\n      <td>Apartment</td>\n      <td>...</td>\n      <td>10.0</td>\n      <td>10.0</td>\n      <td>10.0</td>\n      <td>10.0</td>\n      <td>10.0</td>\n      <td>10.0</td>\n      <td>t</td>\n      <td>strict_14_with_grace_period</td>\n      <td>1</td>\n      <td>2.38</td>\n    </tr>\n    <tr>\n      <th>35636</th>\n      <td>Patricia</td>\n      <td>within an hour</td>\n      <td>100%</td>\n      <td>t</td>\n      <td>t</td>\n      <td>Ipanema</td>\n      <td>22081-020</td>\n      <td>-22.98816</td>\n      <td>-43.19359</td>\n      <td>Apartment</td>\n      <td>...</td>\n      <td>10.0</td>\n      <td>9.0</td>\n      <td>10.0</td>\n      <td>10.0</td>\n      <td>10.0</td>\n      <td>9.0</td>\n      <td>f</td>\n      <td>strict_14_with_grace_period</td>\n      <td>1</td>\n      <td>2.28</td>\n    </tr>\n    <tr>\n      <th>35764</th>\n      <td>Patricia Miranda &amp; Paulo</td>\n      <td>within an hour</td>\n      <td>100%</td>\n      <td>t</td>\n      <td>t</td>\n      <td>Copacabana</td>\n      <td>21031-300</td>\n      <td>-22.98127</td>\n      <td>-43.19046</td>\n      <td>Loft</td>\n      <td>...</td>\n      <td>10.0</td>\n      <td>10.0</td>\n      <td>10.0</td>\n      <td>10.0</td>\n      <td>10.0</td>\n      <td>10.0</td>\n      <td>f</td>\n      <td>strict_14_with_grace_period</td>\n      <td>1</td>\n      <td>2.84</td>\n    </tr>\n    <tr>\n      <th>...</th>\n      <td>...</td>\n      <td>...</td>\n      <td>...</td>\n      <td>...</td>\n      <td>...</td>\n      <td>...</td>\n      <td>...</td>\n      <td>...</td>\n      <td>...</td>\n      <td>...</td>\n      <td>...</td>\n      <td>...</td>\n      <td>...</td>\n      <td>...</td>\n      <td>...</td>\n      <td>...</td>\n      <td>...</td>\n      <td>...</td>\n      <td>...</td>\n      <td>...</td>\n      <td>...</td>\n    </tr>\n    <tr>\n      <th>40289331</th>\n      <td>Luis</td>\n      <td>NaN</td>\n      <td>NaN</td>\n      <td>f</td>\n      <td>f</td>\n      <td>NaN</td>\n      <td>22640-100</td>\n      <td>-23.00629</td>\n      <td>-43.31821</td>\n      <td>Loft</td>\n      <td>...</td>\n      <td>NaN</td>\n      <td>NaN</td>\n      <td>NaN</td>\n      <td>NaN</td>\n      <td>NaN</td>\n      <td>NaN</td>\n      <td>t</td>\n      <td>moderate</td>\n      <td>1</td>\n      <td>NaN</td>\n    </tr>\n    <tr>\n      <th>40289841</th>\n      <td>Christiane</td>\n      <td>NaN</td>\n      <td>NaN</td>\n      <td>f</td>\n      <td>f</td>\n      <td>NaN</td>\n      <td>20241-260</td>\n      <td>-22.92799</td>\n      <td>-43.19134</td>\n      <td>Loft</td>\n      <td>...</td>\n      <td>NaN</td>\n      <td>NaN</td>\n      <td>NaN</td>\n      <td>NaN</td>\n      <td>NaN</td>\n      <td>NaN</td>\n      <td>t</td>\n      <td>flexible</td>\n      <td>1</td>\n      <td>NaN</td>\n    </tr>\n    <tr>\n      <th>40290087</th>\n      <td>Poliane</td>\n      <td>within a few hours</td>\n      <td>92%</td>\n      <td>f</td>\n      <td>f</td>\n      <td>NaN</td>\n      <td>22021010</td>\n      <td>-22.96303</td>\n      <td>-43.17778</td>\n      <td>Loft</td>\n      <td>...</td>\n      <td>NaN</td>\n      <td>NaN</td>\n      <td>NaN</td>\n      <td>NaN</td>\n      <td>NaN</td>\n      <td>NaN</td>\n      <td>t</td>\n      <td>strict_14_with_grace_period</td>\n      <td>2</td>\n      <td>NaN</td>\n    </tr>\n    <tr>\n      <th>40290464</th>\n      <td>Rafael</td>\n      <td>within an hour</td>\n      <td>100%</td>\n      <td>f</td>\n      <td>f</td>\n      <td>NaN</td>\n      <td>22410-003</td>\n      <td>-22.98503</td>\n      <td>-43.19928</td>\n      <td>Loft</td>\n      <td>...</td>\n      <td>NaN</td>\n      <td>NaN</td>\n      <td>NaN</td>\n      <td>NaN</td>\n      <td>NaN</td>\n      <td>NaN</td>\n      <td>t</td>\n      <td>moderate</td>\n      <td>1</td>\n      <td>1.00</td>\n    </tr>\n    <tr>\n      <th>40290908</th>\n      <td>Larissa</td>\n      <td>NaN</td>\n      <td>NaN</td>\n      <td>f</td>\n      <td>f</td>\n      <td>NaN</td>\n      <td>22011-001</td>\n      <td>-22.96200</td>\n      <td>-43.17657</td>\n      <td>Apartment</td>\n      <td>...</td>\n      <td>NaN</td>\n      <td>NaN</td>\n      <td>NaN</td>\n      <td>NaN</td>\n      <td>NaN</td>\n      <td>NaN</td>\n      <td>t</td>\n      <td>moderate</td>\n      <td>1</td>\n      <td>NaN</td>\n    </tr>\n  </tbody>\n</table>\n<p>33715 rows × 36 columns</p>\n</div>"
     },
     "metadata": {},
     "execution_count": 2
    }
   ],
   "source": [
    "# listings -> df_anuncios e df_amenities\n",
    "\n",
    "df_listings = pd.read_csv('listings.csv', index_col='id', engine='python', sep =',', encoding=\"utf-8\")\n",
    "df_listings = df_listings[['host_name', 'host_response_time', 'host_response_rate', 'host_is_superhost', 'host_identity_verified', 'neighbourhood', 'zipcode', 'latitude', 'longitude', 'property_type', 'room_type', 'accommodates', 'bathrooms', 'bedrooms', 'beds', 'bed_type', 'amenities', 'price', 'security_deposit', 'cleaning_fee', 'guests_included', 'extra_people', 'minimum_nights', 'maximum_nights', 'number_of_reviews', 'review_scores_rating', 'review_scores_accuracy', 'review_scores_cleanliness', 'review_scores_checkin', 'review_scores_communication', 'review_scores_location', 'review_scores_value', 'instant_bookable', 'cancellation_policy', 'calculated_host_listings_count', 'reviews_per_month']]\n",
    "df_listings"
   ]
  },
  {
   "cell_type": "code",
   "execution_count": 3,
   "metadata": {},
   "outputs": [
    {
     "output_type": "execute_result",
     "data": {
      "text/plain": [
       "                        m2\n",
       "neighbourhood             \n",
       "Abolição              1635\n",
       "Anchieta               965\n",
       "Andaraí               4961\n",
       "Barra da Tijuca       9334\n",
       "Barra de Guaratiba    1401\n",
       "...                    ...\n",
       "Vigário Geral         1025\n",
       "Vila Isabel           5085\n",
       "Vila Kosmos           1541\n",
       "Vila da Penha         1987\n",
       "Vincente de Carvalho  1272\n",
       "\n",
       "[97 rows x 1 columns]"
      ],
      "text/html": "<div>\n<style scoped>\n    .dataframe tbody tr th:only-of-type {\n        vertical-align: middle;\n    }\n\n    .dataframe tbody tr th {\n        vertical-align: top;\n    }\n\n    .dataframe thead th {\n        text-align: right;\n    }\n</style>\n<table border=\"1\" class=\"dataframe\">\n  <thead>\n    <tr style=\"text-align: right;\">\n      <th></th>\n      <th>m2</th>\n    </tr>\n    <tr>\n      <th>neighbourhood</th>\n      <th></th>\n    </tr>\n  </thead>\n  <tbody>\n    <tr>\n      <th>Abolição</th>\n      <td>1635</td>\n    </tr>\n    <tr>\n      <th>Anchieta</th>\n      <td>965</td>\n    </tr>\n    <tr>\n      <th>Andaraí</th>\n      <td>4961</td>\n    </tr>\n    <tr>\n      <th>Barra da Tijuca</th>\n      <td>9334</td>\n    </tr>\n    <tr>\n      <th>Barra de Guaratiba</th>\n      <td>1401</td>\n    </tr>\n    <tr>\n      <th>...</th>\n      <td>...</td>\n    </tr>\n    <tr>\n      <th>Vigário Geral</th>\n      <td>1025</td>\n    </tr>\n    <tr>\n      <th>Vila Isabel</th>\n      <td>5085</td>\n    </tr>\n    <tr>\n      <th>Vila Kosmos</th>\n      <td>1541</td>\n    </tr>\n    <tr>\n      <th>Vila da Penha</th>\n      <td>1987</td>\n    </tr>\n    <tr>\n      <th>Vincente de Carvalho</th>\n      <td>1272</td>\n    </tr>\n  </tbody>\n</table>\n<p>97 rows × 1 columns</p>\n</div>"
     },
     "metadata": {},
     "execution_count": 3
    }
   ],
   "source": [
    "# estimativa_m2 -> df_metro_quadrado\n",
    "\n",
    "df_estimativa_m2 = pd.read_csv('estimativa_m2.csv', index_col='neighbourhood', engine='python', sep =',', encoding=\"utf-8\")\n",
    "df_estimativa_m2"
   ]
  },
  {
   "cell_type": "markdown",
   "metadata": {},
   "source": [
    "## Gerando os dataframes"
   ]
  },
  {
   "cell_type": "code",
   "execution_count": 4,
   "metadata": {},
   "outputs": [
    {
     "output_type": "execute_result",
     "data": {
      "text/plain": [
       "                      host_name host_response_time host_response_rate  \\\n",
       "id                                                                      \n",
       "17878                  Matthias     within an hour               100%   \n",
       "25026                   Viviane       within a day                91%   \n",
       "31560                    Renata     within an hour               100%   \n",
       "35636                  Patricia     within an hour               100%   \n",
       "35764  Patricia Miranda & Paulo     within an hour               100%   \n",
       "\n",
       "      host_is_superhost host_identity_verified neighbourhood    zipcode  \\\n",
       "id                                                                        \n",
       "17878                 t                      t    Copacabana  22020-050   \n",
       "25026                 f                      t    Copacabana  22060-020   \n",
       "31560                 t                      t       Ipanema  22410-003   \n",
       "35636                 t                      t       Ipanema  22081-020   \n",
       "35764                 t                      t    Copacabana  21031-300   \n",
       "\n",
       "       latitude  longitude property_type  ... review_scores_accuracy  \\\n",
       "id                                        ...                          \n",
       "17878 -22.96592  -43.17896   Condominium  ...                    9.0   \n",
       "25026 -22.97712  -43.19045     Apartment  ...                    9.0   \n",
       "31560 -22.98302  -43.21427     Apartment  ...                   10.0   \n",
       "35636 -22.98816  -43.19359     Apartment  ...                   10.0   \n",
       "35764 -22.98127  -43.19046          Loft  ...                   10.0   \n",
       "\n",
       "       review_scores_cleanliness  review_scores_checkin  \\\n",
       "id                                                        \n",
       "17878                       10.0                   10.0   \n",
       "25026                       10.0                    9.0   \n",
       "31560                       10.0                   10.0   \n",
       "35636                        9.0                   10.0   \n",
       "35764                       10.0                   10.0   \n",
       "\n",
       "       review_scores_communication  review_scores_location  \\\n",
       "id                                                           \n",
       "17878                         10.0                    10.0   \n",
       "25026                         10.0                    10.0   \n",
       "31560                         10.0                    10.0   \n",
       "35636                         10.0                    10.0   \n",
       "35764                         10.0                    10.0   \n",
       "\n",
       "      review_scores_value instant_bookable          cancellation_policy  \\\n",
       "id                                                                        \n",
       "17878                 9.0                t  strict_14_with_grace_period   \n",
       "25026                 9.0                f  strict_14_with_grace_period   \n",
       "31560                10.0                t  strict_14_with_grace_period   \n",
       "35636                 9.0                f  strict_14_with_grace_period   \n",
       "35764                10.0                f  strict_14_with_grace_period   \n",
       "\n",
       "      calculated_host_listings_count  reviews_per_month  \n",
       "id                                                       \n",
       "17878                              1               2.13  \n",
       "25026                              3               2.04  \n",
       "31560                              1               2.38  \n",
       "35636                              1               2.28  \n",
       "35764                              1               2.84  \n",
       "\n",
       "[5 rows x 35 columns]"
      ],
      "text/html": "<div>\n<style scoped>\n    .dataframe tbody tr th:only-of-type {\n        vertical-align: middle;\n    }\n\n    .dataframe tbody tr th {\n        vertical-align: top;\n    }\n\n    .dataframe thead th {\n        text-align: right;\n    }\n</style>\n<table border=\"1\" class=\"dataframe\">\n  <thead>\n    <tr style=\"text-align: right;\">\n      <th></th>\n      <th>host_name</th>\n      <th>host_response_time</th>\n      <th>host_response_rate</th>\n      <th>host_is_superhost</th>\n      <th>host_identity_verified</th>\n      <th>neighbourhood</th>\n      <th>zipcode</th>\n      <th>latitude</th>\n      <th>longitude</th>\n      <th>property_type</th>\n      <th>...</th>\n      <th>review_scores_accuracy</th>\n      <th>review_scores_cleanliness</th>\n      <th>review_scores_checkin</th>\n      <th>review_scores_communication</th>\n      <th>review_scores_location</th>\n      <th>review_scores_value</th>\n      <th>instant_bookable</th>\n      <th>cancellation_policy</th>\n      <th>calculated_host_listings_count</th>\n      <th>reviews_per_month</th>\n    </tr>\n    <tr>\n      <th>id</th>\n      <th></th>\n      <th></th>\n      <th></th>\n      <th></th>\n      <th></th>\n      <th></th>\n      <th></th>\n      <th></th>\n      <th></th>\n      <th></th>\n      <th></th>\n      <th></th>\n      <th></th>\n      <th></th>\n      <th></th>\n      <th></th>\n      <th></th>\n      <th></th>\n      <th></th>\n      <th></th>\n      <th></th>\n    </tr>\n  </thead>\n  <tbody>\n    <tr>\n      <th>17878</th>\n      <td>Matthias</td>\n      <td>within an hour</td>\n      <td>100%</td>\n      <td>t</td>\n      <td>t</td>\n      <td>Copacabana</td>\n      <td>22020-050</td>\n      <td>-22.96592</td>\n      <td>-43.17896</td>\n      <td>Condominium</td>\n      <td>...</td>\n      <td>9.0</td>\n      <td>10.0</td>\n      <td>10.0</td>\n      <td>10.0</td>\n      <td>10.0</td>\n      <td>9.0</td>\n      <td>t</td>\n      <td>strict_14_with_grace_period</td>\n      <td>1</td>\n      <td>2.13</td>\n    </tr>\n    <tr>\n      <th>25026</th>\n      <td>Viviane</td>\n      <td>within a day</td>\n      <td>91%</td>\n      <td>f</td>\n      <td>t</td>\n      <td>Copacabana</td>\n      <td>22060-020</td>\n      <td>-22.97712</td>\n      <td>-43.19045</td>\n      <td>Apartment</td>\n      <td>...</td>\n      <td>9.0</td>\n      <td>10.0</td>\n      <td>9.0</td>\n      <td>10.0</td>\n      <td>10.0</td>\n      <td>9.0</td>\n      <td>f</td>\n      <td>strict_14_with_grace_period</td>\n      <td>3</td>\n      <td>2.04</td>\n    </tr>\n    <tr>\n      <th>31560</th>\n      <td>Renata</td>\n      <td>within an hour</td>\n      <td>100%</td>\n      <td>t</td>\n      <td>t</td>\n      <td>Ipanema</td>\n      <td>22410-003</td>\n      <td>-22.98302</td>\n      <td>-43.21427</td>\n      <td>Apartment</td>\n      <td>...</td>\n      <td>10.0</td>\n      <td>10.0</td>\n      <td>10.0</td>\n      <td>10.0</td>\n      <td>10.0</td>\n      <td>10.0</td>\n      <td>t</td>\n      <td>strict_14_with_grace_period</td>\n      <td>1</td>\n      <td>2.38</td>\n    </tr>\n    <tr>\n      <th>35636</th>\n      <td>Patricia</td>\n      <td>within an hour</td>\n      <td>100%</td>\n      <td>t</td>\n      <td>t</td>\n      <td>Ipanema</td>\n      <td>22081-020</td>\n      <td>-22.98816</td>\n      <td>-43.19359</td>\n      <td>Apartment</td>\n      <td>...</td>\n      <td>10.0</td>\n      <td>9.0</td>\n      <td>10.0</td>\n      <td>10.0</td>\n      <td>10.0</td>\n      <td>9.0</td>\n      <td>f</td>\n      <td>strict_14_with_grace_period</td>\n      <td>1</td>\n      <td>2.28</td>\n    </tr>\n    <tr>\n      <th>35764</th>\n      <td>Patricia Miranda &amp; Paulo</td>\n      <td>within an hour</td>\n      <td>100%</td>\n      <td>t</td>\n      <td>t</td>\n      <td>Copacabana</td>\n      <td>21031-300</td>\n      <td>-22.98127</td>\n      <td>-43.19046</td>\n      <td>Loft</td>\n      <td>...</td>\n      <td>10.0</td>\n      <td>10.0</td>\n      <td>10.0</td>\n      <td>10.0</td>\n      <td>10.0</td>\n      <td>10.0</td>\n      <td>f</td>\n      <td>strict_14_with_grace_period</td>\n      <td>1</td>\n      <td>2.84</td>\n    </tr>\n  </tbody>\n</table>\n<p>5 rows × 35 columns</p>\n</div>"
     },
     "metadata": {},
     "execution_count": 4
    }
   ],
   "source": [
    "# Gerando df_anuncios\n",
    "\n",
    "df_anuncios = df_listings.drop('amenities', axis=1)\n",
    "df_anuncios.head()"
   ]
  },
  {
   "cell_type": "code",
   "execution_count": 5,
   "metadata": {},
   "outputs": [
    {
     "output_type": "execute_result",
     "data": {
      "text/plain": [
       "       24-hour_check-in  Accessible-height_bed  Accessible-height_toilet  \\\n",
       "id                                                                         \n",
       "17878                 1                      0                         0   \n",
       "25026                 0                      0                         0   \n",
       "31560                 0                      0                         0   \n",
       "35636                 0                      0                         0   \n",
       "35764                 0                      1                         1   \n",
       "\n",
       "       Air_conditioning  Amazon_Echo  BBQ_grill  Baby_bath  Baby_monitor  \\\n",
       "id                                                                         \n",
       "17878                 1            0          0          0             0   \n",
       "25026                 1            0          0          0             0   \n",
       "31560                 1            0          0          0             0   \n",
       "35636                 1            0          0          0             0   \n",
       "35764                 1            0          0          0             0   \n",
       "\n",
       "       Babysitter_recommendations  Balcony  ...  Wide_entrance  \\\n",
       "id                                          ...                  \n",
       "17878                           0        0  ...              0   \n",
       "25026                           0        0  ...              0   \n",
       "31560                           0        0  ...              0   \n",
       "35636                           0        0  ...              0   \n",
       "35764                           0        0  ...              0   \n",
       "\n",
       "       Wide_entrance_for_guests  Wide_entryway  Wide_hallways  Wifi  \\\n",
       "id                                                                    \n",
       "17878                         0              0              0     1   \n",
       "25026                         0              0              0     1   \n",
       "31560                         0              0              0     1   \n",
       "35636                         0              0              0     1   \n",
       "35764                         1              1              0     1   \n",
       "\n",
       "       Window_guards  Wine_cooler  _toilet  \\\n",
       "id                                           \n",
       "17878              0            0        0   \n",
       "25026              0            0        0   \n",
       "31560              0            0        0   \n",
       "35636              0            0        0   \n",
       "35764              0            0        0   \n",
       "\n",
       "       translation_missing:_en.hosting_amenity_49  \\\n",
       "id                                                  \n",
       "17878                                           0   \n",
       "25026                                           0   \n",
       "31560                                           1   \n",
       "35636                                           0   \n",
       "35764                                           0   \n",
       "\n",
       "       translation_missing:_en.hosting_amenity_50  \n",
       "id                                                 \n",
       "17878                                           0  \n",
       "25026                                           0  \n",
       "31560                                           1  \n",
       "35636                                           0  \n",
       "35764                                           1  \n",
       "\n",
       "[5 rows x 168 columns]"
      ],
      "text/html": "<div>\n<style scoped>\n    .dataframe tbody tr th:only-of-type {\n        vertical-align: middle;\n    }\n\n    .dataframe tbody tr th {\n        vertical-align: top;\n    }\n\n    .dataframe thead th {\n        text-align: right;\n    }\n</style>\n<table border=\"1\" class=\"dataframe\">\n  <thead>\n    <tr style=\"text-align: right;\">\n      <th></th>\n      <th>24-hour_check-in</th>\n      <th>Accessible-height_bed</th>\n      <th>Accessible-height_toilet</th>\n      <th>Air_conditioning</th>\n      <th>Amazon_Echo</th>\n      <th>BBQ_grill</th>\n      <th>Baby_bath</th>\n      <th>Baby_monitor</th>\n      <th>Babysitter_recommendations</th>\n      <th>Balcony</th>\n      <th>...</th>\n      <th>Wide_entrance</th>\n      <th>Wide_entrance_for_guests</th>\n      <th>Wide_entryway</th>\n      <th>Wide_hallways</th>\n      <th>Wifi</th>\n      <th>Window_guards</th>\n      <th>Wine_cooler</th>\n      <th>_toilet</th>\n      <th>translation_missing:_en.hosting_amenity_49</th>\n      <th>translation_missing:_en.hosting_amenity_50</th>\n    </tr>\n    <tr>\n      <th>id</th>\n      <th></th>\n      <th></th>\n      <th></th>\n      <th></th>\n      <th></th>\n      <th></th>\n      <th></th>\n      <th></th>\n      <th></th>\n      <th></th>\n      <th></th>\n      <th></th>\n      <th></th>\n      <th></th>\n      <th></th>\n      <th></th>\n      <th></th>\n      <th></th>\n      <th></th>\n      <th></th>\n      <th></th>\n    </tr>\n  </thead>\n  <tbody>\n    <tr>\n      <th>17878</th>\n      <td>1</td>\n      <td>0</td>\n      <td>0</td>\n      <td>1</td>\n      <td>0</td>\n      <td>0</td>\n      <td>0</td>\n      <td>0</td>\n      <td>0</td>\n      <td>0</td>\n      <td>...</td>\n      <td>0</td>\n      <td>0</td>\n      <td>0</td>\n      <td>0</td>\n      <td>1</td>\n      <td>0</td>\n      <td>0</td>\n      <td>0</td>\n      <td>0</td>\n      <td>0</td>\n    </tr>\n    <tr>\n      <th>25026</th>\n      <td>0</td>\n      <td>0</td>\n      <td>0</td>\n      <td>1</td>\n      <td>0</td>\n      <td>0</td>\n      <td>0</td>\n      <td>0</td>\n      <td>0</td>\n      <td>0</td>\n      <td>...</td>\n      <td>0</td>\n      <td>0</td>\n      <td>0</td>\n      <td>0</td>\n      <td>1</td>\n      <td>0</td>\n      <td>0</td>\n      <td>0</td>\n      <td>0</td>\n      <td>0</td>\n    </tr>\n    <tr>\n      <th>31560</th>\n      <td>0</td>\n      <td>0</td>\n      <td>0</td>\n      <td>1</td>\n      <td>0</td>\n      <td>0</td>\n      <td>0</td>\n      <td>0</td>\n      <td>0</td>\n      <td>0</td>\n      <td>...</td>\n      <td>0</td>\n      <td>0</td>\n      <td>0</td>\n      <td>0</td>\n      <td>1</td>\n      <td>0</td>\n      <td>0</td>\n      <td>0</td>\n      <td>1</td>\n      <td>1</td>\n    </tr>\n    <tr>\n      <th>35636</th>\n      <td>0</td>\n      <td>0</td>\n      <td>0</td>\n      <td>1</td>\n      <td>0</td>\n      <td>0</td>\n      <td>0</td>\n      <td>0</td>\n      <td>0</td>\n      <td>0</td>\n      <td>...</td>\n      <td>0</td>\n      <td>0</td>\n      <td>0</td>\n      <td>0</td>\n      <td>1</td>\n      <td>0</td>\n      <td>0</td>\n      <td>0</td>\n      <td>0</td>\n      <td>0</td>\n    </tr>\n    <tr>\n      <th>35764</th>\n      <td>0</td>\n      <td>1</td>\n      <td>1</td>\n      <td>1</td>\n      <td>0</td>\n      <td>0</td>\n      <td>0</td>\n      <td>0</td>\n      <td>0</td>\n      <td>0</td>\n      <td>...</td>\n      <td>0</td>\n      <td>1</td>\n      <td>1</td>\n      <td>0</td>\n      <td>1</td>\n      <td>0</td>\n      <td>0</td>\n      <td>0</td>\n      <td>0</td>\n      <td>1</td>\n    </tr>\n  </tbody>\n</table>\n<p>5 rows × 168 columns</p>\n</div>"
     },
     "metadata": {},
     "execution_count": 5
    }
   ],
   "source": [
    "# Gerando df_amenities\n",
    "\n",
    "df_amenities = df_listings['amenities']\n",
    "df_amenities = df_amenities.str.strip('}{').str.replace(' ', '_').str.replace('\"', '').str.split(',')\n",
    "mlb = MultiLabelBinarizer()\n",
    "df_amenities = pd.DataFrame(\n",
    "        mlb.fit_transform(df_amenities),\n",
    "        index=df_amenities.index,\n",
    "        columns=mlb.classes_)\n",
    "df_amenities.drop(columns='', inplace=True)\n",
    "df_amenities.head()"
   ]
  },
  {
   "cell_type": "code",
   "execution_count": 6,
   "metadata": {},
   "outputs": [
    {
     "output_type": "execute_result",
     "data": {
      "text/plain": [
       "                    m2\n",
       "neighbourhood         \n",
       "Leblon           23625\n",
       "Ipanema          20908\n",
       "Lagoa            15616\n",
       "Jardim Botânico  14269\n",
       "Gávea            13814"
      ],
      "text/html": "<div>\n<style scoped>\n    .dataframe tbody tr th:only-of-type {\n        vertical-align: middle;\n    }\n\n    .dataframe tbody tr th {\n        vertical-align: top;\n    }\n\n    .dataframe thead th {\n        text-align: right;\n    }\n</style>\n<table border=\"1\" class=\"dataframe\">\n  <thead>\n    <tr style=\"text-align: right;\">\n      <th></th>\n      <th>m2</th>\n    </tr>\n    <tr>\n      <th>neighbourhood</th>\n      <th></th>\n    </tr>\n  </thead>\n  <tbody>\n    <tr>\n      <th>Leblon</th>\n      <td>23625</td>\n    </tr>\n    <tr>\n      <th>Ipanema</th>\n      <td>20908</td>\n    </tr>\n    <tr>\n      <th>Lagoa</th>\n      <td>15616</td>\n    </tr>\n    <tr>\n      <th>Jardim Botânico</th>\n      <td>14269</td>\n    </tr>\n    <tr>\n      <th>Gávea</th>\n      <td>13814</td>\n    </tr>\n  </tbody>\n</table>\n</div>"
     },
     "metadata": {},
     "execution_count": 6
    }
   ],
   "source": [
    "# Gerando df_metro_quadrado\n",
    "\n",
    "df_metro_quadrado = pd.DataFrame(data=df_estimativa_m2)\n",
    "df_metro_quadrado.sort_values('m2', ascending=False, inplace=True)\n",
    "df_metro_quadrado.head()"
   ]
  },
  {
   "cell_type": "markdown",
   "metadata": {},
   "source": [
    "## Salvando os dataframes resultantes para as próximas etapas"
   ]
  },
  {
   "cell_type": "code",
   "execution_count": 7,
   "metadata": {},
   "outputs": [],
   "source": [
    "df_anuncios.to_csv('anuncios.csv')"
   ]
  },
  {
   "cell_type": "code",
   "execution_count": 8,
   "metadata": {},
   "outputs": [],
   "source": [
    "df_amenities.to_csv('amenities.csv')"
   ]
  },
  {
   "cell_type": "code",
   "execution_count": 9,
   "metadata": {},
   "outputs": [],
   "source": [
    "df_metro_quadrado.to_csv('metro_quadrado.csv')"
   ]
  },
  {
   "cell_type": "code",
   "execution_count": null,
   "metadata": {},
   "outputs": [],
   "source": []
  }
 ],
 "metadata": {
  "kernelspec": {
   "display_name": "Python 3",
   "language": "python",
   "name": "python3"
  },
  "language_info": {
   "codemirror_mode": {
    "name": "ipython",
    "version": 3
   },
   "file_extension": ".py",
   "mimetype": "text/x-python",
   "name": "python",
   "nbconvert_exporter": "python",
   "pygments_lexer": "ipython3",
   "version": "3.8.3-final"
  }
 },
 "nbformat": 4,
 "nbformat_minor": 4
}